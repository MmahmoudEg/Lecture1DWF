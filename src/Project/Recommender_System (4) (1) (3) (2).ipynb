{
 "cells": [
  {
   "cell_type": "markdown",
   "id": "4ec18b48870846e6",
   "metadata": {},
   "source": [
    "# Amazon Sales Dataset Recommendation System using Collaborative Filtering and Autoencoders\n",
    "\n",
    "**Group members:**\n",
    "- Tasneem Shaheen, 107279\n",
    "- Mostafa Khalid 106699\n",
    "- Medhansh Ahuja 105982\n",
    "\n",
    "The aim for this project is to Build a recommender system to predict user ratings and recommend top products using two approaches: Collaborative Filtering (CF) and Autoencoders."
   ]
  },
  {
   "cell_type": "markdown",
   "id": "fd68c4cd354540cd",
   "metadata": {},
   "source": [
    "## Data Processing\n",
    "### Load scraped data"
   ]
  },
  {
   "cell_type": "code",
   "execution_count": 3,
   "id": "b6ef20a389fe5f67",
   "metadata": {
    "ExecuteTime": {
     "end_time": "2025-05-21T22:09:46.923039Z",
     "start_time": "2025-05-21T22:09:46.920635Z"
    }
   },
   "outputs": [],
   "source": [
    "# For all the imports we have\n",
    "import pandas as pd\n",
    "from sklearn.preprocessing import LabelEncoder\n",
    "import matplotlib.pyplot as plt\n",
    "import seaborn as sns"
   ]
  },
  {
   "cell_type": "code",
   "execution_count": 4,
   "id": "a8b4bea9a5c710e3",
   "metadata": {
    "ExecuteTime": {
     "end_time": "2025-05-21T22:09:46.963166Z",
     "start_time": "2025-05-21T22:09:46.927376Z"
    }
   },
   "outputs": [
    {
     "name": "stderr",
     "output_type": "stream",
     "text": [
      "C:\\Users\\Mosta\\AppData\\Local\\Temp\\ipykernel_39364\\941582169.py:1: DtypeWarning: Columns (1,2,4,5,6,7,8,9,10,11,12,13,14,15,16) have mixed types. Specify dtype option on import or set low_memory=False.\n",
      "  df = pd.read_csv('amazon2.csv')\n"
     ]
    }
   ],
   "source": [
    "df = pd.read_csv('amazon2.csv')"
   ]
  },
  {
   "cell_type": "code",
   "execution_count": 5,
   "id": "9636be914ec50624",
   "metadata": {
    "ExecuteTime": {
     "end_time": "2025-05-21T22:09:46.978608Z",
     "start_time": "2025-05-21T22:09:46.976253Z"
    }
   },
   "outputs": [
    {
     "name": "stdout",
     "output_type": "stream",
     "text": [
      "Dataset shape: (2587373, 17)\n",
      "Number of unique products id: 7705\n"
     ]
    }
   ],
   "source": [
    "# Display basic info\n",
    "print(f\"Dataset shape: {df.shape}\")\n",
    "print(f\"Number of unique products id: {df['product_id'].nunique()}\") #"
   ]
  },
  {
   "cell_type": "code",
   "execution_count": 6,
   "id": "43de3088a0c09063",
   "metadata": {
    "ExecuteTime": {
     "end_time": "2025-05-21T22:09:46.996092Z",
     "start_time": "2025-05-21T22:09:46.991281Z"
    }
   },
   "outputs": [
    {
     "data": {
      "text/html": [
       "<div>\n",
       "<style scoped>\n",
       "    .dataframe tbody tr th:only-of-type {\n",
       "        vertical-align: middle;\n",
       "    }\n",
       "\n",
       "    .dataframe tbody tr th {\n",
       "        vertical-align: top;\n",
       "    }\n",
       "\n",
       "    .dataframe thead th {\n",
       "        text-align: right;\n",
       "    }\n",
       "</style>\n",
       "<table border=\"1\" class=\"dataframe\">\n",
       "  <thead>\n",
       "    <tr style=\"text-align: right;\">\n",
       "      <th></th>\n",
       "      <th>product_id</th>\n",
       "      <th>product_name</th>\n",
       "      <th>category</th>\n",
       "      <th>Unnamed: 3</th>\n",
       "      <th>discounted_price</th>\n",
       "      <th>actual_price</th>\n",
       "      <th>discount_percentage</th>\n",
       "      <th>rating</th>\n",
       "      <th>rating_count</th>\n",
       "      <th>about_product</th>\n",
       "      <th>user_id</th>\n",
       "      <th>user_name</th>\n",
       "      <th>review_id</th>\n",
       "      <th>review_title</th>\n",
       "      <th>review_content</th>\n",
       "      <th>img_link</th>\n",
       "      <th>product_link</th>\n",
       "    </tr>\n",
       "  </thead>\n",
       "  <tbody>\n",
       "    <tr>\n",
       "      <th>0</th>\n",
       "      <td>B07JW9H4J1</td>\n",
       "      <td>Wayona Nylon Braided USB to Lightning Fast Cha...</td>\n",
       "      <td>Computers&amp;Accessories|Accessories&amp;Peripherals|...</td>\n",
       "      <td>NaN</td>\n",
       "      <td>₹399</td>\n",
       "      <td>₹1,099</td>\n",
       "      <td>64%</td>\n",
       "      <td>4.2</td>\n",
       "      <td>24,269</td>\n",
       "      <td>High Compatibility : Compatible With iPhone 12...</td>\n",
       "      <td>AG3D6O4STAQKAY2UVGEUV46KN35Q,AHMY5CWJMMK5BJRBB...</td>\n",
       "      <td>Manav,Adarsh gupta,Sundeep,S.Sayeed Ahmed,jasp...</td>\n",
       "      <td>R3HXWT0LRP0NMF,R2AJM3LFTLZHFO,R6AQJGUP6P86,R1K...</td>\n",
       "      <td>Satisfied,Charging is really fast,Value for mo...</td>\n",
       "      <td>Looks durable Charging is fine tooNo complains...</td>\n",
       "      <td>https://m.media-amazon.com/images/W/WEBP_40237...</td>\n",
       "      <td>https://www.amazon.in/Wayona-Braided-WN3LG1-Sy...</td>\n",
       "    </tr>\n",
       "    <tr>\n",
       "      <th>1</th>\n",
       "      <td>B098NS6PVG</td>\n",
       "      <td>Ambrane Unbreakable 60W / 3A Fast Charging 1.5...</td>\n",
       "      <td>Computers&amp;Accessories|Accessories&amp;Peripherals|...</td>\n",
       "      <td>NaN</td>\n",
       "      <td>₹199</td>\n",
       "      <td>₹349</td>\n",
       "      <td>43%</td>\n",
       "      <td>4</td>\n",
       "      <td>43,994</td>\n",
       "      <td>Compatible with all Type C enabled devices, be...</td>\n",
       "      <td>AECPFYFQVRUWC3KGNLJIOREFP5LQ,AGYYVPDD7YG7FYNBX...</td>\n",
       "      <td>ArdKn,Nirbhay kumar,Sagar Viswanathan,Asp,Plac...</td>\n",
       "      <td>RGIQEG07R9HS2,R1SMWZQ86XIN8U,R2J3Y1WL29GWDE,RY...</td>\n",
       "      <td>A Good Braided Cable for Your Type C Device,Go...</td>\n",
       "      <td>I ordered this cable to connect my phone to An...</td>\n",
       "      <td>https://m.media-amazon.com/images/W/WEBP_40237...</td>\n",
       "      <td>https://www.amazon.in/Ambrane-Unbreakable-Char...</td>\n",
       "    </tr>\n",
       "    <tr>\n",
       "      <th>2</th>\n",
       "      <td>B096MSW6CT</td>\n",
       "      <td>Sounce Fast Phone Charging Cable &amp; Data Sync U...</td>\n",
       "      <td>Computers&amp;Accessories|Accessories&amp;Peripherals|...</td>\n",
       "      <td>NaN</td>\n",
       "      <td>₹199</td>\n",
       "      <td>₹1,899</td>\n",
       "      <td>90%</td>\n",
       "      <td>3.9</td>\n",
       "      <td>7,928</td>\n",
       "      <td>【 Fast Charger&amp; Data Sync】-With built-in safet...</td>\n",
       "      <td>AGU3BBQ2V2DDAMOAKGFAWDDQ6QHA,AESFLDV2PT363T2AQ...</td>\n",
       "      <td>Kunal,Himanshu,viswanath,sai niharka,saqib mal...</td>\n",
       "      <td>R3J3EQQ9TZI5ZJ,R3E7WBGK7ID0KV,RWU79XKQ6I1QF,R2...</td>\n",
       "      <td>Good speed for earlier versions,Good Product,W...</td>\n",
       "      <td>Not quite durable and sturdy,https://m.media-a...</td>\n",
       "      <td>https://m.media-amazon.com/images/W/WEBP_40237...</td>\n",
       "      <td>https://www.amazon.in/Sounce-iPhone-Charging-C...</td>\n",
       "    </tr>\n",
       "    <tr>\n",
       "      <th>3</th>\n",
       "      <td>B08HDJ86NZ</td>\n",
       "      <td>boAt Deuce USB 300 2 in 1 Type-C &amp; Micro USB S...</td>\n",
       "      <td>Computers&amp;Accessories|Accessories&amp;Peripherals|...</td>\n",
       "      <td>NaN</td>\n",
       "      <td>₹329</td>\n",
       "      <td>₹699</td>\n",
       "      <td>53%</td>\n",
       "      <td>4.2</td>\n",
       "      <td>94,363</td>\n",
       "      <td>The boAt Deuce USB 300 2 in 1 cable is compati...</td>\n",
       "      <td>AEWAZDZZJLQUYVOVGBEUKSLXHQ5A,AG5HTSFRRE6NL3M5S...</td>\n",
       "      <td>Omkar dhale,JD,HEMALATHA,Ajwadh a.,amar singh ...</td>\n",
       "      <td>R3EEUZKKK9J36I,R3HJVYCLYOY554,REDECAZ7AMPQC,R1...</td>\n",
       "      <td>Good product,Good one,Nice,Really nice product...</td>\n",
       "      <td>Good product,long wire,Charges good,Nice,I bou...</td>\n",
       "      <td>https://m.media-amazon.com/images/I/41V5FtEWPk...</td>\n",
       "      <td>https://www.amazon.in/Deuce-300-Resistant-Tang...</td>\n",
       "    </tr>\n",
       "    <tr>\n",
       "      <th>4</th>\n",
       "      <td>B08CF3B7N1</td>\n",
       "      <td>Portronics Konnect L 1.2M Fast Charging 3A 8 P...</td>\n",
       "      <td>Computers&amp;Accessories|Accessories&amp;Peripherals|...</td>\n",
       "      <td>NaN</td>\n",
       "      <td>₹154</td>\n",
       "      <td>₹399</td>\n",
       "      <td>61%</td>\n",
       "      <td>4.2</td>\n",
       "      <td>16,905</td>\n",
       "      <td>[CHARGE &amp; SYNC FUNCTION]- This cable comes wit...</td>\n",
       "      <td>AE3Q6KSUK5P75D5HFYHCRAOLODSA,AFUGIFH5ZAFXRDSZH...</td>\n",
       "      <td>rahuls6099,Swasat Borah,Ajay Wadke,Pranali,RVK...</td>\n",
       "      <td>R1BP4L2HH9TFUP,R16PVJEXKV6QZS,R2UPDB81N66T4P,R...</td>\n",
       "      <td>As good as original,Decent,Good one for second...</td>\n",
       "      <td>Bought this instead of original apple, does th...</td>\n",
       "      <td>https://m.media-amazon.com/images/W/WEBP_40237...</td>\n",
       "      <td>https://www.amazon.in/Portronics-Konnect-POR-1...</td>\n",
       "    </tr>\n",
       "  </tbody>\n",
       "</table>\n",
       "</div>"
      ],
      "text/plain": [
       "   product_id                                       product_name  \\\n",
       "0  B07JW9H4J1  Wayona Nylon Braided USB to Lightning Fast Cha...   \n",
       "1  B098NS6PVG  Ambrane Unbreakable 60W / 3A Fast Charging 1.5...   \n",
       "2  B096MSW6CT  Sounce Fast Phone Charging Cable & Data Sync U...   \n",
       "3  B08HDJ86NZ  boAt Deuce USB 300 2 in 1 Type-C & Micro USB S...   \n",
       "4  B08CF3B7N1  Portronics Konnect L 1.2M Fast Charging 3A 8 P...   \n",
       "\n",
       "                                            category  Unnamed: 3  \\\n",
       "0  Computers&Accessories|Accessories&Peripherals|...         NaN   \n",
       "1  Computers&Accessories|Accessories&Peripherals|...         NaN   \n",
       "2  Computers&Accessories|Accessories&Peripherals|...         NaN   \n",
       "3  Computers&Accessories|Accessories&Peripherals|...         NaN   \n",
       "4  Computers&Accessories|Accessories&Peripherals|...         NaN   \n",
       "\n",
       "  discounted_price actual_price discount_percentage rating rating_count  \\\n",
       "0             ₹399       ₹1,099                 64%    4.2       24,269   \n",
       "1             ₹199         ₹349                 43%      4       43,994   \n",
       "2             ₹199       ₹1,899                 90%    3.9        7,928   \n",
       "3             ₹329         ₹699                 53%    4.2       94,363   \n",
       "4             ₹154         ₹399                 61%    4.2       16,905   \n",
       "\n",
       "                                       about_product  \\\n",
       "0  High Compatibility : Compatible With iPhone 12...   \n",
       "1  Compatible with all Type C enabled devices, be...   \n",
       "2  【 Fast Charger& Data Sync】-With built-in safet...   \n",
       "3  The boAt Deuce USB 300 2 in 1 cable is compati...   \n",
       "4  [CHARGE & SYNC FUNCTION]- This cable comes wit...   \n",
       "\n",
       "                                             user_id  \\\n",
       "0  AG3D6O4STAQKAY2UVGEUV46KN35Q,AHMY5CWJMMK5BJRBB...   \n",
       "1  AECPFYFQVRUWC3KGNLJIOREFP5LQ,AGYYVPDD7YG7FYNBX...   \n",
       "2  AGU3BBQ2V2DDAMOAKGFAWDDQ6QHA,AESFLDV2PT363T2AQ...   \n",
       "3  AEWAZDZZJLQUYVOVGBEUKSLXHQ5A,AG5HTSFRRE6NL3M5S...   \n",
       "4  AE3Q6KSUK5P75D5HFYHCRAOLODSA,AFUGIFH5ZAFXRDSZH...   \n",
       "\n",
       "                                           user_name  \\\n",
       "0  Manav,Adarsh gupta,Sundeep,S.Sayeed Ahmed,jasp...   \n",
       "1  ArdKn,Nirbhay kumar,Sagar Viswanathan,Asp,Plac...   \n",
       "2  Kunal,Himanshu,viswanath,sai niharka,saqib mal...   \n",
       "3  Omkar dhale,JD,HEMALATHA,Ajwadh a.,amar singh ...   \n",
       "4  rahuls6099,Swasat Borah,Ajay Wadke,Pranali,RVK...   \n",
       "\n",
       "                                           review_id  \\\n",
       "0  R3HXWT0LRP0NMF,R2AJM3LFTLZHFO,R6AQJGUP6P86,R1K...   \n",
       "1  RGIQEG07R9HS2,R1SMWZQ86XIN8U,R2J3Y1WL29GWDE,RY...   \n",
       "2  R3J3EQQ9TZI5ZJ,R3E7WBGK7ID0KV,RWU79XKQ6I1QF,R2...   \n",
       "3  R3EEUZKKK9J36I,R3HJVYCLYOY554,REDECAZ7AMPQC,R1...   \n",
       "4  R1BP4L2HH9TFUP,R16PVJEXKV6QZS,R2UPDB81N66T4P,R...   \n",
       "\n",
       "                                        review_title  \\\n",
       "0  Satisfied,Charging is really fast,Value for mo...   \n",
       "1  A Good Braided Cable for Your Type C Device,Go...   \n",
       "2  Good speed for earlier versions,Good Product,W...   \n",
       "3  Good product,Good one,Nice,Really nice product...   \n",
       "4  As good as original,Decent,Good one for second...   \n",
       "\n",
       "                                      review_content  \\\n",
       "0  Looks durable Charging is fine tooNo complains...   \n",
       "1  I ordered this cable to connect my phone to An...   \n",
       "2  Not quite durable and sturdy,https://m.media-a...   \n",
       "3  Good product,long wire,Charges good,Nice,I bou...   \n",
       "4  Bought this instead of original apple, does th...   \n",
       "\n",
       "                                            img_link  \\\n",
       "0  https://m.media-amazon.com/images/W/WEBP_40237...   \n",
       "1  https://m.media-amazon.com/images/W/WEBP_40237...   \n",
       "2  https://m.media-amazon.com/images/W/WEBP_40237...   \n",
       "3  https://m.media-amazon.com/images/I/41V5FtEWPk...   \n",
       "4  https://m.media-amazon.com/images/W/WEBP_40237...   \n",
       "\n",
       "                                        product_link  \n",
       "0  https://www.amazon.in/Wayona-Braided-WN3LG1-Sy...  \n",
       "1  https://www.amazon.in/Ambrane-Unbreakable-Char...  \n",
       "2  https://www.amazon.in/Sounce-iPhone-Charging-C...  \n",
       "3  https://www.amazon.in/Deuce-300-Resistant-Tang...  \n",
       "4  https://www.amazon.in/Portronics-Konnect-POR-1...  "
      ]
     },
     "execution_count": 6,
     "metadata": {},
     "output_type": "execute_result"
    }
   ],
   "source": [
    "# Display the first few rows\n",
    "df.head()"
   ]
  },
  {
   "cell_type": "code",
   "execution_count": 7,
   "id": "ceb81de364a95f2a",
   "metadata": {
    "ExecuteTime": {
     "end_time": "2025-05-21T22:09:47.027737Z",
     "start_time": "2025-05-21T22:09:47.023976Z"
    }
   },
   "outputs": [
    {
     "name": "stdout",
     "output_type": "stream",
     "text": [
      "<class 'pandas.core.frame.DataFrame'>\n",
      "RangeIndex: 2587373 entries, 0 to 2587372\n",
      "Data columns (total 17 columns):\n",
      " #   Column               Dtype  \n",
      "---  ------               -----  \n",
      " 0   product_id           object \n",
      " 1   product_name         object \n",
      " 2   category             object \n",
      " 3   Unnamed: 3           float64\n",
      " 4   discounted_price     object \n",
      " 5   actual_price         object \n",
      " 6   discount_percentage  object \n",
      " 7   rating               object \n",
      " 8   rating_count         object \n",
      " 9   about_product        object \n",
      " 10  user_id              object \n",
      " 11  user_name            object \n",
      " 12  review_id            object \n",
      " 13  review_title         object \n",
      " 14  review_content       object \n",
      " 15  img_link             object \n",
      " 16  product_link         object \n",
      "dtypes: float64(1), object(16)\n",
      "memory usage: 335.6+ MB\n"
     ]
    }
   ],
   "source": [
    "# Get basic information about the dataset\n",
    "df.info()"
   ]
  },
  {
   "cell_type": "code",
   "execution_count": 8,
   "id": "eb75b372c26f5588",
   "metadata": {
    "ExecuteTime": {
     "end_time": "2025-05-21T22:09:47.061092Z",
     "start_time": "2025-05-21T22:09:47.047066Z"
    }
   },
   "outputs": [
    {
     "data": {
      "text/html": [
       "<div>\n",
       "<style scoped>\n",
       "    .dataframe tbody tr th:only-of-type {\n",
       "        vertical-align: middle;\n",
       "    }\n",
       "\n",
       "    .dataframe tbody tr th {\n",
       "        vertical-align: top;\n",
       "    }\n",
       "\n",
       "    .dataframe thead th {\n",
       "        text-align: right;\n",
       "    }\n",
       "</style>\n",
       "<table border=\"1\" class=\"dataframe\">\n",
       "  <thead>\n",
       "    <tr style=\"text-align: right;\">\n",
       "      <th></th>\n",
       "      <th>Unnamed: 3</th>\n",
       "    </tr>\n",
       "  </thead>\n",
       "  <tbody>\n",
       "    <tr>\n",
       "      <th>count</th>\n",
       "      <td>0.0</td>\n",
       "    </tr>\n",
       "    <tr>\n",
       "      <th>mean</th>\n",
       "      <td>NaN</td>\n",
       "    </tr>\n",
       "    <tr>\n",
       "      <th>std</th>\n",
       "      <td>NaN</td>\n",
       "    </tr>\n",
       "    <tr>\n",
       "      <th>min</th>\n",
       "      <td>NaN</td>\n",
       "    </tr>\n",
       "    <tr>\n",
       "      <th>25%</th>\n",
       "      <td>NaN</td>\n",
       "    </tr>\n",
       "    <tr>\n",
       "      <th>50%</th>\n",
       "      <td>NaN</td>\n",
       "    </tr>\n",
       "    <tr>\n",
       "      <th>75%</th>\n",
       "      <td>NaN</td>\n",
       "    </tr>\n",
       "    <tr>\n",
       "      <th>max</th>\n",
       "      <td>NaN</td>\n",
       "    </tr>\n",
       "  </tbody>\n",
       "</table>\n",
       "</div>"
      ],
      "text/plain": [
       "       Unnamed: 3\n",
       "count         0.0\n",
       "mean          NaN\n",
       "std           NaN\n",
       "min           NaN\n",
       "25%           NaN\n",
       "50%           NaN\n",
       "75%           NaN\n",
       "max           NaN"
      ]
     },
     "execution_count": 8,
     "metadata": {},
     "output_type": "execute_result"
    }
   ],
   "source": [
    "# Get summary statistics for numerical columns\n",
    "df.describe()"
   ]
  },
  {
   "cell_type": "code",
   "execution_count": 9,
   "id": "3902d2d4-030d-4ee6-9ccf-2b0daa8cabcd",
   "metadata": {},
   "outputs": [
    {
     "name": "stderr",
     "output_type": "stream",
     "text": [
      "C:\\Users\\Mosta\\AppData\\Local\\Temp\\ipykernel_39364\\2070778007.py:7: FutureWarning: \n",
      "\n",
      "Passing `palette` without assigning `hue` is deprecated and will be removed in v0.14.0. Assign the `x` variable to `hue` and set `legend=False` for the same effect.\n",
      "\n",
      "  sns.barplot(x='rating_count', y='product_name', data=top_products, palette=\"magma\")\n",
      "C:\\Users\\Mosta\\AppData\\Local\\Temp\\ipykernel_39364\\2070778007.py:12: UserWarning: Tight layout not applied. The left and right margins cannot be made large enough to accommodate all axes decorations.\n",
      "  plt.tight_layout()\n"
     ]
    },
    {
     "data": {
      "image/png": "[encoded data removed]",
      "text/plain": [
       "<Figure size 1200x800 with 1 Axes>"
      ]
     },
     "metadata": {},
     "output_type": "display_data"
    }
   ],
   "source": [
    "# Top 10 products by rating count\n",
    "\n",
    "\n",
    "top_products = df.sort_values(by='rating_count', ascending=True).head(10)\n",
    "\n",
    "plt.figure(figsize=(12, 8))\n",
    "sns.barplot(x='rating_count', y='product_name', data=top_products, palette=\"magma\")\n",
    "plt.title(\"Top 10 Most Reviewed Products\")\n",
    "plt.xlabel(\"Number of Ratings\")\n",
    "plt.ylabel(\"Product Name\")\n",
    "plt.grid(axis=\"x\", linestyle=\"--\")\n",
    "plt.tight_layout()\n",
    "plt.show()"
   ]
  },
  {
   "cell_type": "code",
   "execution_count": 10,
   "id": "f8496cbdd10826e1",
   "metadata": {
    "ExecuteTime": {
     "end_time": "2025-05-21T22:09:47.088543Z",
     "start_time": "2025-05-21T22:09:47.086276Z"
    }
   },
   "outputs": [
    {
     "name": "stdout",
     "output_type": "stream",
     "text": [
      "\n",
      "Checking for missing values in user_id, product_id, and rating columns:\n",
      "Missing values in user_id: 2585908\n",
      "Missing values in product_id: 0\n",
      "Missing values in rating: 2585908\n"
     ]
    }
   ],
   "source": [
    "# Check for missing values in specified columns\n",
    "print(\"\\nChecking for missing values in user_id, product_id, and rating columns:\")\n",
    "for col in ['user_id', 'product_id', 'rating']:\n",
    "    missing_values = df[col].isnull().sum()\n",
    "    print(f\"Missing values in {col}: {missing_values}\")"
   ]
  },
  {
   "cell_type": "code",
   "execution_count": 11,
   "id": "9aaa0979bd003a0d",
   "metadata": {
    "ExecuteTime": {
     "end_time": "2025-05-21T22:09:47.119496Z",
     "start_time": "2025-05-21T22:09:47.108942Z"
    }
   },
   "outputs": [
    {
     "name": "stdout",
     "output_type": "stream",
     "text": [
      "\n",
      "Checking for duplicate rows:\n",
      "Number of duplicate rows: 2579554\n"
     ]
    }
   ],
   "source": [
    "# Check for duplicate rows\n",
    "print(\"\\nChecking for duplicate rows:\")\n",
    "duplicates = df.duplicated().sum()\n",
    "print(f\"Number of duplicate rows: {duplicates}\")"
   ]
  },
  {
   "cell_type": "markdown",
   "id": "b2a911053d35d8e4",
   "metadata": {},
   "source": [
    "## Data Preprocessing"
   ]
  },
  {
   "cell_type": "code",
   "execution_count": 13,
   "id": "3ef93714d7f39a69",
   "metadata": {
    "ExecuteTime": {
     "end_time": "2025-05-21T22:09:47.128001Z",
     "start_time": "2025-05-21T22:09:47.126020Z"
    }
   },
   "outputs": [],
   "source": [
    "df['rating'] = pd.to_numeric(df['rating'], errors='coerce')"
   ]
  },
  {
   "cell_type": "code",
   "execution_count": 14,
   "id": "ffdcbec977f083ba",
   "metadata": {
    "ExecuteTime": {
     "end_time": "2025-05-21T22:09:47.150946Z",
     "start_time": "2025-05-21T22:09:47.145709Z"
    }
   },
   "outputs": [
    {
     "data": {
      "text/html": [
       "<div>\n",
       "<style scoped>\n",
       "    .dataframe tbody tr th:only-of-type {\n",
       "        vertical-align: middle;\n",
       "    }\n",
       "\n",
       "    .dataframe tbody tr th {\n",
       "        vertical-align: top;\n",
       "    }\n",
       "\n",
       "    .dataframe thead th {\n",
       "        text-align: right;\n",
       "    }\n",
       "</style>\n",
       "<table border=\"1\" class=\"dataframe\">\n",
       "  <thead>\n",
       "    <tr style=\"text-align: right;\">\n",
       "      <th></th>\n",
       "      <th>user_id</th>\n",
       "      <th>product_id</th>\n",
       "      <th>rating</th>\n",
       "    </tr>\n",
       "  </thead>\n",
       "  <tbody>\n",
       "    <tr>\n",
       "      <th>0</th>\n",
       "      <td>AG3D6O4STAQKAY2UVGEUV46KN35Q,AHMY5CWJMMK5BJRBB...</td>\n",
       "      <td>B07JW9H4J1</td>\n",
       "      <td>4.2</td>\n",
       "    </tr>\n",
       "    <tr>\n",
       "      <th>1</th>\n",
       "      <td>AECPFYFQVRUWC3KGNLJIOREFP5LQ,AGYYVPDD7YG7FYNBX...</td>\n",
       "      <td>B098NS6PVG</td>\n",
       "      <td>4.0</td>\n",
       "    </tr>\n",
       "    <tr>\n",
       "      <th>2</th>\n",
       "      <td>AGU3BBQ2V2DDAMOAKGFAWDDQ6QHA,AESFLDV2PT363T2AQ...</td>\n",
       "      <td>B096MSW6CT</td>\n",
       "      <td>3.9</td>\n",
       "    </tr>\n",
       "    <tr>\n",
       "      <th>3</th>\n",
       "      <td>AEWAZDZZJLQUYVOVGBEUKSLXHQ5A,AG5HTSFRRE6NL3M5S...</td>\n",
       "      <td>B08HDJ86NZ</td>\n",
       "      <td>4.2</td>\n",
       "    </tr>\n",
       "    <tr>\n",
       "      <th>4</th>\n",
       "      <td>AE3Q6KSUK5P75D5HFYHCRAOLODSA,AFUGIFH5ZAFXRDSZH...</td>\n",
       "      <td>B08CF3B7N1</td>\n",
       "      <td>4.2</td>\n",
       "    </tr>\n",
       "  </tbody>\n",
       "</table>\n",
       "</div>"
      ],
      "text/plain": [
       "                                             user_id  product_id  rating\n",
       "0  AG3D6O4STAQKAY2UVGEUV46KN35Q,AHMY5CWJMMK5BJRBB...  B07JW9H4J1     4.2\n",
       "1  AECPFYFQVRUWC3KGNLJIOREFP5LQ,AGYYVPDD7YG7FYNBX...  B098NS6PVG     4.0\n",
       "2  AGU3BBQ2V2DDAMOAKGFAWDDQ6QHA,AESFLDV2PT363T2AQ...  B096MSW6CT     3.9\n",
       "3  AEWAZDZZJLQUYVOVGBEUKSLXHQ5A,AG5HTSFRRE6NL3M5S...  B08HDJ86NZ     4.2\n",
       "4  AE3Q6KSUK5P75D5HFYHCRAOLODSA,AFUGIFH5ZAFXRDSZH...  B08CF3B7N1     4.2"
      ]
     },
     "execution_count": 14,
     "metadata": {},
     "output_type": "execute_result"
    }
   ],
   "source": [
    "products = df[['product_id', 'product_name']].drop_duplicates().set_index('product_id')\n",
    "data = df[['user_id', 'product_id', 'rating']]\n",
    "\n",
    "data.head()"
   ]
  },
  {
   "cell_type": "markdown",
   "id": "c6b3047a3a4fa4d9",
   "metadata": {},
   "source": [
    "### Data Transformation\n"
   ]
  },
  {
   "cell_type": "code",
   "execution_count": 16,
   "id": "af26690edae92c41",
   "metadata": {
    "ExecuteTime": {
     "end_time": "2025-05-21T22:09:47.187301Z",
     "start_time": "2025-05-21T22:09:47.180952Z"
    }
   },
   "outputs": [
    {
     "data": {
      "text/html": [
       "<div>\n",
       "<style scoped>\n",
       "    .dataframe tbody tr th:only-of-type {\n",
       "        vertical-align: middle;\n",
       "    }\n",
       "\n",
       "    .dataframe tbody tr th {\n",
       "        vertical-align: top;\n",
       "    }\n",
       "\n",
       "    .dataframe thead th {\n",
       "        text-align: right;\n",
       "    }\n",
       "</style>\n",
       "<table border=\"1\" class=\"dataframe\">\n",
       "  <thead>\n",
       "    <tr style=\"text-align: right;\">\n",
       "      <th></th>\n",
       "      <th>user_id</th>\n",
       "      <th>product_id</th>\n",
       "      <th>rating</th>\n",
       "    </tr>\n",
       "  </thead>\n",
       "  <tbody>\n",
       "    <tr>\n",
       "      <th>0</th>\n",
       "      <td>623</td>\n",
       "      <td>6700</td>\n",
       "      <td>4.2</td>\n",
       "    </tr>\n",
       "    <tr>\n",
       "      <th>1</th>\n",
       "      <td>88</td>\n",
       "      <td>7202</td>\n",
       "      <td>4.0</td>\n",
       "    </tr>\n",
       "    <tr>\n",
       "      <th>2</th>\n",
       "      <td>849</td>\n",
       "      <td>7173</td>\n",
       "      <td>3.9</td>\n",
       "    </tr>\n",
       "    <tr>\n",
       "      <th>3</th>\n",
       "      <td>254</td>\n",
       "      <td>6997</td>\n",
       "      <td>4.2</td>\n",
       "    </tr>\n",
       "    <tr>\n",
       "      <th>4</th>\n",
       "      <td>17</td>\n",
       "      <td>6942</td>\n",
       "      <td>4.2</td>\n",
       "    </tr>\n",
       "  </tbody>\n",
       "</table>\n",
       "</div>"
      ],
      "text/plain": [
       "  user_id product_id  rating\n",
       "0     623       6700     4.2\n",
       "1      88       7202     4.0\n",
       "2     849       7173     3.9\n",
       "3     254       6997     4.2\n",
       "4      17       6942     4.2"
      ]
     },
     "execution_count": 16,
     "metadata": {},
     "output_type": "execute_result"
    }
   ],
   "source": [
    "#Convert Text IDs to Numeric IDs\n",
    "user_enc = LabelEncoder()\n",
    "item_enc = LabelEncoder()\n",
    "\n",
    "data.loc[:, 'user_id'] = user_enc.fit_transform(data['user_id'])\n",
    "data.loc[:, 'product_id'] = item_enc.fit_transform(data['product_id'])\n",
    "\n",
    "data.head()"
   ]
  },
  {
   "cell_type": "code",
   "execution_count": 17,
   "id": "7061bc1e5a92bbec",
   "metadata": {
    "ExecuteTime": {
     "end_time": "2025-05-21T22:09:47.241947Z",
     "start_time": "2025-05-21T22:09:47.221050Z"
    }
   },
   "outputs": [
    {
     "data": {
      "text/html": [
       "<div>\n",
       "<style scoped>\n",
       "    .dataframe tbody tr th:only-of-type {\n",
       "        vertical-align: middle;\n",
       "    }\n",
       "\n",
       "    .dataframe tbody tr th {\n",
       "        vertical-align: top;\n",
       "    }\n",
       "\n",
       "    .dataframe thead th {\n",
       "        text-align: right;\n",
       "    }\n",
       "</style>\n",
       "<table border=\"1\" class=\"dataframe\">\n",
       "  <thead>\n",
       "    <tr style=\"text-align: right;\">\n",
       "      <th>product_id</th>\n",
       "      <th>6354</th>\n",
       "      <th>6355</th>\n",
       "      <th>6356</th>\n",
       "      <th>6357</th>\n",
       "      <th>6358</th>\n",
       "      <th>6359</th>\n",
       "      <th>6360</th>\n",
       "      <th>6361</th>\n",
       "      <th>6362</th>\n",
       "      <th>6363</th>\n",
       "      <th>...</th>\n",
       "      <th>7695</th>\n",
       "      <th>7696</th>\n",
       "      <th>7697</th>\n",
       "      <th>7698</th>\n",
       "      <th>7699</th>\n",
       "      <th>7700</th>\n",
       "      <th>7701</th>\n",
       "      <th>7702</th>\n",
       "      <th>7703</th>\n",
       "      <th>7704</th>\n",
       "    </tr>\n",
       "    <tr>\n",
       "      <th>user_id</th>\n",
       "      <th></th>\n",
       "      <th></th>\n",
       "      <th></th>\n",
       "      <th></th>\n",
       "      <th></th>\n",
       "      <th></th>\n",
       "      <th></th>\n",
       "      <th></th>\n",
       "      <th></th>\n",
       "      <th></th>\n",
       "      <th></th>\n",
       "      <th></th>\n",
       "      <th></th>\n",
       "      <th></th>\n",
       "      <th></th>\n",
       "      <th></th>\n",
       "      <th></th>\n",
       "      <th></th>\n",
       "      <th></th>\n",
       "      <th></th>\n",
       "      <th></th>\n",
       "    </tr>\n",
       "  </thead>\n",
       "  <tbody>\n",
       "    <tr>\n",
       "      <th>0</th>\n",
       "      <td>0.0</td>\n",
       "      <td>0.0</td>\n",
       "      <td>0.0</td>\n",
       "      <td>0.0</td>\n",
       "      <td>0.0</td>\n",
       "      <td>0.0</td>\n",
       "      <td>0.0</td>\n",
       "      <td>0.0</td>\n",
       "      <td>0.0</td>\n",
       "      <td>0.0</td>\n",
       "      <td>...</td>\n",
       "      <td>0.0</td>\n",
       "      <td>0.0</td>\n",
       "      <td>0.0</td>\n",
       "      <td>0.0</td>\n",
       "      <td>0.0</td>\n",
       "      <td>0.0</td>\n",
       "      <td>0.0</td>\n",
       "      <td>0.0</td>\n",
       "      <td>0.0</td>\n",
       "      <td>0.0</td>\n",
       "    </tr>\n",
       "    <tr>\n",
       "      <th>1</th>\n",
       "      <td>0.0</td>\n",
       "      <td>0.0</td>\n",
       "      <td>0.0</td>\n",
       "      <td>0.0</td>\n",
       "      <td>0.0</td>\n",
       "      <td>0.0</td>\n",
       "      <td>0.0</td>\n",
       "      <td>0.0</td>\n",
       "      <td>0.0</td>\n",
       "      <td>0.0</td>\n",
       "      <td>...</td>\n",
       "      <td>0.0</td>\n",
       "      <td>0.0</td>\n",
       "      <td>0.0</td>\n",
       "      <td>0.0</td>\n",
       "      <td>0.0</td>\n",
       "      <td>0.0</td>\n",
       "      <td>0.0</td>\n",
       "      <td>0.0</td>\n",
       "      <td>0.0</td>\n",
       "      <td>0.0</td>\n",
       "    </tr>\n",
       "    <tr>\n",
       "      <th>2</th>\n",
       "      <td>0.0</td>\n",
       "      <td>0.0</td>\n",
       "      <td>0.0</td>\n",
       "      <td>0.0</td>\n",
       "      <td>0.0</td>\n",
       "      <td>0.0</td>\n",
       "      <td>0.0</td>\n",
       "      <td>0.0</td>\n",
       "      <td>0.0</td>\n",
       "      <td>0.0</td>\n",
       "      <td>...</td>\n",
       "      <td>0.0</td>\n",
       "      <td>0.0</td>\n",
       "      <td>0.0</td>\n",
       "      <td>0.0</td>\n",
       "      <td>0.0</td>\n",
       "      <td>0.0</td>\n",
       "      <td>0.0</td>\n",
       "      <td>0.0</td>\n",
       "      <td>0.0</td>\n",
       "      <td>0.0</td>\n",
       "    </tr>\n",
       "    <tr>\n",
       "      <th>3</th>\n",
       "      <td>0.0</td>\n",
       "      <td>0.0</td>\n",
       "      <td>0.0</td>\n",
       "      <td>0.0</td>\n",
       "      <td>0.0</td>\n",
       "      <td>0.0</td>\n",
       "      <td>0.0</td>\n",
       "      <td>0.0</td>\n",
       "      <td>0.0</td>\n",
       "      <td>0.0</td>\n",
       "      <td>...</td>\n",
       "      <td>0.0</td>\n",
       "      <td>0.0</td>\n",
       "      <td>0.0</td>\n",
       "      <td>0.0</td>\n",
       "      <td>0.0</td>\n",
       "      <td>0.0</td>\n",
       "      <td>0.0</td>\n",
       "      <td>0.0</td>\n",
       "      <td>0.0</td>\n",
       "      <td>0.0</td>\n",
       "    </tr>\n",
       "    <tr>\n",
       "      <th>4</th>\n",
       "      <td>0.0</td>\n",
       "      <td>0.0</td>\n",
       "      <td>0.0</td>\n",
       "      <td>0.0</td>\n",
       "      <td>0.0</td>\n",
       "      <td>0.0</td>\n",
       "      <td>0.0</td>\n",
       "      <td>0.0</td>\n",
       "      <td>0.0</td>\n",
       "      <td>0.0</td>\n",
       "      <td>...</td>\n",
       "      <td>0.0</td>\n",
       "      <td>0.0</td>\n",
       "      <td>0.0</td>\n",
       "      <td>0.0</td>\n",
       "      <td>0.0</td>\n",
       "      <td>0.0</td>\n",
       "      <td>0.0</td>\n",
       "      <td>0.0</td>\n",
       "      <td>0.0</td>\n",
       "      <td>0.0</td>\n",
       "    </tr>\n",
       "  </tbody>\n",
       "</table>\n",
       "<p>5 rows × 1350 columns</p>\n",
       "</div>"
      ],
      "text/plain": [
       "product_id  6354  6355  6356  6357  6358  6359  6360  6361  6362  6363  ...  \\\n",
       "user_id                                                                 ...   \n",
       "0            0.0   0.0   0.0   0.0   0.0   0.0   0.0   0.0   0.0   0.0  ...   \n",
       "1            0.0   0.0   0.0   0.0   0.0   0.0   0.0   0.0   0.0   0.0  ...   \n",
       "2            0.0   0.0   0.0   0.0   0.0   0.0   0.0   0.0   0.0   0.0  ...   \n",
       "3            0.0   0.0   0.0   0.0   0.0   0.0   0.0   0.0   0.0   0.0  ...   \n",
       "4            0.0   0.0   0.0   0.0   0.0   0.0   0.0   0.0   0.0   0.0  ...   \n",
       "\n",
       "product_id  7695  7696  7697  7698  7699  7700  7701  7702  7703  7704  \n",
       "user_id                                                                 \n",
       "0            0.0   0.0   0.0   0.0   0.0   0.0   0.0   0.0   0.0   0.0  \n",
       "1            0.0   0.0   0.0   0.0   0.0   0.0   0.0   0.0   0.0   0.0  \n",
       "2            0.0   0.0   0.0   0.0   0.0   0.0   0.0   0.0   0.0   0.0  \n",
       "3            0.0   0.0   0.0   0.0   0.0   0.0   0.0   0.0   0.0   0.0  \n",
       "4            0.0   0.0   0.0   0.0   0.0   0.0   0.0   0.0   0.0   0.0  \n",
       "\n",
       "[5 rows x 1350 columns]"
      ]
     },
     "execution_count": 17,
     "metadata": {},
     "output_type": "execute_result"
    }
   ],
   "source": [
    "pivot_table = data.pivot_table(index='user_id', columns='product_id', values='rating')\n",
    "# Fill missing values in the pivot table with 0\n",
    "pivot_table = pivot_table.fillna(0)\n",
    "pivot_table.head()"
   ]
  },
  {
   "cell_type": "markdown",
   "id": "7d609b1610f7713a",
   "metadata": {},
   "source": [
    "# First Approach: Collaborative Filtering\n"
   ]
  },
  {
   "cell_type": "code",
   "execution_count": 19,
   "id": "3fbd2b3dba2e6e5e",
   "metadata": {
    "ExecuteTime": {
     "end_time": "2025-05-21T22:09:47.358909Z",
     "start_time": "2025-05-21T22:09:47.354233Z"
    }
   },
   "outputs": [
    {
     "name": "stdout",
     "output_type": "stream",
     "text": [
      "Rating scale: [2.0, 5.0]\n",
      "Number of ratings: 2,587,373\n",
      "Number of users: 1,195\n",
      "Number of products: 7,705\n",
      "Sparsity: 71.90%\n"
     ]
    }
   ],
   "source": [
    "import pandas as pd\n",
    "import numpy as np\n",
    "from surprise import Dataset, Reader, SVD\n",
    "from surprise.model_selection import train_test_split\n",
    "from surprise import accuracy\n",
    "from collections import defaultdict\n",
    "\n",
    "\n",
    "rating_min = data['rating'].min()\n",
    "rating_max = data['rating'].max()\n",
    "\n",
    "print(f\"Rating scale: [{rating_min}, {rating_max}]\")\n",
    "print(f\"Number of ratings: {len(data):,}\")\n",
    "print(f\"Number of users: {data['user_id'].nunique():,}\")\n",
    "print(f\"Number of products: {data['product_id'].nunique():,}\")\n",
    "# Calculate sparsity - handle potential division by zero if users or items are 0\n",
    "num_users = data['user_id'].nunique()\n",
    "num_items = data['product_id'].nunique()\n",
    "if num_users > 0 and num_items > 0:\n",
    "    sparsity = (1 - len(data) / (num_users * num_items)) * 100\n",
    "    print(f\"Sparsity: {sparsity:.2f}%\")"
   ]
  },
  {
   "cell_type": "code",
   "execution_count": 20,
   "id": "c6511fc7ca115478",
   "metadata": {
    "ExecuteTime": {
     "end_time": "2025-05-21T22:09:47.374288Z",
     "start_time": "2025-05-21T22:09:47.362535Z"
    }
   },
   "outputs": [
    {
     "name": "stdout",
     "output_type": "stream",
     "text": [
      "\n",
      "Training SVD model...\n",
      "SVD model training complete.\n",
      "\n",
      "Evaluating model performance...\n",
      "RMSE: 0.2593\n"
     ]
    }
   ],
   "source": [
    "# Split data into training and testing sets\n",
    "data = data.dropna(subset=['user_id', 'product_id', 'rating'])\n",
    "reader = Reader(rating_scale=(data['rating'].min(), data['rating'].max()))\n",
    "dataset = Dataset.load_from_df(data[['user_id', 'product_id', 'rating']], reader)\n",
    "\n",
    "trainset, testset = train_test_split(dataset, test_size=0.2, random_state=42)\n",
    "\n",
    "# --- Train a single model (SVD) ---\n",
    "print(\"\\nTraining SVD model...\")\n",
    "model = SVD(n_factors=50, n_epochs=20, random_state=42)\n",
    "#model = SVD(n_factors=50, random_state=42)\n",
    "model.fit(trainset)\n",
    "print(\"SVD model training complete.\")\n",
    "\n",
    "# --- Evaluate the model ---\n",
    "print(\"\\nEvaluating model performance...\")\n",
    "predictions = model.test(testset)\n",
    "\n",
    "# Calculate RMSE\n",
    "rmse_svd = accuracy.rmse(predictions)\n"
   ]
  },
  {
   "cell_type": "markdown",
   "id": "1ae3995b-91f8-4fdb-8166-84dd4c397471",
   "metadata": {
    "jp-MarkdownHeadingCollapsed": true
   },
   "source": [
    "# Encoded recomendations"
   ]
  },
  {
   "cell_type": "code",
   "execution_count": 22,
   "id": "9b67f6f122e54859",
   "metadata": {
    "ExecuteTime": {
     "end_time": "2025-05-21T22:09:47.869583Z",
     "start_time": "2025-05-21T22:09:47.866969Z"
    }
   },
   "outputs": [],
   "source": [
    "def get_top_n_recommendations(algo, data, user_id, n=5):\n",
    "    # Get all unique items\n",
    "    all_items = data['product_id'].unique()\n",
    "\n",
    "    # Get items the user has already rated\n",
    "    rated_items = data[data['user_id'] == user_id]['product_id']\n",
    "\n",
    "    # Predict ratings for unrated items\n",
    "    predictions = []\n",
    "    for item in all_items:\n",
    "        if item not in rated_items.values:\n",
    "            pred = algo.predict(user_id, item)\n",
    "            predictions.append((item, pred.est))\n",
    "\n",
    "    # Sort by predicted rating\n",
    "    predictions.sort(key=lambda x: x[1], reverse=True)\n",
    "\n",
    "    return predictions[:n]"
   ]
  },
  {
   "cell_type": "markdown",
   "id": "6c805aa6c42bb942",
   "metadata": {},
   "source": [
    "# Named Recomendation"
   ]
  },
  {
   "cell_type": "code",
   "execution_count": 24,
   "id": "e4c720bba5456b40",
   "metadata": {
    "ExecuteTime": {
     "end_time": "2025-05-21T22:09:47.923371Z",
     "start_time": "2025-05-21T22:09:47.920213Z"
    }
   },
   "outputs": [],
   "source": [
    "def get_named_recommendations(algo, data, user_id, n=5):\n",
    "    # all numeric product_ids\n",
    "    all_items = data['product_id'].unique()\n",
    "    # items the user already rated\n",
    "    seen = set(data.loc[data['user_id']==user_id, 'product_id'])\n",
    "\n",
    "    preds = []\n",
    "    for iid in all_items:\n",
    "        if iid not in seen:\n",
    "            est = algo.predict(user_id, iid).est\n",
    "            preds.append((iid, est))\n",
    "    preds.sort(key=lambda x: x[1], reverse=True)\n",
    "    top_n = preds[:n]\n",
    "\n",
    "    # 3. Inverse‐transform numeric IDs → original product_id\n",
    "    orig_ids = item_enc.inverse_transform([iid for iid, _ in top_n])\n",
    "    scores   = [score for _, score in top_n]\n",
    "\n",
    "    # 4. Look up product names\n",
    "    results = []\n",
    "    for pid, score in zip(orig_ids, scores):\n",
    "        name = products.loc[pid, 'product_name']\n",
    "        results.append((pid, name, score))\n",
    "    return results"
   ]
  },
  {
   "cell_type": "code",
   "execution_count": 25,
   "id": "b0b46cd4f7f52634",
   "metadata": {
    "ExecuteTime": {
     "end_time": "2025-05-21T22:09:47.959855Z",
     "start_time": "2025-05-21T22:09:47.951950Z"
    }
   },
   "outputs": [
    {
     "name": "stdout",
     "output_type": "stream",
     "text": [
      "B0BBW521YC — LAPSTER 12pcs Spiral Cable Protectors for Charger, Wires, Data Charger Cable Protector for Computers, Cell Phones etc.(Grey): 4.397\n",
      "B08TGG316Z — 10k 8k 4k HDMI Cable, Certified 48Gbps 1ms Ultra High Speed HDMI 2.1 Cable 4k 120Hz 144Hz 2k 165Hz 8k 60Hz Dynamic HDR ARC eARC DTS:X Compatible for Mac Gaming PC Soundbar TV Monitor Laptop PS5 4 Xbox: 4.375\n",
      "B01D5H90L4 — AmazonBasics - High-Speed Male to Female HDMI Extension Cable - 6 Feet: 4.353\n",
      "B084N133Y7 — Belkin Apple Certified Lightning To Type C Cable, Fast Charging For Iphone, Ipad, Air Pods, 3.3 Feet (1 Meters)    White: 4.337\n",
      "B09W5XR9RT — Duracell USB C To Lightning Apple Certified (Mfi) Braided Sync & Charge Cable For Iphone, Ipad And Ipod. Fast Charging Lightning Cable, 3.9 Feet (1.2M) - Black: 4.335\n"
     ]
    }
   ],
   "source": [
    "USER = 1\n",
    "\n",
    "#top_n_recommendations = get_top_n_recommendations(model, data, user_id=USER, n=5)\n",
    "#print(f\"Top 5 recommendations for user 123: {top_n_recommendations}\")\n",
    "recommendations = get_named_recommendations(model, data, user_id=USER, n=5)\n",
    "for pid, name, score in recommendations:\n",
    "    print(f\"{pid} — {name}: {score:.3f}\")"
   ]
  },
  {
   "cell_type": "code",
   "execution_count": 26,
   "id": "89bfa90d86e8734e",
   "metadata": {
    "ExecuteTime": {
     "end_time": "2025-05-21T22:09:47.973615Z",
     "start_time": "2025-05-21T22:09:47.970165Z"
    }
   },
   "outputs": [],
   "source": [
    "def precision_recall_at_k(predictions, k=100, threshold=3.5):\n",
    "    \"\"\"Return precision and recall at k metrics for each user.\"\"\"\n",
    "\n",
    "    user_prediction = defaultdict(list)\n",
    "    for uid, _, true_rating, estimated, _ in predictions:\n",
    "        user_prediction[uid].append((estimated, true_rating))\n",
    "\n",
    "    precisions = dict()\n",
    "    recalls = dict()\n",
    "    for uid, user_ratings in user_prediction.items():\n",
    "        # Sort user ratings by estimated value\n",
    "        user_ratings.sort(key=lambda x: x[0], reverse=True)\n",
    "        # Number of relevant items\n",
    "        n_relevant = sum((true_rating >= threshold) for (_, true_rating) in user_ratings)\n",
    "        # Number of recommended items in top k\n",
    "        n_rec_k = sum((estimated >= threshold) for (estimated, _) in user_ratings[:k])\n",
    "        # Number of relevant and recommended items in top k\n",
    "        n_rel_and_rec_k = sum(((true_rating >= threshold) and (estimated >= threshold))\n",
    "                              for (estimated, true_rating) in user_ratings[:k])\n",
    "        # Precision@K: Proportion of recommended items that are relevant\n",
    "        precisions[uid] = n_rel_and_rec_k / n_rec_k if n_rec_k != 0 else 1\n",
    "        # Recall@K: Proportion of relevant items that are recommended\n",
    "        recalls[uid] = n_rel_and_rec_k / n_relevant if n_relevant != 0 else 1\n",
    "    return precisions, recalls"
   ]
  },
  {
   "cell_type": "code",
   "execution_count": 27,
   "id": "dcdf70abfca9367c",
   "metadata": {
    "ExecuteTime": {
     "end_time": "2025-05-21T22:09:47.991446Z",
     "start_time": "2025-05-21T22:09:47.988150Z"
    }
   },
   "outputs": [
    {
     "name": "stdout",
     "output_type": "stream",
     "text": [
      "\n",
      "Calculating Precision@k and Recall@k...\n",
      "Precision@2: 0.9856\n",
      "Recall@2: 0.9988\n"
     ]
    }
   ],
   "source": [
    "print(\"\\nCalculating Precision@k and Recall@k...\")\n",
    "# Set your desired k and rating threshold for 'relevant' items\n",
    "K = 2\n",
    "RATING_THRESHOLD = 3.5 # Assuming a rating of 3.5 or higher is considered 'relevant'\n",
    "\n",
    "precisions, recalls = precision_recall_at_k(predictions, k=K, threshold=RATING_THRESHOLD)\n",
    "\n",
    "# Average precision and recall\n",
    "avg_precision = sum(prec for prec in precisions.values()) / len(precisions)\n",
    "avg_recall = sum(rec for rec in recalls.values()) / len(recalls)\n",
    "\n",
    "print(f\"Precision@{K}: {avg_precision:.4f}\")\n",
    "print(f\"Recall@{K}: {avg_recall:.4f}\")"
   ]
  },
  {
   "cell_type": "markdown",
   "id": "1825df85565a4e23",
   "metadata": {},
   "source": [
    "# Second Approach: Autoencoders"
   ]
  },
  {
   "cell_type": "markdown",
   "id": "1fe8d5c0-a4b0-4794-bcc0-dd4f056555e0",
   "metadata": {
    "jp-MarkdownHeadingCollapsed": true
   },
   "source": [
    "### *old version of auto encoder*"
   ]
  },
  {
   "cell_type": "code",
   "execution_count": 30,
   "id": "a53ccf250a7a9483",
   "metadata": {
    "ExecuteTime": {
     "end_time": "2025-05-21T22:09:48.032774Z",
     "start_time": "2025-05-21T22:09:48.009440Z"
    }
   },
   "outputs": [
    {
     "name": "stdout",
     "output_type": "stream",
     "text": [
      "Number of users: 1193\n",
      "Number of items: 1350\n"
     ]
    }
   ],
   "source": [
    "import tensorflow as tf\n",
    "from tensorflow import keras\n",
    "from tensorflow.keras import layers\n",
    "import pandas as pd\n",
    "import numpy as np\n",
    "from sklearn.metrics import mean_squared_error\n",
    "\n",
    "# Get the number of products (items) and users from the pivot table\n",
    "num_items = pivot_table.shape[1]\n",
    "num_users = pivot_table.shape[0]\n",
    "\n",
    "print(f\"Number of users: {num_users}\")\n",
    "print(f\"Number of items: {num_items}\")\n",
    "\n",
    "# Define the autoencoder model\n",
    "# Input layer: Represents the user's rating vector for all items\n",
    "input_layer = keras.Input(shape=(num_items,), name='user_rating')\n",
    "\n",
    "# Encoder layers: Compresses the input into a lower-dimensional representation (latent space)\n",
    "# The size of these layers are hyperparameters that can be tuned\n",
    "encoder = layers.Dense(256, activation='relu', name='encoder_1')(input_layer)\n",
    "encoder = layers.Dense(128, activation='relu', name='encoder_2')(encoder)\n",
    "encoder = layers.Dense(64, activation='relu', name='encoder_3')(encoder)\n",
    "\n",
    "# Decoder layers: Reconstructs the original rating vector from the compressed representation\n",
    "decoder = layers.Dense(128, activation='relu', name='decoder_1')(encoder)\n",
    "decoder = layers.Dense(256, activation='relu', name='decoder_2')(decoder)\n",
    "\n",
    "# Output layer: Should have the same number of units as the input layer (number of items)\n",
    "# Using 'linear' activation for continuous rating values\n",
    "output_layer = layers.Dense(num_items, activation='linear', name='decoder_output')(decoder)\n",
    "\n",
    "# Create the autoencoder model by connecting the input and output layers\n",
    "autoencoder = keras.Model(inputs=input_layer, outputs=output_layer, name='autoencoder')\n",
    "\n",
    "# Compile the model\n",
    "# Using 'adam' optimizer and 'mean squared error' (mse) as the loss function\n",
    "autoencoder.compile(\n",
    "    optimizer=keras.optimizers.Adam(learning_rate=0.001),\n",
    "    loss='mse',\n",
    ")"
   ]
  },
  {
   "cell_type": "code",
   "execution_count": 31,
   "id": "7c21c5a14d94f604",
   "metadata": {
    "ExecuteTime": {
     "end_time": "2025-05-21T22:09:53.275484Z",
     "start_time": "2025-05-21T22:09:48.047933Z"
    }
   },
   "outputs": [
    {
     "name": "stdout",
     "output_type": "stream",
     "text": [
      "\n",
      "Autoencoder Model Summary:\n"
     ]
    },
    {
     "data": {
      "text/html": [
       "<pre style=\"white-space:pre;overflow-x:auto;line-height:normal;font-family:Menlo,'DejaVu Sans Mono',consolas,'Courier New',monospace\"><span style=\"font-weight: bold\">Model: \"autoencoder\"</span>\n",
       "</pre>\n"
      ],
      "text/plain": [
       "\u001b[1mModel: \"autoencoder\"\u001b[0m\n"
      ]
     },
     "metadata": {},
     "output_type": "display_data"
    },
    {
     "data": {
      "text/html": [
       "<pre style=\"white-space:pre;overflow-x:auto;line-height:normal;font-family:Menlo,'DejaVu Sans Mono',consolas,'Courier New',monospace\">┏━━━━━━━━━━━━━━━━━━━━━━━━━━━━━━━━━┳━━━━━━━━━━━━━━━━━━━━━━━━┳━━━━━━━━━━━━━━━┓\n",
       "┃<span style=\"font-weight: bold\"> Layer (type)                    </span>┃<span style=\"font-weight: bold\"> Output Shape           </span>┃<span style=\"font-weight: bold\">       Param # </span>┃\n",
       "┡━━━━━━━━━━━━━━━━━━━━━━━━━━━━━━━━━╇━━━━━━━━━━━━━━━━━━━━━━━━╇━━━━━━━━━━━━━━━┩\n",
       "│ user_rating (<span style=\"color: #0087ff; text-decoration-color: #0087ff\">InputLayer</span>)        │ (<span style=\"color: #00d7ff; text-decoration-color: #00d7ff\">None</span>, <span style=\"color: #00af00; text-decoration-color: #00af00\">1350</span>)           │             <span style=\"color: #00af00; text-decoration-color: #00af00\">0</span> │\n",
       "├─────────────────────────────────┼────────────────────────┼───────────────┤\n",
       "│ encoder_1 (<span style=\"color: #0087ff; text-decoration-color: #0087ff\">Dense</span>)               │ (<span style=\"color: #00d7ff; text-decoration-color: #00d7ff\">None</span>, <span style=\"color: #00af00; text-decoration-color: #00af00\">256</span>)            │       <span style=\"color: #00af00; text-decoration-color: #00af00\">345,856</span> │\n",
       "├─────────────────────────────────┼────────────────────────┼───────────────┤\n",
       "│ encoder_2 (<span style=\"color: #0087ff; text-decoration-color: #0087ff\">Dense</span>)               │ (<span style=\"color: #00d7ff; text-decoration-color: #00d7ff\">None</span>, <span style=\"color: #00af00; text-decoration-color: #00af00\">128</span>)            │        <span style=\"color: #00af00; text-decoration-color: #00af00\">32,896</span> │\n",
       "├─────────────────────────────────┼────────────────────────┼───────────────┤\n",
       "│ encoder_3 (<span style=\"color: #0087ff; text-decoration-color: #0087ff\">Dense</span>)               │ (<span style=\"color: #00d7ff; text-decoration-color: #00d7ff\">None</span>, <span style=\"color: #00af00; text-decoration-color: #00af00\">64</span>)             │         <span style=\"color: #00af00; text-decoration-color: #00af00\">8,256</span> │\n",
       "├─────────────────────────────────┼────────────────────────┼───────────────┤\n",
       "│ decoder_1 (<span style=\"color: #0087ff; text-decoration-color: #0087ff\">Dense</span>)               │ (<span style=\"color: #00d7ff; text-decoration-color: #00d7ff\">None</span>, <span style=\"color: #00af00; text-decoration-color: #00af00\">128</span>)            │         <span style=\"color: #00af00; text-decoration-color: #00af00\">8,320</span> │\n",
       "├─────────────────────────────────┼────────────────────────┼───────────────┤\n",
       "│ decoder_2 (<span style=\"color: #0087ff; text-decoration-color: #0087ff\">Dense</span>)               │ (<span style=\"color: #00d7ff; text-decoration-color: #00d7ff\">None</span>, <span style=\"color: #00af00; text-decoration-color: #00af00\">256</span>)            │        <span style=\"color: #00af00; text-decoration-color: #00af00\">33,024</span> │\n",
       "├─────────────────────────────────┼────────────────────────┼───────────────┤\n",
       "│ decoder_output (<span style=\"color: #0087ff; text-decoration-color: #0087ff\">Dense</span>)          │ (<span style=\"color: #00d7ff; text-decoration-color: #00d7ff\">None</span>, <span style=\"color: #00af00; text-decoration-color: #00af00\">1350</span>)           │       <span style=\"color: #00af00; text-decoration-color: #00af00\">346,950</span> │\n",
       "└─────────────────────────────────┴────────────────────────┴───────────────┘\n",
       "</pre>\n"
      ],
      "text/plain": [
       "┏━━━━━━━━━━━━━━━━━━━━━━━━━━━━━━━━━┳━━━━━━━━━━━━━━━━━━━━━━━━┳━━━━━━━━━━━━━━━┓\n",
       "┃\u001b[1m \u001b[0m\u001b[1mLayer (type)                   \u001b[0m\u001b[1m \u001b[0m┃\u001b[1m \u001b[0m\u001b[1mOutput Shape          \u001b[0m\u001b[1m \u001b[0m┃\u001b[1m \u001b[0m\u001b[1m      Param #\u001b[0m\u001b[1m \u001b[0m┃\n",
       "┡━━━━━━━━━━━━━━━━━━━━━━━━━━━━━━━━━╇━━━━━━━━━━━━━━━━━━━━━━━━╇━━━━━━━━━━━━━━━┩\n",
       "│ user_rating (\u001b[38;5;33mInputLayer\u001b[0m)        │ (\u001b[38;5;45mNone\u001b[0m, \u001b[38;5;34m1350\u001b[0m)           │             \u001b[38;5;34m0\u001b[0m │\n",
       "├─────────────────────────────────┼────────────────────────┼───────────────┤\n",
       "│ encoder_1 (\u001b[38;5;33mDense\u001b[0m)               │ (\u001b[38;5;45mNone\u001b[0m, \u001b[38;5;34m256\u001b[0m)            │       \u001b[38;5;34m345,856\u001b[0m │\n",
       "├─────────────────────────────────┼────────────────────────┼───────────────┤\n",
       "│ encoder_2 (\u001b[38;5;33mDense\u001b[0m)               │ (\u001b[38;5;45mNone\u001b[0m, \u001b[38;5;34m128\u001b[0m)            │        \u001b[38;5;34m32,896\u001b[0m │\n",
       "├─────────────────────────────────┼────────────────────────┼───────────────┤\n",
       "│ encoder_3 (\u001b[38;5;33mDense\u001b[0m)               │ (\u001b[38;5;45mNone\u001b[0m, \u001b[38;5;34m64\u001b[0m)             │         \u001b[38;5;34m8,256\u001b[0m │\n",
       "├─────────────────────────────────┼────────────────────────┼───────────────┤\n",
       "│ decoder_1 (\u001b[38;5;33mDense\u001b[0m)               │ (\u001b[38;5;45mNone\u001b[0m, \u001b[38;5;34m128\u001b[0m)            │         \u001b[38;5;34m8,320\u001b[0m │\n",
       "├─────────────────────────────────┼────────────────────────┼───────────────┤\n",
       "│ decoder_2 (\u001b[38;5;33mDense\u001b[0m)               │ (\u001b[38;5;45mNone\u001b[0m, \u001b[38;5;34m256\u001b[0m)            │        \u001b[38;5;34m33,024\u001b[0m │\n",
       "├─────────────────────────────────┼────────────────────────┼───────────────┤\n",
       "│ decoder_output (\u001b[38;5;33mDense\u001b[0m)          │ (\u001b[38;5;45mNone\u001b[0m, \u001b[38;5;34m1350\u001b[0m)           │       \u001b[38;5;34m346,950\u001b[0m │\n",
       "└─────────────────────────────────┴────────────────────────┴───────────────┘\n"
      ]
     },
     "metadata": {},
     "output_type": "display_data"
    },
    {
     "data": {
      "text/html": [
       "<pre style=\"white-space:pre;overflow-x:auto;line-height:normal;font-family:Menlo,'DejaVu Sans Mono',consolas,'Courier New',monospace\"><span style=\"font-weight: bold\"> Total params: </span><span style=\"color: #00af00; text-decoration-color: #00af00\">775,302</span> (2.96 MB)\n",
       "</pre>\n"
      ],
      "text/plain": [
       "\u001b[1m Total params: \u001b[0m\u001b[38;5;34m775,302\u001b[0m (2.96 MB)\n"
      ]
     },
     "metadata": {},
     "output_type": "display_data"
    },
    {
     "data": {
      "text/html": [
       "<pre style=\"white-space:pre;overflow-x:auto;line-height:normal;font-family:Menlo,'DejaVu Sans Mono',consolas,'Courier New',monospace\"><span style=\"font-weight: bold\"> Trainable params: </span><span style=\"color: #00af00; text-decoration-color: #00af00\">775,302</span> (2.96 MB)\n",
       "</pre>\n"
      ],
      "text/plain": [
       "\u001b[1m Trainable params: \u001b[0m\u001b[38;5;34m775,302\u001b[0m (2.96 MB)\n"
      ]
     },
     "metadata": {},
     "output_type": "display_data"
    },
    {
     "data": {
      "text/html": [
       "<pre style=\"white-space:pre;overflow-x:auto;line-height:normal;font-family:Menlo,'DejaVu Sans Mono',consolas,'Courier New',monospace\"><span style=\"font-weight: bold\"> Non-trainable params: </span><span style=\"color: #00af00; text-decoration-color: #00af00\">0</span> (0.00 B)\n",
       "</pre>\n"
      ],
      "text/plain": [
       "\u001b[1m Non-trainable params: \u001b[0m\u001b[38;5;34m0\u001b[0m (0.00 B)\n"
      ]
     },
     "metadata": {},
     "output_type": "display_data"
    },
    {
     "name": "stdout",
     "output_type": "stream",
     "text": [
      "\n",
      "Training the Autoencoder Model...\n",
      "Epoch 1/50\n",
      "\u001b[1m30/30\u001b[0m \u001b[32m━━━━━━━━━━━━━━━━━━━━\u001b[0m\u001b[37m\u001b[0m \u001b[1m2s\u001b[0m 10ms/step - loss: 0.0140 - val_loss: 0.0148\n",
      "Epoch 2/50\n",
      "\u001b[1m30/30\u001b[0m \u001b[32m━━━━━━━━━━━━━━━━━━━━\u001b[0m\u001b[37m\u001b[0m \u001b[1m0s\u001b[0m 5ms/step - loss: 0.0143 - val_loss: 0.0148\n",
      "Epoch 3/50\n",
      "\u001b[1m30/30\u001b[0m \u001b[32m━━━━━━━━━━━━━━━━━━━━\u001b[0m\u001b[37m\u001b[0m \u001b[1m0s\u001b[0m 5ms/step - loss: 0.0140 - val_loss: 0.0148\n",
      "Epoch 4/50\n",
      "\u001b[1m30/30\u001b[0m \u001b[32m━━━━━━━━━━━━━━━━━━━━\u001b[0m\u001b[37m\u001b[0m \u001b[1m0s\u001b[0m 5ms/step - loss: 0.0137 - val_loss: 0.0148\n",
      "Epoch 5/50\n",
      "\u001b[1m30/30\u001b[0m \u001b[32m━━━━━━━━━━━━━━━━━━━━\u001b[0m\u001b[37m\u001b[0m \u001b[1m0s\u001b[0m 4ms/step - loss: 0.0139 - val_loss: 0.0148\n",
      "Epoch 6/50\n",
      "\u001b[1m30/30\u001b[0m \u001b[32m━━━━━━━━━━━━━━━━━━━━\u001b[0m\u001b[37m\u001b[0m \u001b[1m0s\u001b[0m 4ms/step - loss: 0.0137 - val_loss: 0.0149\n",
      "Epoch 7/50\n",
      "\u001b[1m30/30\u001b[0m \u001b[32m━━━━━━━━━━━━━━━━━━━━\u001b[0m\u001b[37m\u001b[0m \u001b[1m0s\u001b[0m 5ms/step - loss: 0.0136 - val_loss: 0.0149\n",
      "Epoch 8/50\n",
      "\u001b[1m30/30\u001b[0m \u001b[32m━━━━━━━━━━━━━━━━━━━━\u001b[0m\u001b[37m\u001b[0m \u001b[1m0s\u001b[0m 4ms/step - loss: 0.0134 - val_loss: 0.0149\n",
      "Epoch 9/50\n",
      "\u001b[1m30/30\u001b[0m \u001b[32m━━━━━━━━━━━━━━━━━━━━\u001b[0m\u001b[37m\u001b[0m \u001b[1m0s\u001b[0m 5ms/step - loss: 0.0131 - val_loss: 0.0149\n",
      "Epoch 10/50\n",
      "\u001b[1m30/30\u001b[0m \u001b[32m━━━━━━━━━━━━━━━━━━━━\u001b[0m\u001b[37m\u001b[0m \u001b[1m0s\u001b[0m 4ms/step - loss: 0.0130 - val_loss: 0.0149\n",
      "Epoch 11/50\n",
      "\u001b[1m30/30\u001b[0m \u001b[32m━━━━━━━━━━━━━━━━━━━━\u001b[0m\u001b[37m\u001b[0m \u001b[1m0s\u001b[0m 4ms/step - loss: 0.0129 - val_loss: 0.0149\n",
      "Epoch 12/50\n",
      "\u001b[1m30/30\u001b[0m \u001b[32m━━━━━━━━━━━━━━━━━━━━\u001b[0m\u001b[37m\u001b[0m \u001b[1m0s\u001b[0m 4ms/step - loss: 0.0128 - val_loss: 0.0149\n",
      "Epoch 13/50\n",
      "\u001b[1m30/30\u001b[0m \u001b[32m━━━━━━━━━━━━━━━━━━━━\u001b[0m\u001b[37m\u001b[0m \u001b[1m0s\u001b[0m 4ms/step - loss: 0.0124 - val_loss: 0.0149\n",
      "Epoch 14/50\n",
      "\u001b[1m30/30\u001b[0m \u001b[32m━━━━━━━━━━━━━━━━━━━━\u001b[0m\u001b[37m\u001b[0m \u001b[1m0s\u001b[0m 4ms/step - loss: 0.0122 - val_loss: 0.0149\n",
      "Epoch 15/50\n",
      "\u001b[1m30/30\u001b[0m \u001b[32m━━━━━━━━━━━━━━━━━━━━\u001b[0m\u001b[37m\u001b[0m \u001b[1m0s\u001b[0m 4ms/step - loss: 0.0119 - val_loss: 0.0149\n",
      "Epoch 16/50\n",
      "\u001b[1m30/30\u001b[0m \u001b[32m━━━━━━━━━━━━━━━━━━━━\u001b[0m\u001b[37m\u001b[0m \u001b[1m0s\u001b[0m 4ms/step - loss: 0.0119 - val_loss: 0.0150\n",
      "Epoch 17/50\n",
      "\u001b[1m30/30\u001b[0m \u001b[32m━━━━━━━━━━━━━━━━━━━━\u001b[0m\u001b[37m\u001b[0m \u001b[1m0s\u001b[0m 4ms/step - loss: 0.0119 - val_loss: 0.0150\n",
      "Epoch 18/50\n",
      "\u001b[1m30/30\u001b[0m \u001b[32m━━━━━━━━━━━━━━━━━━━━\u001b[0m\u001b[37m\u001b[0m \u001b[1m0s\u001b[0m 4ms/step - loss: 0.0116 - val_loss: 0.0150\n",
      "Epoch 19/50\n",
      "\u001b[1m30/30\u001b[0m \u001b[32m━━━━━━━━━━━━━━━━━━━━\u001b[0m\u001b[37m\u001b[0m \u001b[1m0s\u001b[0m 4ms/step - loss: 0.0115 - val_loss: 0.0150\n",
      "Epoch 20/50\n",
      "\u001b[1m30/30\u001b[0m \u001b[32m━━━━━━━━━━━━━━━━━━━━\u001b[0m\u001b[37m\u001b[0m \u001b[1m0s\u001b[0m 4ms/step - loss: 0.0113 - val_loss: 0.0150\n",
      "Epoch 21/50\n",
      "\u001b[1m30/30\u001b[0m \u001b[32m━━━━━━━━━━━━━━━━━━━━\u001b[0m\u001b[37m\u001b[0m \u001b[1m0s\u001b[0m 5ms/step - loss: 0.0112 - val_loss: 0.0150\n",
      "Epoch 22/50\n",
      "\u001b[1m30/30\u001b[0m \u001b[32m━━━━━━━━━━━━━━━━━━━━\u001b[0m\u001b[37m\u001b[0m \u001b[1m0s\u001b[0m 4ms/step - loss: 0.0111 - val_loss: 0.0150\n",
      "Epoch 23/50\n",
      "\u001b[1m30/30\u001b[0m \u001b[32m━━━━━━━━━━━━━━━━━━━━\u001b[0m\u001b[37m\u001b[0m \u001b[1m0s\u001b[0m 4ms/step - loss: 0.0110 - val_loss: 0.0150\n",
      "Epoch 24/50\n",
      "\u001b[1m30/30\u001b[0m \u001b[32m━━━━━━━━━━━━━━━━━━━━\u001b[0m\u001b[37m\u001b[0m \u001b[1m0s\u001b[0m 4ms/step - loss: 0.0109 - val_loss: 0.0150\n",
      "Epoch 25/50\n",
      "\u001b[1m30/30\u001b[0m \u001b[32m━━━━━━━━━━━━━━━━━━━━\u001b[0m\u001b[37m\u001b[0m \u001b[1m0s\u001b[0m 4ms/step - loss: 0.0110 - val_loss: 0.0151\n",
      "Epoch 26/50\n",
      "\u001b[1m30/30\u001b[0m \u001b[32m━━━━━━━━━━━━━━━━━━━━\u001b[0m\u001b[37m\u001b[0m \u001b[1m0s\u001b[0m 4ms/step - loss: 0.0106 - val_loss: 0.0151\n",
      "Epoch 27/50\n",
      "\u001b[1m30/30\u001b[0m \u001b[32m━━━━━━━━━━━━━━━━━━━━\u001b[0m\u001b[37m\u001b[0m \u001b[1m0s\u001b[0m 4ms/step - loss: 0.0107 - val_loss: 0.0151\n",
      "Epoch 28/50\n",
      "\u001b[1m30/30\u001b[0m \u001b[32m━━━━━━━━━━━━━━━━━━━━\u001b[0m\u001b[37m\u001b[0m \u001b[1m0s\u001b[0m 4ms/step - loss: 0.0107 - val_loss: 0.0151\n",
      "Epoch 29/50\n",
      "\u001b[1m30/30\u001b[0m \u001b[32m━━━━━━━━━━━━━━━━━━━━\u001b[0m\u001b[37m\u001b[0m \u001b[1m0s\u001b[0m 4ms/step - loss: 0.0106 - val_loss: 0.0151\n",
      "Epoch 30/50\n",
      "\u001b[1m30/30\u001b[0m \u001b[32m━━━━━━━━━━━━━━━━━━━━\u001b[0m\u001b[37m\u001b[0m \u001b[1m0s\u001b[0m 4ms/step - loss: 0.0104 - val_loss: 0.0151\n",
      "Epoch 31/50\n",
      "\u001b[1m30/30\u001b[0m \u001b[32m━━━━━━━━━━━━━━━━━━━━\u001b[0m\u001b[37m\u001b[0m \u001b[1m0s\u001b[0m 4ms/step - loss: 0.0104 - val_loss: 0.0151\n",
      "Epoch 32/50\n",
      "\u001b[1m30/30\u001b[0m \u001b[32m━━━━━━━━━━━━━━━━━━━━\u001b[0m\u001b[37m\u001b[0m \u001b[1m0s\u001b[0m 4ms/step - loss: 0.0103 - val_loss: 0.0151\n",
      "Epoch 33/50\n",
      "\u001b[1m30/30\u001b[0m \u001b[32m━━━━━━━━━━━━━━━━━━━━\u001b[0m\u001b[37m\u001b[0m \u001b[1m0s\u001b[0m 4ms/step - loss: 0.0103 - val_loss: 0.0151\n",
      "Epoch 34/50\n",
      "\u001b[1m30/30\u001b[0m \u001b[32m━━━━━━━━━━━━━━━━━━━━\u001b[0m\u001b[37m\u001b[0m \u001b[1m0s\u001b[0m 4ms/step - loss: 0.0102 - val_loss: 0.0151\n",
      "Epoch 35/50\n",
      "\u001b[1m30/30\u001b[0m \u001b[32m━━━━━━━━━━━━━━━━━━━━\u001b[0m\u001b[37m\u001b[0m \u001b[1m0s\u001b[0m 4ms/step - loss: 0.0101 - val_loss: 0.0151\n",
      "Epoch 36/50\n",
      "\u001b[1m30/30\u001b[0m \u001b[32m━━━━━━━━━━━━━━━━━━━━\u001b[0m\u001b[37m\u001b[0m \u001b[1m0s\u001b[0m 4ms/step - loss: 0.0101 - val_loss: 0.0151\n",
      "Epoch 37/50\n",
      "\u001b[1m30/30\u001b[0m \u001b[32m━━━━━━━━━━━━━━━━━━━━\u001b[0m\u001b[37m\u001b[0m \u001b[1m0s\u001b[0m 4ms/step - loss: 0.0101 - val_loss: 0.0151\n",
      "Epoch 38/50\n",
      "\u001b[1m30/30\u001b[0m \u001b[32m━━━━━━━━━━━━━━━━━━━━\u001b[0m\u001b[37m\u001b[0m \u001b[1m0s\u001b[0m 4ms/step - loss: 0.0101 - val_loss: 0.0151\n",
      "Epoch 39/50\n",
      "\u001b[1m30/30\u001b[0m \u001b[32m━━━━━━━━━━━━━━━━━━━━\u001b[0m\u001b[37m\u001b[0m \u001b[1m0s\u001b[0m 4ms/step - loss: 0.0101 - val_loss: 0.0151\n",
      "Epoch 40/50\n",
      "\u001b[1m30/30\u001b[0m \u001b[32m━━━━━━━━━━━━━━━━━━━━\u001b[0m\u001b[37m\u001b[0m \u001b[1m0s\u001b[0m 5ms/step - loss: 0.0100 - val_loss: 0.0151\n",
      "Epoch 41/50\n",
      "\u001b[1m30/30\u001b[0m \u001b[32m━━━━━━━━━━━━━━━━━━━━\u001b[0m\u001b[37m\u001b[0m \u001b[1m0s\u001b[0m 4ms/step - loss: 0.0099 - val_loss: 0.0151\n",
      "Epoch 42/50\n",
      "\u001b[1m30/30\u001b[0m \u001b[32m━━━━━━━━━━━━━━━━━━━━\u001b[0m\u001b[37m\u001b[0m \u001b[1m0s\u001b[0m 5ms/step - loss: 0.0100 - val_loss: 0.0151\n",
      "Epoch 43/50\n",
      "\u001b[1m30/30\u001b[0m \u001b[32m━━━━━━━━━━━━━━━━━━━━\u001b[0m\u001b[37m\u001b[0m \u001b[1m0s\u001b[0m 5ms/step - loss: 0.0099 - val_loss: 0.0152\n",
      "Epoch 44/50\n",
      "\u001b[1m30/30\u001b[0m \u001b[32m━━━━━━━━━━━━━━━━━━━━\u001b[0m\u001b[37m\u001b[0m \u001b[1m0s\u001b[0m 4ms/step - loss: 0.0098 - val_loss: 0.0151\n",
      "Epoch 45/50\n",
      "\u001b[1m30/30\u001b[0m \u001b[32m━━━━━━━━━━━━━━━━━━━━\u001b[0m\u001b[37m\u001b[0m \u001b[1m0s\u001b[0m 4ms/step - loss: 0.0098 - val_loss: 0.0151\n",
      "Epoch 46/50\n",
      "\u001b[1m30/30\u001b[0m \u001b[32m━━━━━━━━━━━━━━━━━━━━\u001b[0m\u001b[37m\u001b[0m \u001b[1m0s\u001b[0m 4ms/step - loss: 0.0098 - val_loss: 0.0152\n",
      "Epoch 47/50\n",
      "\u001b[1m30/30\u001b[0m \u001b[32m━━━━━━━━━━━━━━━━━━━━\u001b[0m\u001b[37m\u001b[0m \u001b[1m0s\u001b[0m 4ms/step - loss: 0.0098 - val_loss: 0.0151\n",
      "Epoch 48/50\n",
      "\u001b[1m30/30\u001b[0m \u001b[32m━━━━━━━━━━━━━━━━━━━━\u001b[0m\u001b[37m\u001b[0m \u001b[1m0s\u001b[0m 4ms/step - loss: 0.0099 - val_loss: 0.0151\n",
      "Epoch 49/50\n",
      "\u001b[1m30/30\u001b[0m \u001b[32m━━━━━━━━━━━━━━━━━━━━\u001b[0m\u001b[37m\u001b[0m \u001b[1m0s\u001b[0m 4ms/step - loss: 0.0098 - val_loss: 0.0151\n",
      "Epoch 50/50\n",
      "\u001b[1m30/30\u001b[0m \u001b[32m━━━━━━━━━━━━━━━━━━━━\u001b[0m\u001b[37m\u001b[0m \u001b[1m0s\u001b[0m 4ms/step - loss: 0.0096 - val_loss: 0.0152\n",
      "Autoencoder Model Training Finished.\n"
     ]
    }
   ],
   "source": [
    "# # Display the model summary to see the architecture and number of parameters\n",
    "print(\"\\nAutoencoder Model Summary:\")\n",
    "autoencoder.summary()\n",
    "\n",
    "# Train the autoencoder model\n",
    "# We train the autoencoder to reconstruct the input (user ratings)\n",
    "# The input and target are the same: the pivot_table\n",
    "print(\"\\nTraining the Autoencoder Model...\")\n",
    "history = autoencoder.fit(\n",
    "    pivot_table.values,\n",
    "    pivot_table.values,\n",
    "    epochs=50,  # Increased epochs for better training\n",
    "    batch_size=32,  # Smaller batch size for more stable training\n",
    "    shuffle=True,\n",
    "    verbose=1,\n",
    "    validation_split=0.2  # Use 20% of data for validation\n",
    ")\n",
    "\n",
    "print(\"Autoencoder Model Training Finished.\")"
   ]
  },
  {
   "cell_type": "markdown",
   "id": "90331479-73cc-4190-9dea-f660b1c1eba6",
   "metadata": {},
   "source": [
    "### Second Approach: Autoencoders"
   ]
  },
  {
   "cell_type": "code",
   "execution_count": 33,
   "id": "98da6497-f906-407c-b168-c2c8a239e80a",
   "metadata": {},
   "outputs": [
    {
     "name": "stdout",
     "output_type": "stream",
     "text": [
      "Number of users: 1193\n",
      "Number of items: 1350\n",
      "\n",
      "Autoencoder Model Summary:\n"
     ]
    },
    {
     "data": {
      "text/html": [
       "<pre style=\"white-space:pre;overflow-x:auto;line-height:normal;font-family:Menlo,'DejaVu Sans Mono',consolas,'Courier New',monospace\"><span style=\"font-weight: bold\">Model: \"autoencoder\"</span>\n",
       "</pre>\n"
      ],
      "text/plain": [
       "\u001b[1mModel: \"autoencoder\"\u001b[0m\n"
      ]
     },
     "metadata": {},
     "output_type": "display_data"
    },
    {
     "data": {
      "text/html": [
       "<pre style=\"white-space:pre;overflow-x:auto;line-height:normal;font-family:Menlo,'DejaVu Sans Mono',consolas,'Courier New',monospace\">┏━━━━━━━━━━━━━━━━━━━━━━━━━━━━━━━━━┳━━━━━━━━━━━━━━━━━━━━━━━━┳━━━━━━━━━━━━━━━┓\n",
       "┃<span style=\"font-weight: bold\"> Layer (type)                    </span>┃<span style=\"font-weight: bold\"> Output Shape           </span>┃<span style=\"font-weight: bold\">       Param # </span>┃\n",
       "┡━━━━━━━━━━━━━━━━━━━━━━━━━━━━━━━━━╇━━━━━━━━━━━━━━━━━━━━━━━━╇━━━━━━━━━━━━━━━┩\n",
       "│ user_rating (<span style=\"color: #0087ff; text-decoration-color: #0087ff\">InputLayer</span>)        │ (<span style=\"color: #00d7ff; text-decoration-color: #00d7ff\">None</span>, <span style=\"color: #00af00; text-decoration-color: #00af00\">1350</span>)           │             <span style=\"color: #00af00; text-decoration-color: #00af00\">0</span> │\n",
       "├─────────────────────────────────┼────────────────────────┼───────────────┤\n",
       "│ encoder_1 (<span style=\"color: #0087ff; text-decoration-color: #0087ff\">Dense</span>)               │ (<span style=\"color: #00d7ff; text-decoration-color: #00d7ff\">None</span>, <span style=\"color: #00af00; text-decoration-color: #00af00\">256</span>)            │       <span style=\"color: #00af00; text-decoration-color: #00af00\">345,856</span> │\n",
       "├─────────────────────────────────┼────────────────────────┼───────────────┤\n",
       "│ encoder_2 (<span style=\"color: #0087ff; text-decoration-color: #0087ff\">Dense</span>)               │ (<span style=\"color: #00d7ff; text-decoration-color: #00d7ff\">None</span>, <span style=\"color: #00af00; text-decoration-color: #00af00\">128</span>)            │        <span style=\"color: #00af00; text-decoration-color: #00af00\">32,896</span> │\n",
       "├─────────────────────────────────┼────────────────────────┼───────────────┤\n",
       "│ encoder_3 (<span style=\"color: #0087ff; text-decoration-color: #0087ff\">Dense</span>)               │ (<span style=\"color: #00d7ff; text-decoration-color: #00d7ff\">None</span>, <span style=\"color: #00af00; text-decoration-color: #00af00\">64</span>)             │         <span style=\"color: #00af00; text-decoration-color: #00af00\">8,256</span> │\n",
       "├─────────────────────────────────┼────────────────────────┼───────────────┤\n",
       "│ decoder_1 (<span style=\"color: #0087ff; text-decoration-color: #0087ff\">Dense</span>)               │ (<span style=\"color: #00d7ff; text-decoration-color: #00d7ff\">None</span>, <span style=\"color: #00af00; text-decoration-color: #00af00\">128</span>)            │         <span style=\"color: #00af00; text-decoration-color: #00af00\">8,320</span> │\n",
       "├─────────────────────────────────┼────────────────────────┼───────────────┤\n",
       "│ decoder_2 (<span style=\"color: #0087ff; text-decoration-color: #0087ff\">Dense</span>)               │ (<span style=\"color: #00d7ff; text-decoration-color: #00d7ff\">None</span>, <span style=\"color: #00af00; text-decoration-color: #00af00\">256</span>)            │        <span style=\"color: #00af00; text-decoration-color: #00af00\">33,024</span> │\n",
       "├─────────────────────────────────┼────────────────────────┼───────────────┤\n",
       "│ decoder_output (<span style=\"color: #0087ff; text-decoration-color: #0087ff\">Dense</span>)          │ (<span style=\"color: #00d7ff; text-decoration-color: #00d7ff\">None</span>, <span style=\"color: #00af00; text-decoration-color: #00af00\">1350</span>)           │       <span style=\"color: #00af00; text-decoration-color: #00af00\">346,950</span> │\n",
       "└─────────────────────────────────┴────────────────────────┴───────────────┘\n",
       "</pre>\n"
      ],
      "text/plain": [
       "┏━━━━━━━━━━━━━━━━━━━━━━━━━━━━━━━━━┳━━━━━━━━━━━━━━━━━━━━━━━━┳━━━━━━━━━━━━━━━┓\n",
       "┃\u001b[1m \u001b[0m\u001b[1mLayer (type)                   \u001b[0m\u001b[1m \u001b[0m┃\u001b[1m \u001b[0m\u001b[1mOutput Shape          \u001b[0m\u001b[1m \u001b[0m┃\u001b[1m \u001b[0m\u001b[1m      Param #\u001b[0m\u001b[1m \u001b[0m┃\n",
       "┡━━━━━━━━━━━━━━━━━━━━━━━━━━━━━━━━━╇━━━━━━━━━━━━━━━━━━━━━━━━╇━━━━━━━━━━━━━━━┩\n",
       "│ user_rating (\u001b[38;5;33mInputLayer\u001b[0m)        │ (\u001b[38;5;45mNone\u001b[0m, \u001b[38;5;34m1350\u001b[0m)           │             \u001b[38;5;34m0\u001b[0m │\n",
       "├─────────────────────────────────┼────────────────────────┼───────────────┤\n",
       "│ encoder_1 (\u001b[38;5;33mDense\u001b[0m)               │ (\u001b[38;5;45mNone\u001b[0m, \u001b[38;5;34m256\u001b[0m)            │       \u001b[38;5;34m345,856\u001b[0m │\n",
       "├─────────────────────────────────┼────────────────────────┼───────────────┤\n",
       "│ encoder_2 (\u001b[38;5;33mDense\u001b[0m)               │ (\u001b[38;5;45mNone\u001b[0m, \u001b[38;5;34m128\u001b[0m)            │        \u001b[38;5;34m32,896\u001b[0m │\n",
       "├─────────────────────────────────┼────────────────────────┼───────────────┤\n",
       "│ encoder_3 (\u001b[38;5;33mDense\u001b[0m)               │ (\u001b[38;5;45mNone\u001b[0m, \u001b[38;5;34m64\u001b[0m)             │         \u001b[38;5;34m8,256\u001b[0m │\n",
       "├─────────────────────────────────┼────────────────────────┼───────────────┤\n",
       "│ decoder_1 (\u001b[38;5;33mDense\u001b[0m)               │ (\u001b[38;5;45mNone\u001b[0m, \u001b[38;5;34m128\u001b[0m)            │         \u001b[38;5;34m8,320\u001b[0m │\n",
       "├─────────────────────────────────┼────────────────────────┼───────────────┤\n",
       "│ decoder_2 (\u001b[38;5;33mDense\u001b[0m)               │ (\u001b[38;5;45mNone\u001b[0m, \u001b[38;5;34m256\u001b[0m)            │        \u001b[38;5;34m33,024\u001b[0m │\n",
       "├─────────────────────────────────┼────────────────────────┼───────────────┤\n",
       "│ decoder_output (\u001b[38;5;33mDense\u001b[0m)          │ (\u001b[38;5;45mNone\u001b[0m, \u001b[38;5;34m1350\u001b[0m)           │       \u001b[38;5;34m346,950\u001b[0m │\n",
       "└─────────────────────────────────┴────────────────────────┴───────────────┘\n"
      ]
     },
     "metadata": {},
     "output_type": "display_data"
    },
    {
     "data": {
      "text/html": [
       "<pre style=\"white-space:pre;overflow-x:auto;line-height:normal;font-family:Menlo,'DejaVu Sans Mono',consolas,'Courier New',monospace\"><span style=\"font-weight: bold\"> Total params: </span><span style=\"color: #00af00; text-decoration-color: #00af00\">775,302</span> (2.96 MB)\n",
       "</pre>\n"
      ],
      "text/plain": [
       "\u001b[1m Total params: \u001b[0m\u001b[38;5;34m775,302\u001b[0m (2.96 MB)\n"
      ]
     },
     "metadata": {},
     "output_type": "display_data"
    },
    {
     "data": {
      "text/html": [
       "<pre style=\"white-space:pre;overflow-x:auto;line-height:normal;font-family:Menlo,'DejaVu Sans Mono',consolas,'Courier New',monospace\"><span style=\"font-weight: bold\"> Trainable params: </span><span style=\"color: #00af00; text-decoration-color: #00af00\">775,302</span> (2.96 MB)\n",
       "</pre>\n"
      ],
      "text/plain": [
       "\u001b[1m Trainable params: \u001b[0m\u001b[38;5;34m775,302\u001b[0m (2.96 MB)\n"
      ]
     },
     "metadata": {},
     "output_type": "display_data"
    },
    {
     "data": {
      "text/html": [
       "<pre style=\"white-space:pre;overflow-x:auto;line-height:normal;font-family:Menlo,'DejaVu Sans Mono',consolas,'Courier New',monospace\"><span style=\"font-weight: bold\"> Non-trainable params: </span><span style=\"color: #00af00; text-decoration-color: #00af00\">0</span> (0.00 B)\n",
       "</pre>\n"
      ],
      "text/plain": [
       "\u001b[1m Non-trainable params: \u001b[0m\u001b[38;5;34m0\u001b[0m (0.00 B)\n"
      ]
     },
     "metadata": {},
     "output_type": "display_data"
    },
    {
     "name": "stdout",
     "output_type": "stream",
     "text": [
      "\n",
      "Training the Autoencoder Model...\n",
      "Epoch 1/50\n",
      "\u001b[1m30/30\u001b[0m \u001b[32m━━━━━━━━━━━━━━━━━━━━\u001b[0m\u001b[37m\u001b[0m \u001b[1m2s\u001b[0m 9ms/step - loss: 16.7129 - val_loss: 16.6678\n",
      "Epoch 2/50\n",
      "\u001b[1m30/30\u001b[0m \u001b[32m━━━━━━━━━━━━━━━━━━━━\u001b[0m\u001b[37m\u001b[0m \u001b[1m0s\u001b[0m 4ms/step - loss: 15.2174 - val_loss: 21.4972\n",
      "Epoch 3/50\n",
      "\u001b[1m30/30\u001b[0m \u001b[32m━━━━━━━━━━━━━━━━━━━━\u001b[0m\u001b[37m\u001b[0m \u001b[1m0s\u001b[0m 4ms/step - loss: 10.1647 - val_loss: 17.0452\n",
      "Epoch 4/50\n",
      "\u001b[1m30/30\u001b[0m \u001b[32m━━━━━━━━━━━━━━━━━━━━\u001b[0m\u001b[37m\u001b[0m \u001b[1m0s\u001b[0m 4ms/step - loss: 3.2770 - val_loss: 16.8405\n",
      "Epoch 5/50\n",
      "\u001b[1m30/30\u001b[0m \u001b[32m━━━━━━━━━━━━━━━━━━━━\u001b[0m\u001b[37m\u001b[0m \u001b[1m0s\u001b[0m 4ms/step - loss: 2.1737 - val_loss: 16.9029\n",
      "Epoch 6/50\n",
      "\u001b[1m30/30\u001b[0m \u001b[32m━━━━━━━━━━━━━━━━━━━━\u001b[0m\u001b[37m\u001b[0m \u001b[1m0s\u001b[0m 4ms/step - loss: 1.0824 - val_loss: 16.8983\n",
      "Epoch 7/50\n",
      "\u001b[1m30/30\u001b[0m \u001b[32m━━━━━━━━━━━━━━━━━━━━\u001b[0m\u001b[37m\u001b[0m \u001b[1m0s\u001b[0m 4ms/step - loss: 0.6974 - val_loss: 16.9641\n",
      "Epoch 8/50\n",
      "\u001b[1m30/30\u001b[0m \u001b[32m━━━━━━━━━━━━━━━━━━━━\u001b[0m\u001b[37m\u001b[0m \u001b[1m0s\u001b[0m 4ms/step - loss: 0.3814 - val_loss: 16.9701\n",
      "Epoch 9/50\n",
      "\u001b[1m30/30\u001b[0m \u001b[32m━━━━━━━━━━━━━━━━━━━━\u001b[0m\u001b[37m\u001b[0m \u001b[1m0s\u001b[0m 4ms/step - loss: 0.2520 - val_loss: 16.9640\n",
      "Epoch 10/50\n",
      "\u001b[1m30/30\u001b[0m \u001b[32m━━━━━━━━━━━━━━━━━━━━\u001b[0m\u001b[37m\u001b[0m \u001b[1m0s\u001b[0m 4ms/step - loss: 0.2513 - val_loss: 16.9791\n",
      "Epoch 11/50\n",
      "\u001b[1m30/30\u001b[0m \u001b[32m━━━━━━━━━━━━━━━━━━━━\u001b[0m\u001b[37m\u001b[0m \u001b[1m0s\u001b[0m 4ms/step - loss: 0.1756 - val_loss: 16.9705\n",
      "Epoch 12/50\n",
      "\u001b[1m30/30\u001b[0m \u001b[32m━━━━━━━━━━━━━━━━━━━━\u001b[0m\u001b[37m\u001b[0m \u001b[1m0s\u001b[0m 4ms/step - loss: 0.2259 - val_loss: 16.9600\n",
      "Epoch 13/50\n",
      "\u001b[1m30/30\u001b[0m \u001b[32m━━━━━━━━━━━━━━━━━━━━\u001b[0m\u001b[37m\u001b[0m \u001b[1m0s\u001b[0m 4ms/step - loss: 0.1801 - val_loss: 16.9599\n",
      "Epoch 14/50\n",
      "\u001b[1m30/30\u001b[0m \u001b[32m━━━━━━━━━━━━━━━━━━━━\u001b[0m\u001b[37m\u001b[0m \u001b[1m0s\u001b[0m 4ms/step - loss: 0.1364 - val_loss: 16.9268\n",
      "Epoch 15/50\n",
      "\u001b[1m30/30\u001b[0m \u001b[32m━━━━━━━━━━━━━━━━━━━━\u001b[0m\u001b[37m\u001b[0m \u001b[1m0s\u001b[0m 4ms/step - loss: 0.1404 - val_loss: 16.9351\n",
      "Epoch 16/50\n",
      "\u001b[1m30/30\u001b[0m \u001b[32m━━━━━━━━━━━━━━━━━━━━\u001b[0m\u001b[37m\u001b[0m \u001b[1m0s\u001b[0m 4ms/step - loss: 0.1556 - val_loss: 16.9254\n",
      "Epoch 17/50\n",
      "\u001b[1m30/30\u001b[0m \u001b[32m━━━━━━━━━━━━━━━━━━━━\u001b[0m\u001b[37m\u001b[0m \u001b[1m0s\u001b[0m 4ms/step - loss: 0.1522 - val_loss: 16.9292\n",
      "Epoch 18/50\n",
      "\u001b[1m30/30\u001b[0m \u001b[32m━━━━━━━━━━━━━━━━━━━━\u001b[0m\u001b[37m\u001b[0m \u001b[1m0s\u001b[0m 5ms/step - loss: 0.1460 - val_loss: 16.9255\n",
      "Epoch 19/50\n",
      "\u001b[1m30/30\u001b[0m \u001b[32m━━━━━━━━━━━━━━━━━━━━\u001b[0m\u001b[37m\u001b[0m \u001b[1m0s\u001b[0m 4ms/step - loss: 0.1508 - val_loss: 16.9034\n",
      "Epoch 20/50\n",
      "\u001b[1m30/30\u001b[0m \u001b[32m━━━━━━━━━━━━━━━━━━━━\u001b[0m\u001b[37m\u001b[0m \u001b[1m0s\u001b[0m 4ms/step - loss: 0.2083 - val_loss: 16.8985\n",
      "Epoch 21/50\n",
      "\u001b[1m30/30\u001b[0m \u001b[32m━━━━━━━━━━━━━━━━━━━━\u001b[0m\u001b[37m\u001b[0m \u001b[1m0s\u001b[0m 4ms/step - loss: 0.1702 - val_loss: 16.8874\n",
      "Epoch 22/50\n",
      "\u001b[1m30/30\u001b[0m \u001b[32m━━━━━━━━━━━━━━━━━━━━\u001b[0m\u001b[37m\u001b[0m \u001b[1m0s\u001b[0m 4ms/step - loss: 0.1413 - val_loss: 16.8870\n",
      "Epoch 23/50\n",
      "\u001b[1m30/30\u001b[0m \u001b[32m━━━━━━━━━━━━━━━━━━━━\u001b[0m\u001b[37m\u001b[0m \u001b[1m0s\u001b[0m 4ms/step - loss: 0.1824 - val_loss: 16.8774\n",
      "Epoch 24/50\n",
      "\u001b[1m30/30\u001b[0m \u001b[32m━━━━━━━━━━━━━━━━━━━━\u001b[0m\u001b[37m\u001b[0m \u001b[1m0s\u001b[0m 4ms/step - loss: 0.1650 - val_loss: 16.8628\n",
      "Epoch 25/50\n",
      "\u001b[1m30/30\u001b[0m \u001b[32m━━━━━━━━━━━━━━━━━━━━\u001b[0m\u001b[37m\u001b[0m \u001b[1m0s\u001b[0m 4ms/step - loss: 0.1738 - val_loss: 16.8419\n",
      "Epoch 26/50\n",
      "\u001b[1m30/30\u001b[0m \u001b[32m━━━━━━━━━━━━━━━━━━━━\u001b[0m\u001b[37m\u001b[0m \u001b[1m0s\u001b[0m 4ms/step - loss: 0.1762 - val_loss: 16.8629\n",
      "Epoch 27/50\n",
      "\u001b[1m30/30\u001b[0m \u001b[32m━━━━━━━━━━━━━━━━━━━━\u001b[0m\u001b[37m\u001b[0m \u001b[1m0s\u001b[0m 4ms/step - loss: 0.1497 - val_loss: 16.8559\n",
      "Epoch 28/50\n",
      "\u001b[1m30/30\u001b[0m \u001b[32m━━━━━━━━━━━━━━━━━━━━\u001b[0m\u001b[37m\u001b[0m \u001b[1m0s\u001b[0m 4ms/step - loss: 0.1264 - val_loss: 16.8272\n",
      "Epoch 29/50\n",
      "\u001b[1m30/30\u001b[0m \u001b[32m━━━━━━━━━━━━━━━━━━━━\u001b[0m\u001b[37m\u001b[0m \u001b[1m0s\u001b[0m 4ms/step - loss: 0.1423 - val_loss: 16.8443\n",
      "Epoch 30/50\n",
      "\u001b[1m30/30\u001b[0m \u001b[32m━━━━━━━━━━━━━━━━━━━━\u001b[0m\u001b[37m\u001b[0m \u001b[1m0s\u001b[0m 5ms/step - loss: 0.1277 - val_loss: 16.8071\n",
      "Epoch 31/50\n",
      "\u001b[1m30/30\u001b[0m \u001b[32m━━━━━━━━━━━━━━━━━━━━\u001b[0m\u001b[37m\u001b[0m \u001b[1m0s\u001b[0m 5ms/step - loss: 0.1327 - val_loss: 16.8439\n",
      "Epoch 32/50\n",
      "\u001b[1m30/30\u001b[0m \u001b[32m━━━━━━━━━━━━━━━━━━━━\u001b[0m\u001b[37m\u001b[0m \u001b[1m0s\u001b[0m 5ms/step - loss: 0.1483 - val_loss: 16.8044\n",
      "Epoch 33/50\n",
      "\u001b[1m30/30\u001b[0m \u001b[32m━━━━━━━━━━━━━━━━━━━━\u001b[0m\u001b[37m\u001b[0m \u001b[1m0s\u001b[0m 4ms/step - loss: 0.1488 - val_loss: 16.8064\n",
      "Epoch 34/50\n",
      "\u001b[1m30/30\u001b[0m \u001b[32m━━━━━━━━━━━━━━━━━━━━\u001b[0m\u001b[37m\u001b[0m \u001b[1m0s\u001b[0m 4ms/step - loss: 0.1310 - val_loss: 16.8134\n",
      "Epoch 35/50\n",
      "\u001b[1m30/30\u001b[0m \u001b[32m━━━━━━━━━━━━━━━━━━━━\u001b[0m\u001b[37m\u001b[0m \u001b[1m0s\u001b[0m 4ms/step - loss: 0.1521 - val_loss: 16.8001\n",
      "Epoch 36/50\n",
      "\u001b[1m30/30\u001b[0m \u001b[32m━━━━━━━━━━━━━━━━━━━━\u001b[0m\u001b[37m\u001b[0m \u001b[1m0s\u001b[0m 5ms/step - loss: 0.1373 - val_loss: 16.7921\n",
      "Epoch 37/50\n",
      "\u001b[1m30/30\u001b[0m \u001b[32m━━━━━━━━━━━━━━━━━━━━\u001b[0m\u001b[37m\u001b[0m \u001b[1m0s\u001b[0m 4ms/step - loss: 0.1086 - val_loss: 16.7911\n",
      "Epoch 38/50\n",
      "\u001b[1m30/30\u001b[0m \u001b[32m━━━━━━━━━━━━━━━━━━━━\u001b[0m\u001b[37m\u001b[0m \u001b[1m0s\u001b[0m 5ms/step - loss: 0.1020 - val_loss: 16.7829\n",
      "Epoch 39/50\n",
      "\u001b[1m30/30\u001b[0m \u001b[32m━━━━━━━━━━━━━━━━━━━━\u001b[0m\u001b[37m\u001b[0m \u001b[1m0s\u001b[0m 5ms/step - loss: 0.0822 - val_loss: 16.8041\n",
      "Epoch 40/50\n",
      "\u001b[1m30/30\u001b[0m \u001b[32m━━━━━━━━━━━━━━━━━━━━\u001b[0m\u001b[37m\u001b[0m \u001b[1m0s\u001b[0m 5ms/step - loss: 0.1021 - val_loss: 16.7684\n",
      "Epoch 41/50\n",
      "\u001b[1m30/30\u001b[0m \u001b[32m━━━━━━━━━━━━━━━━━━━━\u001b[0m\u001b[37m\u001b[0m \u001b[1m0s\u001b[0m 5ms/step - loss: 0.0866 - val_loss: 16.7833\n",
      "Epoch 42/50\n",
      "\u001b[1m30/30\u001b[0m \u001b[32m━━━━━━━━━━━━━━━━━━━━\u001b[0m\u001b[37m\u001b[0m \u001b[1m0s\u001b[0m 4ms/step - loss: 0.0896 - val_loss: 16.7842\n",
      "Epoch 43/50\n",
      "\u001b[1m30/30\u001b[0m \u001b[32m━━━━━━━━━━━━━━━━━━━━\u001b[0m\u001b[37m\u001b[0m \u001b[1m0s\u001b[0m 4ms/step - loss: 0.0877 - val_loss: 16.7905\n",
      "Epoch 44/50\n",
      "\u001b[1m30/30\u001b[0m \u001b[32m━━━━━━━━━━━━━━━━━━━━\u001b[0m\u001b[37m\u001b[0m \u001b[1m0s\u001b[0m 4ms/step - loss: 0.0943 - val_loss: 16.7764\n",
      "Epoch 45/50\n",
      "\u001b[1m30/30\u001b[0m \u001b[32m━━━━━━━━━━━━━━━━━━━━\u001b[0m\u001b[37m\u001b[0m \u001b[1m0s\u001b[0m 4ms/step - loss: 0.1038 - val_loss: 16.7752\n",
      "Epoch 46/50\n",
      "\u001b[1m30/30\u001b[0m \u001b[32m━━━━━━━━━━━━━━━━━━━━\u001b[0m\u001b[37m\u001b[0m \u001b[1m0s\u001b[0m 4ms/step - loss: 0.1031 - val_loss: 16.7758\n",
      "Epoch 47/50\n",
      "\u001b[1m30/30\u001b[0m \u001b[32m━━━━━━━━━━━━━━━━━━━━\u001b[0m\u001b[37m\u001b[0m \u001b[1m0s\u001b[0m 4ms/step - loss: 0.0909 - val_loss: 16.7598\n",
      "Epoch 48/50\n",
      "\u001b[1m30/30\u001b[0m \u001b[32m━━━━━━━━━━━━━━━━━━━━\u001b[0m\u001b[37m\u001b[0m \u001b[1m0s\u001b[0m 5ms/step - loss: 0.0923 - val_loss: 16.7711\n",
      "Epoch 49/50\n",
      "\u001b[1m30/30\u001b[0m \u001b[32m━━━━━━━━━━━━━━━━━━━━\u001b[0m\u001b[37m\u001b[0m \u001b[1m0s\u001b[0m 4ms/step - loss: 0.1021 - val_loss: 16.7527\n",
      "Epoch 50/50\n",
      "\u001b[1m30/30\u001b[0m \u001b[32m━━━━━━━━━━━━━━━━━━━━\u001b[0m\u001b[37m\u001b[0m \u001b[1m0s\u001b[0m 4ms/step - loss: 0.0995 - val_loss: 16.7376\n",
      "Autoencoder Model Training Finished.\n"
     ]
    }
   ],
   "source": [
    "import tensorflow as tf\n",
    "from tensorflow import keras\n",
    "from tensorflow.keras import layers\n",
    "import pandas as pd\n",
    "import numpy as np\n",
    "from sklearn.metrics import mean_squared_error\n",
    "\n",
    "# Get the number of products (items) and users from the pivot table\n",
    "num_items = pivot_table.shape[1]\n",
    "num_users = pivot_table.shape[0]\n",
    "\n",
    "print(f\"Number of users: {num_users}\")\n",
    "print(f\"Number of items: {num_items}\")\n",
    "\n",
    "# Define the autoencoder model\n",
    "input_layer = keras.Input(shape=(num_items,), name='user_rating')\n",
    "\n",
    "encoder = layers.Dense(256, activation='relu', name='encoder_1')(input_layer)\n",
    "encoder = layers.Dense(128, activation='relu', name='encoder_2')(encoder)\n",
    "encoder = layers.Dense(64, activation='relu', name='encoder_3')(encoder)\n",
    "\n",
    "decoder = layers.Dense(128, activation='relu', name='decoder_1')(encoder)\n",
    "decoder = layers.Dense(256, activation='relu', name='decoder_2')(decoder)\n",
    "\n",
    "output_layer = layers.Dense(num_items, activation='linear', name='decoder_output')(decoder)\n",
    "\n",
    "autoencoder = keras.Model(inputs=input_layer, outputs=output_layer, name='autoencoder')\n",
    "\n",
    "# --- INSERT: masked MSE loss that ignores zeros ---\n",
    "def masked_mse(y_true, y_pred):\n",
    "    # mask = 1 where the true rating is non-zero, else 0\n",
    "    mask = tf.cast(tf.not_equal(y_true, 0.0), dtype=tf.float32)\n",
    "    # compute squared errors only on observed entries\n",
    "    se = tf.square((y_true - y_pred) * mask)\n",
    "    # sum and normalize by number of observed entries\n",
    "    return tf.reduce_sum(se) / (tf.reduce_sum(mask) + 1e-8)\n",
    "\n",
    "# Compile with masked loss instead of plain 'mse'\n",
    "autoencoder.compile(\n",
    "    optimizer=keras.optimizers.Adam(learning_rate=0.001),\n",
    "    loss=masked_mse,\n",
    ")\n",
    "\n",
    "print(\"\\nAutoencoder Model Summary:\")\n",
    "autoencoder.summary()\n",
    "\n",
    "print(\"\\nTraining the Autoencoder Model...\")\n",
    "history = autoencoder.fit(\n",
    "    pivot_table.values,\n",
    "    pivot_table.values,\n",
    "    epochs=50,\n",
    "    batch_size=32,\n",
    "    shuffle=True,\n",
    "    verbose=1,\n",
    "    validation_split=0.2\n",
    ")\n",
    "\n",
    "print(\"Autoencoder Model Training Finished.\")\n"
   ]
  },
  {
   "cell_type": "markdown",
   "id": "f76a4f51-8585-4249-acfa-3f026ba6e5bb",
   "metadata": {
    "jp-MarkdownHeadingCollapsed": true
   },
   "source": [
    "# Encoded recomdenations"
   ]
  },
  {
   "cell_type": "code",
   "execution_count": 35,
   "id": "ee53ebfd16e396ba",
   "metadata": {
    "ExecuteTime": {
     "end_time": "2025-05-21T22:09:53.290926Z",
     "start_time": "2025-05-21T22:09:53.288456Z"
    }
   },
   "outputs": [],
   "source": [
    "# Function to get Autoencoder-based recommendations for a given user\n",
    "def get_autoencoder_recommendations(user_id, autoencoder_model, pivot_table, n=10):\n",
    "    if user_id not in pivot_table.index:\n",
    "        print(f\"User ID '{user_id}' not found in the pivot table.\")\n",
    "        return pd.Series()\n",
    "\n",
    "    # Get the user's rating vector from the pivot table\n",
    "    user_ratings = pivot_table.loc[[user_id]].values\n",
    "    # Predict the ratings for all items using the trained autoencoder model\n",
    "    predicted_ratings = autoencoder_model.predict(user_ratings, verbose=0).flatten()\n",
    "    # Create a pandas Series of predicted ratings with product_id as index\n",
    "    predicted_ratings_series = pd.Series(predicted_ratings, index=pivot_table.columns)\n",
    "    # Get the list of items already rated by the target user\n",
    "    user_rated_items = pivot_table.loc[user_id][pivot_table.loc[user_id] > 0].index\n",
    "    # Drop items already rated by the user from the recommendations\n",
    "    recommendations = predicted_ratings_series.drop(user_rated_items, errors='ignore')\n",
    "    # Sort recommendations by predicted rating in descending order\n",
    "    recommendations = recommendations.sort_values(ascending=False)\n",
    "    # Return the top N product IDs\n",
    "    return recommendations.head(n)"
   ]
  },
  {
   "cell_type": "markdown",
   "id": "67d86483-ae0e-4efb-a937-38bb5d3819f9",
   "metadata": {},
   "source": [
    "# Named recomendation"
   ]
  },
  {
   "cell_type": "code",
   "execution_count": 37,
   "id": "395c9f64-a78d-41fa-ad87-95c649f6ebe2",
   "metadata": {},
   "outputs": [],
   "source": [
    "def get_named_recommendations_autoencoder(user_id, \n",
    "                                          autoencoder_model, \n",
    "                                          pivot_table, \n",
    "                                          item_enc, \n",
    "                                          products, \n",
    "                                          n=5):\n",
    "\n",
    "    if user_id not in pivot_table.index:\n",
    "        raise ValueError(f\"User ID {user_id} not in pivot_table\")\n",
    "\n",
    "    # 1. Get user's rating vector and predict reconstructed ratings\n",
    "    user_vec = pivot_table.loc[[user_id]].values  # shape (1, num_items)\n",
    "    pred_vec = autoencoder_model.predict(user_vec, verbose=0).flatten()\n",
    "\n",
    "    # 2. Build a Series of predictions indexed by encoded product_id\n",
    "    pred_series = pd.Series(pred_vec, index=pivot_table.columns)\n",
    "\n",
    "    # 3. Exclude items the user has already rated\n",
    "    seen = pivot_table.loc[user_id][pivot_table.loc[user_id] > 0].index\n",
    "    pred_series = pred_series.drop(seen, errors='ignore')\n",
    "\n",
    "    # 4. Select top-n encoded product_ids\n",
    "    top_n = pred_series.sort_values(ascending=False).head(n)\n",
    "\n",
    "    # 5. Decode product_ids → original product_id, look up names\n",
    "    recommendations = []\n",
    "    for encoded_iid, score in top_n.items():\n",
    "        orig_pid = item_enc.inverse_transform([encoded_iid])[0]\n",
    "        name = products.loc[orig_pid, 'product_name']\n",
    "        recommendations.append((orig_pid, name, float(score)))\n",
    "\n",
    "    return recommendations\n"
   ]
  },
  {
   "cell_type": "code",
   "execution_count": 38,
   "id": "427466a4-faa7-4e12-9a48-793ba7753b2f",
   "metadata": {},
   "outputs": [
    {
     "name": "stdout",
     "output_type": "stream",
     "text": [
      "B07H1S7XW8 — STRIFF Wall Mount Phone Holder Wall Mount with Adhesive Strips, Charging Holder Compatible with iPhone, Smartphone and Mini Tablet (Pack of 1) (White): 5.12\n",
      "B08KDBLMQP — Croma 500W Mixer Grinder with 3 Stainless Steel Leak-proof Jars, 3 speed & Pulse function, 2 years warranty (CRAK4184, White & Purple): 4.88\n",
      "B0148NPH9I — Logitech K380 Wireless Multi-Device Keyboard for Windows, Apple iOS, Apple TV Android or Chrome, Bluetooth, Compact Space-Saving Design, PC/Mac/Laptop/Smartphone/Tablet (Dark Grey): 4.87\n",
      "B09BCNQ9R2 — DYAZO USB 3.0 Type C Female to USB A Male Connector/Converter/Adapter Compatible for Samsung Galaxy Note s 20 10 Plus Ultra,Google Pixel 4 5 3 2 & Other Type-c Devices: 4.64\n",
      "B08461VC1Z — Scarters Mouse Pad, Desk Mat Extended for Work from Home/Office/Gaming | Vegan PU Leather | Anti-Skid, Anti-Slip, Reversible Splash-Proof – Deskspread ~ Navy Blue & Yellow: 4.62\n"
     ]
    }
   ],
   "source": [
    "\n",
    "USER = 90\n",
    "recs = get_named_recommendations_autoencoder(\n",
    "    user_id=USER,\n",
    "    autoencoder_model=autoencoder,\n",
    "    pivot_table=pivot_table,\n",
    "    item_enc=item_enc,\n",
    "    products=products,\n",
    "    n=5\n",
    ")\n",
    "\n",
    "for pid, name, score in recs:\n",
    "    print(f\"{pid} — {name}: {score:.2f}\")\n"
   ]
  },
  {
   "cell_type": "code",
   "execution_count": 39,
   "id": "b99aba46-3860-4f8e-9973-b9f5b4a5bcbe",
   "metadata": {},
   "outputs": [
    {
     "data": {
      "text/plain": [
       "'Gizga Essentials USB WiFi Adapter for PC, 150 Mbps Wireless Network Adapter for Desktop - Nano Size WiFi Dongle Compatible with Windows, Mac OS & Linux Kernel | WPA/WPA2 Encryption Standards| Black'"
      ]
     },
     "execution_count": 39,
     "metadata": {},
     "output_type": "execute_result"
    }
   ],
   "source": [
    "original_product_id = item_enc.inverse_transform([data.loc[USER, \"product_id\"]])[0]\n",
    "product_name = products.loc[original_product_id, 'product_name']\n",
    "product_name"
   ]
  },
  {
   "cell_type": "markdown",
   "id": "9bf54251559bc898",
   "metadata": {},
   "source": [
    "### Calculate RMSE"
   ]
  },
  {
   "cell_type": "code",
   "execution_count": 41,
   "id": "c12c6965a10ae078",
   "metadata": {
    "ExecuteTime": {
     "end_time": "2025-05-21T22:09:53.383357Z",
     "start_time": "2025-05-21T22:09:53.304539Z"
    }
   },
   "outputs": [
    {
     "name": "stdout",
     "output_type": "stream",
     "text": [
      "\n",
      "Evaluating Model Performance...\n",
      "Autoencoder RMSE (non-zero ratings only): 1.8896\n"
     ]
    }
   ],
   "source": [
    "# Calculate RMSE for model evaluation\n",
    "print(\"\\nEvaluating Model Performance...\")\n",
    "\n",
    "# Reconstruct all ratings using the trained autoencoder\n",
    "reconstructed_ratings = autoencoder.predict(pivot_table.values, verbose=0)\n",
    "\n",
    "# Calculate RMSE between original and reconstructed ratings\n",
    "# Only consider non-zero ratings (actual ratings, not missing values)\n",
    "original_flat = pivot_table.values.flatten()\n",
    "reconstructed_flat = reconstructed_ratings.flatten()\n",
    "\n",
    "# Create mask for non-zero values (actual ratings)\n",
    "mask = original_flat > 0\n",
    "\n",
    "# Calculate RMSE only for actual ratings\n",
    "if np.sum(mask) > 0:\n",
    "    rmse = np.sqrt(mean_squared_error(original_flat[mask], reconstructed_flat[mask]))\n",
    "    print(f\"Autoencoder RMSE (non-zero ratings only): {rmse:.4f}\")\n",
    "else:\n",
    "    print(\"No non-zero ratings found for RMSE calculation\")\n",
    "\n",
    "# Calculate overall RMSE (including zero values)\n",
    "#overall_rmse = np.sqrt(mean_squared_error(original_flat, reconstructed_flat))\n",
    "#print(f\"Autoencoder RMSE (all values): {overall_rmse:.4f}\")"
   ]
  },
  {
   "cell_type": "markdown",
   "id": "e7c0f08969ec9515",
   "metadata": {},
   "source": [
    "### Calculate Precision@k and Recall@k"
   ]
  },
  {
   "cell_type": "code",
   "execution_count": 43,
   "id": "99a94cfb812876a8",
   "metadata": {
    "ExecuteTime": {
     "end_time": "2025-05-21T22:10:04.455307Z",
     "start_time": "2025-05-21T22:09:53.430685Z"
    }
   },
   "outputs": [],
   "source": [
    "# Prepare predictions in the format expected by precision_recall_at_k function\n",
    "# Iterate through each user and their items in the pivot_table\n",
    "autoencoder_predictions_for_metrics = []\n",
    "for user_idx, user_id in enumerate(pivot_table.index):\n",
    "    for product_idx, product_id in enumerate(pivot_table.columns):\n",
    "        true_rating = pivot_table.iloc[user_idx, product_idx]\n",
    "        predicted_rating = reconstructed_ratings[user_idx, product_idx]\n",
    "\n",
    "        # Only include user-item pairs where a true rating exists (i.e., not an unrated item, typically 0 in pivot_table)\n",
    "        # We assume 0 in pivot_table means unrated, and actual ratings are > 0.\n",
    "        # If your unrated values are NaN, change `true_rating > 0` to `not pd.isna(true_rating)`\n",
    "        if true_rating > 0:\n",
    "            autoencoder_predictions_for_metrics.append((user_id, product_id, true_rating, predicted_rating, None))\n",
    "# Set your desired k and rating threshold for 'relevant' items for the Autoencoder\n",
    "K_AE = 10\n",
    "RATING_THRESHOLD_AE = 3.5 # Assuming a rating of 3.5 or higher is considered 'relevant'\n",
    "\n",
    "# Calculate Precision@k and Recall@k using the prepared predictions\n",
    "precisions_ae, recalls_ae = precision_recall_at_k(\n",
    "    autoencoder_predictions_for_metrics,\n",
    "    k=K_AE,\n",
    "    threshold=RATING_THRESHOLD_AE\n",
    ")"
   ]
  },
  {
   "cell_type": "code",
   "execution_count": 44,
   "id": "929bf06b-4051-477f-8458-bb72b5b23311",
   "metadata": {},
   "outputs": [
    {
     "name": "stdout",
     "output_type": "stream",
     "text": [
      "\n",
      "Calculating Precision@k and Recall@k for Autoencoder model...\n",
      "Autoencoder Precision@10: 0.9983\n",
      "Autoencoder Recall@10: 0.7524\n"
     ]
    }
   ],
   "source": [
    "# --- New code for Precision@k and Recall@k for Autoencoder ---\n",
    "print(\"\\nCalculating Precision@k and Recall@k for Autoencoder model...\")\n",
    "# Average precision and recall for Autoencoder\n",
    "avg_precision_ae = sum(prec for prec in precisions_ae.values()) / len(precisions_ae)\n",
    "avg_recall_ae = sum(rec for rec in recalls_ae.values()) / len(recalls_ae)\n",
    "\n",
    "print(f\"Autoencoder Precision@{K_AE}: {avg_precision_ae:.4f}\")\n",
    "print(f\"Autoencoder Recall@{K_AE}: {avg_recall_ae:.4f}\")"
   ]
  },
  {
   "cell_type": "code",
   "execution_count": 45,
   "id": "a6e0e1a734d8ca5b",
   "metadata": {
    "ExecuteTime": {
     "end_time": "2025-05-21T22:10:20.671119Z",
     "start_time": "2025-05-21T22:10:20.603191Z"
    }
   },
   "outputs": [
    {
     "data": {
      "image/png": "[encoded data removed]",
      "text/plain": [
       "<Figure size 640x480 with 1 Axes>"
      ]
     },
     "metadata": {},
     "output_type": "display_data"
    }
   ],
   "source": [
    "# ## 8. Visualizations\n",
    "import matplotlib.pyplot as plt\n",
    "# Plot training loss of autoencoder\n",
    "plt.figure()\n",
    "plt.plot(history.history['loss'], label='Train Loss')\n",
    "plt.plot(history.history['val_loss'], label='Val Loss')\n",
    "plt.title('Autoencoder Loss')\n",
    "plt.xlabel('Epoch')\n",
    "plt.ylabel('MSE Loss')\n",
    "plt.legend()\n",
    "plt.show()"
   ]
  },
  {
   "cell_type": "markdown",
   "id": "1f35208d3ac86625",
   "metadata": {},
   "source": [
    "# Comparison"
   ]
  },
  {
   "cell_type": "code",
   "execution_count": 47,
   "id": "5257e54893afc16f",
   "metadata": {
    "ExecuteTime": {
     "end_time": "2025-05-21T22:10:23.874533Z",
     "start_time": "2025-05-21T22:10:23.871832Z"
    }
   },
   "outputs": [],
   "source": [
    "# --- 7. Comparison ---\n",
    "# Use the calculated RMSE and Precision@10 values\n",
    "svd_rmse = rmse_svd # RMSE from SVD model evaluation\n",
    "auto_rmse = rmse # RMSE from Autoencoder (non-zero ratings)\n",
    "svd_prec = avg_precision # Precision@10 for SVD\n",
    "auto_prec = avg_precision_ae # Precision@10 for Autoencoder\n",
    "svd_recall = avg_recall # Recall@10 for SVD\n",
    "auto_recall = avg_recall_ae # Recall@10 for Autoencoder"
   ]
  },
  {
   "cell_type": "code",
   "execution_count": 48,
   "id": "faad068e05dee6d7",
   "metadata": {
    "ExecuteTime": {
     "end_time": "2025-05-21T22:10:24.372367Z",
     "start_time": "2025-05-21T22:10:24.368791Z"
    }
   },
   "outputs": [
    {
     "name": "stdout",
     "output_type": "stream",
     "text": [
      "\n",
      "============================================================\n",
      "MODEL COMPARISON RESULTS\n",
      "============================================================\n",
      "| Model        | Test RMSE | Precision@10 | Recall@10 |\n",
      "|--------------|-----------|--------------|-----------|\n",
      "| SVD          | 0.2593    | 0.9856       | 0.9988      |\n",
      "| Autoencoder  | 1.8896    | 0.9983       | 0.7524      |\n"
     ]
    }
   ],
   "source": [
    "print(\"\\n\" + \"=\" * 60)\n",
    "print(\"MODEL COMPARISON RESULTS\")\n",
    "print(\"=\" * 60)\n",
    "\n",
    "print(\"| Model        | Test RMSE | Precision@10 | Recall@10 |\")\n",
    "print(\"|--------------|-----------|--------------|-----------|\")\n",
    "print(f\"| SVD          | {svd_rmse:.4f}    | {svd_prec:.4f}       | {svd_recall:.4f}      |\")\n",
    "print(f\"| Autoencoder  | {auto_rmse:.4f}    | {auto_prec:.4f}       | {auto_recall:.4f}      |\")\n"
   ]
  },
  {
   "cell_type": "code",
   "execution_count": 49,
   "id": "fe6704c2-b069-4f0a-a35a-63a883a0d681",
   "metadata": {},
   "outputs": [
    {
     "data": {
      "image/png": "[encoded data removed]",
      "text/plain": [
       "<Figure size 1000x600 with 1 Axes>"
      ]
     },
     "metadata": {},
     "output_type": "display_data"
    }
   ],
   "source": [
    "import matplotlib.pyplot as plt\n",
    "import numpy as np\n",
    "import pandas as pd\n",
    "\n",
    "# Example data (replace with your actual values)\n",
    "data = {\n",
    "    \"Model\": [\"SVD\", \"Autoencoder\"],\n",
    "    \"Test RMSE\": [0.2593, 1.8902],      # Replace with your RMSE values\n",
    "    \"Precision@10\": [0.9856, 0.9941],   # Replace with your Precision@10 values\n",
    "    \"Recall@10\": [0.9988, 0.7819]       # Replace with your Recall@10 values\n",
    "}\n",
    "\n",
    "df = pd.DataFrame(data)\n",
    "\n",
    "# Set up the plot\n",
    "fig, ax = plt.subplots(figsize=(10, 6))\n",
    "bar_width = 0.25\n",
    "index = np.arange(len(df))\n",
    "\n",
    "# Plot each metric\n",
    "b1 = ax.bar(index, df[\"Test RMSE\"], bar_width, label=\"Test RMSE\", color=\"#FF6B6B\")\n",
    "b2 = ax.bar(index + bar_width, df[\"Precision@10\"], bar_width, label=\"Precision@10\", color=\"#4ECDC4\")\n",
    "b3 = ax.bar(index + 2*bar_width, df[\"Recall@10\"], bar_width, label=\"Recall@10\", color=\"#45B7D1\")\n",
    "\n",
    "# Add labels and title\n",
    "ax.set_xlabel(\"Models\", fontsize=12)\n",
    "ax.set_ylabel(\"Scores\", fontsize=12)\n",
    "ax.set_title(\"Model Comparison: RMSE, Precision@10, Recall@10\", fontsize=14)\n",
    "ax.set_xticks(index + bar_width)\n",
    "ax.set_xticklabels(df[\"Model\"])\n",
    "ax.legend()\n",
    "\n",
    "# Add value labels on top of bars\n",
    "def add_labels(bars):\n",
    "    for bar in bars:\n",
    "        height = bar.get_height()\n",
    "        ax.annotate(f\"{height:.4f}\",\n",
    "                    xy=(bar.get_x() + bar.get_width()/2, height),\n",
    "                    xytext=(0, 3),  # 3 points vertical offset\n",
    "                    textcoords=\"offset points\",\n",
    "                    ha=\"center\", va=\"bottom\", fontsize=10)\n",
    "\n",
    "for b in [b1, b2, b3]:\n",
    "    add_labels(b)\n",
    "\n",
    "plt.tight_layout()\n",
    "plt.grid(axis=\"y\", linestyle=\"--\", alpha=0.7)\n",
    "plt.show()"
   ]
  },
  {
   "cell_type": "code",
   "execution_count": 50,
   "id": "edff268bfaf99aa",
   "metadata": {
    "ExecuteTime": {
     "end_time": "2025-05-21T22:10:24.927654Z",
     "start_time": "2025-05-21T22:10:24.920755Z"
    }
   },
   "outputs": [
    {
     "name": "stdout",
     "output_type": "stream",
     "text": [
      "\n",
      "Detailed Analysis:\n",
      "- RMSE Difference: 1.6302\n",
      "- Precision@10 Difference: 0.0127\n",
      "- Autoencoder has 1.3% higher Precision@10\n",
      "- Recall@10 Difference: 0.2464\n",
      "- SVD has 32.7% higher Recall@10\n"
     ]
    }
   ],
   "source": [
    "# Additional analysis\n",
    "print(f\"\\nDetailed Analysis:\")\n",
    "print(f\"- RMSE Difference: {abs(svd_rmse - auto_rmse):.4f}\")\n",
    "\n",
    "if svd_prec > 0 and auto_prec > 0:  # Only compare if both values are valid\n",
    "    print(f\"- Precision@10 Difference: {abs(svd_prec - auto_prec):.4f}\")\n",
    "    if svd_prec > auto_prec:\n",
    "        print(f\"- SVD has {((svd_prec - auto_prec) / auto_prec * 100):.1f}% higher Precision@10\")\n",
    "    else:\n",
    "        print(f\"- Autoencoder has {((auto_prec - svd_prec) / svd_prec * 100):.1f}% higher Precision@10\")\n",
    "\n",
    "if svd_recall > 0 and auto_recall > 0:  # Only compare if both values are valid\n",
    "    print(f\"- Recall@10 Difference: {abs(svd_recall - auto_recall):.4f}\")\n",
    "    if svd_recall > auto_recall:\n",
    "        print(f\"- SVD has {((svd_recall - auto_recall) / auto_recall * 100):.1f}% higher Recall@10\")\n",
    "    else:\n",
    "        print(f\"- Autoencoder has {((auto_recall - svd_recall) / svd_recall * 100):.1f}% higher Recall@10\")\n"
   ]
  },
  {
   "cell_type": "markdown",
   "id": "91be9b181b8483c3",
   "metadata": {},
   "source": [
    "## 8. Key Differences Between Approaches\n",
    "\n",
    "| Aspect               | SVD Matrix Factorization               | Autoencoder Neural Model                  |\n",
    "|----------------------|----------------------------------------|-------------------------------------------|\n",
    "| Modeling style       | Linear latent-factor model             | Nonlinear deep model                      |\n",
    "| Data representation  | Sparse user–item matrix                | Same matrix, but encoded through layers   |\n",
    "| Interpretability     | Higher (latent factors interpretable)  | Lower (deep layers are a black box)       |\n",
    "| Training speed       | Fast (few parameters)                  | Slower (many weights, backpropagation)    |\n",
    "| Scalability          | Scales well with large sparse data     | May need more compute and memory          |\n",
    "| Cold-start           | struggle with it                       | Can integrate side features more naturally|\n",
    "| Typical use case     | Quick baseline with solid RMSE         | Advanced scenarios needing richer signals |\n",
    "| Sparsity     | Handles sparse data         | Struggles with sparsity |\n",
    "\t\t\n"
   ]
  },
  {
   "cell_type": "markdown",
   "id": "335fbaf3-e54c-4424-a74f-c16937b8a0b5",
   "metadata": {},
   "source": [
    "# Thank you"
   ]
  }
 ],
 "metadata": {
  "kernelspec": {
   "display_name": "Python 3 (ipykernel)",
   "language": "python",
   "name": "python3"
  },
  "language_info": {
   "codemirror_mode": {
    "name": "ipython",
    "version": 3
   },
   "file_extension": ".py",
   "mimetype": "text/x-python",
   "name": "python",
   "nbconvert_exporter": "python",
   "pygments_lexer": "ipython3",
   "version": "3.12.4"
  }
 },
 "nbformat": 4,
 "nbformat_minor": 5
}
