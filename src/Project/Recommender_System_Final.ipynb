{
 "cells": [
  {
   "cell_type": "markdown",
   "id": "4ec18b48870846e6",
   "metadata": {},
   "source": [
    "# Amazon Sales Dataset Recommendation System using Collaborative Filtering and Autoencoders\n",
    "\n",
    "**Group members:**\n",
    "- Tasneem Shaheen, 107279\n",
    "- Mostafa Khalid 106699\n",
    "- Medhansh Ahuja 105982\n",
    "\n",
    "The aim for this project is to Build a recommender system to predict user ratings and recommend top products using two approaches: Collaborative Filtering (CF) and Autoencoders."
   ]
  },
  {
   "cell_type": "markdown",
   "id": "fd68c4cd354540cd",
   "metadata": {},
   "source": [
    "## Data Processing\n",
    "### Load scraped data"
   ]
  },
  {
   "cell_type": "code",
   "execution_count": 165,
   "id": "b6ef20a389fe5f67",
   "metadata": {
    "ExecuteTime": {
     "end_time": "2025-05-21T22:09:46.923039Z",
     "start_time": "2025-05-21T22:09:46.920635Z"
    }
   },
   "outputs": [],
   "source": [
    "# For all the imports we have\n",
    "import pandas as pd\n",
    "from sklearn.preprocessing import LabelEncoder\n",
    "import matplotlib.pyplot as plt\n",
    "import seaborn as sns"
   ]
  },
  {
   "cell_type": "code",
   "execution_count": 166,
   "id": "a8b4bea9a5c710e3",
   "metadata": {
    "ExecuteTime": {
     "end_time": "2025-05-21T22:09:46.963166Z",
     "start_time": "2025-05-21T22:09:46.927376Z"
    }
   },
   "outputs": [],
   "source": [
    "df = pd.read_csv('amazon.csv')"
   ]
  },
  {
   "cell_type": "code",
   "execution_count": 167,
   "id": "9636be914ec50624",
   "metadata": {
    "ExecuteTime": {
     "end_time": "2025-05-21T22:09:46.978608Z",
     "start_time": "2025-05-21T22:09:46.976253Z"
    }
   },
   "outputs": [
    {
     "name": "stdout",
     "output_type": "stream",
     "text": [
      "Dataset shape: (1465, 16)\n",
      "Number of unique products id: 1351\n"
     ]
    }
   ],
   "source": [
    "# Display basic info\n",
    "print(f\"Dataset shape: {df.shape}\")\n",
    "print(f\"Number of unique products id: {df['product_id'].nunique()}\") #"
   ]
  },
  {
   "cell_type": "code",
   "execution_count": 168,
   "id": "43de3088a0c09063",
   "metadata": {
    "ExecuteTime": {
     "end_time": "2025-05-21T22:09:46.996092Z",
     "start_time": "2025-05-21T22:09:46.991281Z"
    }
   },
   "outputs": [
    {
     "data": {
      "text/html": [
       "<div>\n",
       "<style scoped>\n",
       "    .dataframe tbody tr th:only-of-type {\n",
       "        vertical-align: middle;\n",
       "    }\n",
       "\n",
       "    .dataframe tbody tr th {\n",
       "        vertical-align: top;\n",
       "    }\n",
       "\n",
       "    .dataframe thead th {\n",
       "        text-align: right;\n",
       "    }\n",
       "</style>\n",
       "<table border=\"1\" class=\"dataframe\">\n",
       "  <thead>\n",
       "    <tr style=\"text-align: right;\">\n",
       "      <th></th>\n",
       "      <th>product_id</th>\n",
       "      <th>product_name</th>\n",
       "      <th>category</th>\n",
       "      <th>discounted_price</th>\n",
       "      <th>actual_price</th>\n",
       "      <th>discount_percentage</th>\n",
       "      <th>rating</th>\n",
       "      <th>rating_count</th>\n",
       "      <th>about_product</th>\n",
       "      <th>user_id</th>\n",
       "      <th>user_name</th>\n",
       "      <th>review_id</th>\n",
       "      <th>review_title</th>\n",
       "      <th>review_content</th>\n",
       "      <th>img_link</th>\n",
       "      <th>product_link</th>\n",
       "    </tr>\n",
       "  </thead>\n",
       "  <tbody>\n",
       "    <tr>\n",
       "      <th>0</th>\n",
       "      <td>B07JW9H4J1</td>\n",
       "      <td>Wayona Nylon Braided USB to Lightning Fast Cha...</td>\n",
       "      <td>Computers&amp;Accessories|Accessories&amp;Peripherals|...</td>\n",
       "      <td>₹399</td>\n",
       "      <td>₹1,099</td>\n",
       "      <td>64%</td>\n",
       "      <td>4.2</td>\n",
       "      <td>24,269</td>\n",
       "      <td>High Compatibility : Compatible With iPhone 12...</td>\n",
       "      <td>AG3D6O4STAQKAY2UVGEUV46KN35Q,AHMY5CWJMMK5BJRBB...</td>\n",
       "      <td>Manav,Adarsh gupta,Sundeep,S.Sayeed Ahmed,jasp...</td>\n",
       "      <td>R3HXWT0LRP0NMF,R2AJM3LFTLZHFO,R6AQJGUP6P86,R1K...</td>\n",
       "      <td>Satisfied,Charging is really fast,Value for mo...</td>\n",
       "      <td>Looks durable Charging is fine tooNo complains...</td>\n",
       "      <td>https://m.media-amazon.com/images/W/WEBP_40237...</td>\n",
       "      <td>https://www.amazon.in/Wayona-Braided-WN3LG1-Sy...</td>\n",
       "    </tr>\n",
       "    <tr>\n",
       "      <th>1</th>\n",
       "      <td>B098NS6PVG</td>\n",
       "      <td>Ambrane Unbreakable 60W / 3A Fast Charging 1.5...</td>\n",
       "      <td>Computers&amp;Accessories|Accessories&amp;Peripherals|...</td>\n",
       "      <td>₹199</td>\n",
       "      <td>₹349</td>\n",
       "      <td>43%</td>\n",
       "      <td>4.0</td>\n",
       "      <td>43,994</td>\n",
       "      <td>Compatible with all Type C enabled devices, be...</td>\n",
       "      <td>AECPFYFQVRUWC3KGNLJIOREFP5LQ,AGYYVPDD7YG7FYNBX...</td>\n",
       "      <td>ArdKn,Nirbhay kumar,Sagar Viswanathan,Asp,Plac...</td>\n",
       "      <td>RGIQEG07R9HS2,R1SMWZQ86XIN8U,R2J3Y1WL29GWDE,RY...</td>\n",
       "      <td>A Good Braided Cable for Your Type C Device,Go...</td>\n",
       "      <td>I ordered this cable to connect my phone to An...</td>\n",
       "      <td>https://m.media-amazon.com/images/W/WEBP_40237...</td>\n",
       "      <td>https://www.amazon.in/Ambrane-Unbreakable-Char...</td>\n",
       "    </tr>\n",
       "    <tr>\n",
       "      <th>2</th>\n",
       "      <td>B096MSW6CT</td>\n",
       "      <td>Sounce Fast Phone Charging Cable &amp; Data Sync U...</td>\n",
       "      <td>Computers&amp;Accessories|Accessories&amp;Peripherals|...</td>\n",
       "      <td>₹199</td>\n",
       "      <td>₹1,899</td>\n",
       "      <td>90%</td>\n",
       "      <td>3.9</td>\n",
       "      <td>7,928</td>\n",
       "      <td>【 Fast Charger&amp; Data Sync】-With built-in safet...</td>\n",
       "      <td>AGU3BBQ2V2DDAMOAKGFAWDDQ6QHA,AESFLDV2PT363T2AQ...</td>\n",
       "      <td>Kunal,Himanshu,viswanath,sai niharka,saqib mal...</td>\n",
       "      <td>R3J3EQQ9TZI5ZJ,R3E7WBGK7ID0KV,RWU79XKQ6I1QF,R2...</td>\n",
       "      <td>Good speed for earlier versions,Good Product,W...</td>\n",
       "      <td>Not quite durable and sturdy,https://m.media-a...</td>\n",
       "      <td>https://m.media-amazon.com/images/W/WEBP_40237...</td>\n",
       "      <td>https://www.amazon.in/Sounce-iPhone-Charging-C...</td>\n",
       "    </tr>\n",
       "    <tr>\n",
       "      <th>3</th>\n",
       "      <td>B08HDJ86NZ</td>\n",
       "      <td>boAt Deuce USB 300 2 in 1 Type-C &amp; Micro USB S...</td>\n",
       "      <td>Computers&amp;Accessories|Accessories&amp;Peripherals|...</td>\n",
       "      <td>₹329</td>\n",
       "      <td>₹699</td>\n",
       "      <td>53%</td>\n",
       "      <td>4.2</td>\n",
       "      <td>94,363</td>\n",
       "      <td>The boAt Deuce USB 300 2 in 1 cable is compati...</td>\n",
       "      <td>AEWAZDZZJLQUYVOVGBEUKSLXHQ5A,AG5HTSFRRE6NL3M5S...</td>\n",
       "      <td>Omkar dhale,JD,HEMALATHA,Ajwadh a.,amar singh ...</td>\n",
       "      <td>R3EEUZKKK9J36I,R3HJVYCLYOY554,REDECAZ7AMPQC,R1...</td>\n",
       "      <td>Good product,Good one,Nice,Really nice product...</td>\n",
       "      <td>Good product,long wire,Charges good,Nice,I bou...</td>\n",
       "      <td>https://m.media-amazon.com/images/I/41V5FtEWPk...</td>\n",
       "      <td>https://www.amazon.in/Deuce-300-Resistant-Tang...</td>\n",
       "    </tr>\n",
       "    <tr>\n",
       "      <th>4</th>\n",
       "      <td>B08CF3B7N1</td>\n",
       "      <td>Portronics Konnect L 1.2M Fast Charging 3A 8 P...</td>\n",
       "      <td>Computers&amp;Accessories|Accessories&amp;Peripherals|...</td>\n",
       "      <td>₹154</td>\n",
       "      <td>₹399</td>\n",
       "      <td>61%</td>\n",
       "      <td>4.2</td>\n",
       "      <td>16,905</td>\n",
       "      <td>[CHARGE &amp; SYNC FUNCTION]- This cable comes wit...</td>\n",
       "      <td>AE3Q6KSUK5P75D5HFYHCRAOLODSA,AFUGIFH5ZAFXRDSZH...</td>\n",
       "      <td>rahuls6099,Swasat Borah,Ajay Wadke,Pranali,RVK...</td>\n",
       "      <td>R1BP4L2HH9TFUP,R16PVJEXKV6QZS,R2UPDB81N66T4P,R...</td>\n",
       "      <td>As good as original,Decent,Good one for second...</td>\n",
       "      <td>Bought this instead of original apple, does th...</td>\n",
       "      <td>https://m.media-amazon.com/images/W/WEBP_40237...</td>\n",
       "      <td>https://www.amazon.in/Portronics-Konnect-POR-1...</td>\n",
       "    </tr>\n",
       "  </tbody>\n",
       "</table>\n",
       "</div>"
      ],
      "text/plain": [
       "   product_id                                       product_name  \\\n",
       "0  B07JW9H4J1  Wayona Nylon Braided USB to Lightning Fast Cha...   \n",
       "1  B098NS6PVG  Ambrane Unbreakable 60W / 3A Fast Charging 1.5...   \n",
       "2  B096MSW6CT  Sounce Fast Phone Charging Cable & Data Sync U...   \n",
       "3  B08HDJ86NZ  boAt Deuce USB 300 2 in 1 Type-C & Micro USB S...   \n",
       "4  B08CF3B7N1  Portronics Konnect L 1.2M Fast Charging 3A 8 P...   \n",
       "\n",
       "                                            category discounted_price  \\\n",
       "0  Computers&Accessories|Accessories&Peripherals|...             ₹399   \n",
       "1  Computers&Accessories|Accessories&Peripherals|...             ₹199   \n",
       "2  Computers&Accessories|Accessories&Peripherals|...             ₹199   \n",
       "3  Computers&Accessories|Accessories&Peripherals|...             ₹329   \n",
       "4  Computers&Accessories|Accessories&Peripherals|...             ₹154   \n",
       "\n",
       "  actual_price discount_percentage rating rating_count  \\\n",
       "0       ₹1,099                 64%    4.2       24,269   \n",
       "1         ₹349                 43%    4.0       43,994   \n",
       "2       ₹1,899                 90%    3.9        7,928   \n",
       "3         ₹699                 53%    4.2       94,363   \n",
       "4         ₹399                 61%    4.2       16,905   \n",
       "\n",
       "                                       about_product  \\\n",
       "0  High Compatibility : Compatible With iPhone 12...   \n",
       "1  Compatible with all Type C enabled devices, be...   \n",
       "2  【 Fast Charger& Data Sync】-With built-in safet...   \n",
       "3  The boAt Deuce USB 300 2 in 1 cable is compati...   \n",
       "4  [CHARGE & SYNC FUNCTION]- This cable comes wit...   \n",
       "\n",
       "                                             user_id  \\\n",
       "0  AG3D6O4STAQKAY2UVGEUV46KN35Q,AHMY5CWJMMK5BJRBB...   \n",
       "1  AECPFYFQVRUWC3KGNLJIOREFP5LQ,AGYYVPDD7YG7FYNBX...   \n",
       "2  AGU3BBQ2V2DDAMOAKGFAWDDQ6QHA,AESFLDV2PT363T2AQ...   \n",
       "3  AEWAZDZZJLQUYVOVGBEUKSLXHQ5A,AG5HTSFRRE6NL3M5S...   \n",
       "4  AE3Q6KSUK5P75D5HFYHCRAOLODSA,AFUGIFH5ZAFXRDSZH...   \n",
       "\n",
       "                                           user_name  \\\n",
       "0  Manav,Adarsh gupta,Sundeep,S.Sayeed Ahmed,jasp...   \n",
       "1  ArdKn,Nirbhay kumar,Sagar Viswanathan,Asp,Plac...   \n",
       "2  Kunal,Himanshu,viswanath,sai niharka,saqib mal...   \n",
       "3  Omkar dhale,JD,HEMALATHA,Ajwadh a.,amar singh ...   \n",
       "4  rahuls6099,Swasat Borah,Ajay Wadke,Pranali,RVK...   \n",
       "\n",
       "                                           review_id  \\\n",
       "0  R3HXWT0LRP0NMF,R2AJM3LFTLZHFO,R6AQJGUP6P86,R1K...   \n",
       "1  RGIQEG07R9HS2,R1SMWZQ86XIN8U,R2J3Y1WL29GWDE,RY...   \n",
       "2  R3J3EQQ9TZI5ZJ,R3E7WBGK7ID0KV,RWU79XKQ6I1QF,R2...   \n",
       "3  R3EEUZKKK9J36I,R3HJVYCLYOY554,REDECAZ7AMPQC,R1...   \n",
       "4  R1BP4L2HH9TFUP,R16PVJEXKV6QZS,R2UPDB81N66T4P,R...   \n",
       "\n",
       "                                        review_title  \\\n",
       "0  Satisfied,Charging is really fast,Value for mo...   \n",
       "1  A Good Braided Cable for Your Type C Device,Go...   \n",
       "2  Good speed for earlier versions,Good Product,W...   \n",
       "3  Good product,Good one,Nice,Really nice product...   \n",
       "4  As good as original,Decent,Good one for second...   \n",
       "\n",
       "                                      review_content  \\\n",
       "0  Looks durable Charging is fine tooNo complains...   \n",
       "1  I ordered this cable to connect my phone to An...   \n",
       "2  Not quite durable and sturdy,https://m.media-a...   \n",
       "3  Good product,long wire,Charges good,Nice,I bou...   \n",
       "4  Bought this instead of original apple, does th...   \n",
       "\n",
       "                                            img_link  \\\n",
       "0  https://m.media-amazon.com/images/W/WEBP_40237...   \n",
       "1  https://m.media-amazon.com/images/W/WEBP_40237...   \n",
       "2  https://m.media-amazon.com/images/W/WEBP_40237...   \n",
       "3  https://m.media-amazon.com/images/I/41V5FtEWPk...   \n",
       "4  https://m.media-amazon.com/images/W/WEBP_40237...   \n",
       "\n",
       "                                        product_link  \n",
       "0  https://www.amazon.in/Wayona-Braided-WN3LG1-Sy...  \n",
       "1  https://www.amazon.in/Ambrane-Unbreakable-Char...  \n",
       "2  https://www.amazon.in/Sounce-iPhone-Charging-C...  \n",
       "3  https://www.amazon.in/Deuce-300-Resistant-Tang...  \n",
       "4  https://www.amazon.in/Portronics-Konnect-POR-1...  "
      ]
     },
     "execution_count": 168,
     "metadata": {},
     "output_type": "execute_result"
    }
   ],
   "source": [
    "# Display the first few rows\n",
    "df.head()"
   ]
  },
  {
   "cell_type": "code",
   "execution_count": 169,
   "id": "ceb81de364a95f2a",
   "metadata": {
    "ExecuteTime": {
     "end_time": "2025-05-21T22:09:47.027737Z",
     "start_time": "2025-05-21T22:09:47.023976Z"
    }
   },
   "outputs": [
    {
     "name": "stdout",
     "output_type": "stream",
     "text": [
      "<class 'pandas.core.frame.DataFrame'>\n",
      "RangeIndex: 1465 entries, 0 to 1464\n",
      "Data columns (total 16 columns):\n",
      " #   Column               Non-Null Count  Dtype \n",
      "---  ------               --------------  ----- \n",
      " 0   product_id           1465 non-null   object\n",
      " 1   product_name         1465 non-null   object\n",
      " 2   category             1465 non-null   object\n",
      " 3   discounted_price     1465 non-null   object\n",
      " 4   actual_price         1465 non-null   object\n",
      " 5   discount_percentage  1465 non-null   object\n",
      " 6   rating               1465 non-null   object\n",
      " 7   rating_count         1463 non-null   object\n",
      " 8   about_product        1465 non-null   object\n",
      " 9   user_id              1465 non-null   object\n",
      " 10  user_name            1465 non-null   object\n",
      " 11  review_id            1465 non-null   object\n",
      " 12  review_title         1465 non-null   object\n",
      " 13  review_content       1465 non-null   object\n",
      " 14  img_link             1465 non-null   object\n",
      " 15  product_link         1465 non-null   object\n",
      "dtypes: object(16)\n",
      "memory usage: 183.3+ KB\n"
     ]
    }
   ],
   "source": [
    "# Get basic information about the dataset\n",
    "df.info()"
   ]
  },
  {
   "cell_type": "code",
   "execution_count": 170,
   "id": "eb75b372c26f5588",
   "metadata": {
    "ExecuteTime": {
     "end_time": "2025-05-21T22:09:47.061092Z",
     "start_time": "2025-05-21T22:09:47.047066Z"
    }
   },
   "outputs": [
    {
     "data": {
      "text/html": [
       "<div>\n",
       "<style scoped>\n",
       "    .dataframe tbody tr th:only-of-type {\n",
       "        vertical-align: middle;\n",
       "    }\n",
       "\n",
       "    .dataframe tbody tr th {\n",
       "        vertical-align: top;\n",
       "    }\n",
       "\n",
       "    .dataframe thead th {\n",
       "        text-align: right;\n",
       "    }\n",
       "</style>\n",
       "<table border=\"1\" class=\"dataframe\">\n",
       "  <thead>\n",
       "    <tr style=\"text-align: right;\">\n",
       "      <th></th>\n",
       "      <th>product_id</th>\n",
       "      <th>product_name</th>\n",
       "      <th>category</th>\n",
       "      <th>discounted_price</th>\n",
       "      <th>actual_price</th>\n",
       "      <th>discount_percentage</th>\n",
       "      <th>rating</th>\n",
       "      <th>rating_count</th>\n",
       "      <th>about_product</th>\n",
       "      <th>user_id</th>\n",
       "      <th>user_name</th>\n",
       "      <th>review_id</th>\n",
       "      <th>review_title</th>\n",
       "      <th>review_content</th>\n",
       "      <th>img_link</th>\n",
       "      <th>product_link</th>\n",
       "    </tr>\n",
       "  </thead>\n",
       "  <tbody>\n",
       "    <tr>\n",
       "      <th>count</th>\n",
       "      <td>1465</td>\n",
       "      <td>1465</td>\n",
       "      <td>1465</td>\n",
       "      <td>1465</td>\n",
       "      <td>1465</td>\n",
       "      <td>1465</td>\n",
       "      <td>1465</td>\n",
       "      <td>1463</td>\n",
       "      <td>1465</td>\n",
       "      <td>1465</td>\n",
       "      <td>1465</td>\n",
       "      <td>1465</td>\n",
       "      <td>1465</td>\n",
       "      <td>1465</td>\n",
       "      <td>1465</td>\n",
       "      <td>1465</td>\n",
       "    </tr>\n",
       "    <tr>\n",
       "      <th>unique</th>\n",
       "      <td>1351</td>\n",
       "      <td>1337</td>\n",
       "      <td>211</td>\n",
       "      <td>550</td>\n",
       "      <td>449</td>\n",
       "      <td>92</td>\n",
       "      <td>28</td>\n",
       "      <td>1143</td>\n",
       "      <td>1293</td>\n",
       "      <td>1194</td>\n",
       "      <td>1194</td>\n",
       "      <td>1194</td>\n",
       "      <td>1194</td>\n",
       "      <td>1212</td>\n",
       "      <td>1412</td>\n",
       "      <td>1465</td>\n",
       "    </tr>\n",
       "    <tr>\n",
       "      <th>top</th>\n",
       "      <td>B07JW9H4J1</td>\n",
       "      <td>Fire-Boltt Ninja Call Pro Plus 1.83\" Smart Wat...</td>\n",
       "      <td>Computers&amp;Accessories|Accessories&amp;Peripherals|...</td>\n",
       "      <td>₹199</td>\n",
       "      <td>₹999</td>\n",
       "      <td>50%</td>\n",
       "      <td>4.1</td>\n",
       "      <td>9,378</td>\n",
       "      <td>[CHARGE &amp; SYNC FUNCTION]- This cable comes wit...</td>\n",
       "      <td>AHIKJUDTVJ4T6DV6IUGFYZ5LXMPA,AE55KTFVNXYFD5FPY...</td>\n",
       "      <td>$@|\\|TO$|-|,Sethu madhav,Akash Thakur,Burger P...</td>\n",
       "      <td>R3F4T5TRYPTMIG,R3DQIEC603E7AY,R1O4Z15FD40PV5,R...</td>\n",
       "      <td>Worked on iPhone 7 and didn’t work on XR,Good ...</td>\n",
       "      <td>I am not big on camera usage, personally. I wa...</td>\n",
       "      <td>https://m.media-amazon.com/images/I/413sCRKobN...</td>\n",
       "      <td>https://www.amazon.in/Wayona-Braided-WN3LG1-Sy...</td>\n",
       "    </tr>\n",
       "    <tr>\n",
       "      <th>freq</th>\n",
       "      <td>3</td>\n",
       "      <td>5</td>\n",
       "      <td>233</td>\n",
       "      <td>53</td>\n",
       "      <td>120</td>\n",
       "      <td>56</td>\n",
       "      <td>244</td>\n",
       "      <td>9</td>\n",
       "      <td>6</td>\n",
       "      <td>10</td>\n",
       "      <td>10</td>\n",
       "      <td>10</td>\n",
       "      <td>10</td>\n",
       "      <td>8</td>\n",
       "      <td>3</td>\n",
       "      <td>1</td>\n",
       "    </tr>\n",
       "  </tbody>\n",
       "</table>\n",
       "</div>"
      ],
      "text/plain": [
       "        product_id                                       product_name  \\\n",
       "count         1465                                               1465   \n",
       "unique        1351                                               1337   \n",
       "top     B07JW9H4J1  Fire-Boltt Ninja Call Pro Plus 1.83\" Smart Wat...   \n",
       "freq             3                                                  5   \n",
       "\n",
       "                                                 category discounted_price  \\\n",
       "count                                                1465             1465   \n",
       "unique                                                211              550   \n",
       "top     Computers&Accessories|Accessories&Peripherals|...             ₹199   \n",
       "freq                                                  233               53   \n",
       "\n",
       "       actual_price discount_percentage rating rating_count  \\\n",
       "count          1465                1465   1465         1463   \n",
       "unique          449                  92     28         1143   \n",
       "top            ₹999                 50%    4.1        9,378   \n",
       "freq            120                  56    244            9   \n",
       "\n",
       "                                            about_product  \\\n",
       "count                                                1465   \n",
       "unique                                               1293   \n",
       "top     [CHARGE & SYNC FUNCTION]- This cable comes wit...   \n",
       "freq                                                    6   \n",
       "\n",
       "                                                  user_id  \\\n",
       "count                                                1465   \n",
       "unique                                               1194   \n",
       "top     AHIKJUDTVJ4T6DV6IUGFYZ5LXMPA,AE55KTFVNXYFD5FPY...   \n",
       "freq                                                   10   \n",
       "\n",
       "                                                user_name  \\\n",
       "count                                                1465   \n",
       "unique                                               1194   \n",
       "top     $@|\\|TO$|-|,Sethu madhav,Akash Thakur,Burger P...   \n",
       "freq                                                   10   \n",
       "\n",
       "                                                review_id  \\\n",
       "count                                                1465   \n",
       "unique                                               1194   \n",
       "top     R3F4T5TRYPTMIG,R3DQIEC603E7AY,R1O4Z15FD40PV5,R...   \n",
       "freq                                                   10   \n",
       "\n",
       "                                             review_title  \\\n",
       "count                                                1465   \n",
       "unique                                               1194   \n",
       "top     Worked on iPhone 7 and didn’t work on XR,Good ...   \n",
       "freq                                                   10   \n",
       "\n",
       "                                           review_content  \\\n",
       "count                                                1465   \n",
       "unique                                               1212   \n",
       "top     I am not big on camera usage, personally. I wa...   \n",
       "freq                                                    8   \n",
       "\n",
       "                                                 img_link  \\\n",
       "count                                                1465   \n",
       "unique                                               1412   \n",
       "top     https://m.media-amazon.com/images/I/413sCRKobN...   \n",
       "freq                                                    3   \n",
       "\n",
       "                                             product_link  \n",
       "count                                                1465  \n",
       "unique                                               1465  \n",
       "top     https://www.amazon.in/Wayona-Braided-WN3LG1-Sy...  \n",
       "freq                                                    1  "
      ]
     },
     "execution_count": 170,
     "metadata": {},
     "output_type": "execute_result"
    }
   ],
   "source": [
    "# Get summary statistics for numerical columns\n",
    "df.describe()"
   ]
  },
  {
   "cell_type": "code",
   "execution_count": 171,
   "id": "3902d2d4-030d-4ee6-9ccf-2b0daa8cabcd",
   "metadata": {},
   "outputs": [
    {
     "name": "stderr",
     "output_type": "stream",
     "text": [
      "/tmp/ipykernel_32819/2070778007.py:7: FutureWarning: \n",
      "\n",
      "Passing `palette` without assigning `hue` is deprecated and will be removed in v0.14.0. Assign the `x` variable to `hue` and set `legend=False` for the same effect.\n",
      "\n",
      "  sns.barplot(x='rating_count', y='product_name', data=top_products, palette=\"magma\")\n",
      "/tmp/ipykernel_32819/2070778007.py:12: UserWarning: Tight layout not applied. The left and right margins cannot be made large enough to accommodate all Axes decorations.\n",
      "  plt.tight_layout()\n"
     ]
    },
    {
     "data": {
      "image/png": "[encoded data removed]",
      "text/plain": [
       "<Figure size 1200x800 with 1 Axes>"
      ]
     },
     "metadata": {},
     "output_type": "display_data"
    }
   ],
   "source": [
    "# Top 10 products by rating count\n",
    "\n",
    "\n",
    "top_products = df.sort_values(by='rating_count', ascending=True).head(10)\n",
    "\n",
    "plt.figure(figsize=(12, 8))\n",
    "sns.barplot(x='rating_count', y='product_name', data=top_products, palette=\"magma\")\n",
    "plt.title(\"Top 10 Most Reviewed Products\")\n",
    "plt.xlabel(\"Number of Ratings\")\n",
    "plt.ylabel(\"Product Name\")\n",
    "plt.grid(axis=\"x\", linestyle=\"--\")\n",
    "plt.tight_layout()\n",
    "plt.show()"
   ]
  },
  {
   "cell_type": "code",
   "execution_count": 172,
   "id": "f8496cbdd10826e1",
   "metadata": {
    "ExecuteTime": {
     "end_time": "2025-05-21T22:09:47.088543Z",
     "start_time": "2025-05-21T22:09:47.086276Z"
    }
   },
   "outputs": [
    {
     "name": "stdout",
     "output_type": "stream",
     "text": [
      "\n",
      "Checking for missing values in user_id, product_id, and rating columns:\n",
      "Missing values in user_id: 0\n",
      "Missing values in product_id: 0\n",
      "Missing values in rating: 0\n"
     ]
    }
   ],
   "source": [
    "# Check for missing values in specified columns\n",
    "print(\"\\nChecking for missing values in user_id, product_id, and rating columns:\")\n",
    "for col in ['user_id', 'product_id', 'rating']:\n",
    "    missing_values = df[col].isnull().sum()\n",
    "    print(f\"Missing values in {col}: {missing_values}\")"
   ]
  },
  {
   "cell_type": "code",
   "execution_count": 173,
   "id": "9aaa0979bd003a0d",
   "metadata": {
    "ExecuteTime": {
     "end_time": "2025-05-21T22:09:47.119496Z",
     "start_time": "2025-05-21T22:09:47.108942Z"
    }
   },
   "outputs": [
    {
     "name": "stdout",
     "output_type": "stream",
     "text": [
      "\n",
      "Checking for duplicate rows:\n",
      "Number of duplicate rows: 0\n"
     ]
    }
   ],
   "source": [
    "# Check for duplicate rows\n",
    "print(\"\\nChecking for duplicate rows:\")\n",
    "duplicates = df.duplicated().sum()\n",
    "print(f\"Number of duplicate rows: {duplicates}\")"
   ]
  },
  {
   "cell_type": "markdown",
   "id": "b2a911053d35d8e4",
   "metadata": {},
   "source": [
    "## Data Preprocessing"
   ]
  },
  {
   "cell_type": "code",
   "execution_count": 174,
   "id": "3ef93714d7f39a69",
   "metadata": {
    "ExecuteTime": {
     "end_time": "2025-05-21T22:09:47.128001Z",
     "start_time": "2025-05-21T22:09:47.126020Z"
    }
   },
   "outputs": [],
   "source": [
    "df['rating'] = pd.to_numeric(df['rating'], errors='coerce')"
   ]
  },
  {
   "cell_type": "code",
   "execution_count": 175,
   "id": "ffdcbec977f083ba",
   "metadata": {
    "ExecuteTime": {
     "end_time": "2025-05-21T22:09:47.150946Z",
     "start_time": "2025-05-21T22:09:47.145709Z"
    }
   },
   "outputs": [
    {
     "data": {
      "text/html": [
       "<div>\n",
       "<style scoped>\n",
       "    .dataframe tbody tr th:only-of-type {\n",
       "        vertical-align: middle;\n",
       "    }\n",
       "\n",
       "    .dataframe tbody tr th {\n",
       "        vertical-align: top;\n",
       "    }\n",
       "\n",
       "    .dataframe thead th {\n",
       "        text-align: right;\n",
       "    }\n",
       "</style>\n",
       "<table border=\"1\" class=\"dataframe\">\n",
       "  <thead>\n",
       "    <tr style=\"text-align: right;\">\n",
       "      <th></th>\n",
       "      <th>user_id</th>\n",
       "      <th>product_id</th>\n",
       "      <th>rating</th>\n",
       "    </tr>\n",
       "  </thead>\n",
       "  <tbody>\n",
       "    <tr>\n",
       "      <th>0</th>\n",
       "      <td>AG3D6O4STAQKAY2UVGEUV46KN35Q,AHMY5CWJMMK5BJRBB...</td>\n",
       "      <td>B07JW9H4J1</td>\n",
       "      <td>4.2</td>\n",
       "    </tr>\n",
       "    <tr>\n",
       "      <th>1</th>\n",
       "      <td>AECPFYFQVRUWC3KGNLJIOREFP5LQ,AGYYVPDD7YG7FYNBX...</td>\n",
       "      <td>B098NS6PVG</td>\n",
       "      <td>4.0</td>\n",
       "    </tr>\n",
       "    <tr>\n",
       "      <th>2</th>\n",
       "      <td>AGU3BBQ2V2DDAMOAKGFAWDDQ6QHA,AESFLDV2PT363T2AQ...</td>\n",
       "      <td>B096MSW6CT</td>\n",
       "      <td>3.9</td>\n",
       "    </tr>\n",
       "    <tr>\n",
       "      <th>3</th>\n",
       "      <td>AEWAZDZZJLQUYVOVGBEUKSLXHQ5A,AG5HTSFRRE6NL3M5S...</td>\n",
       "      <td>B08HDJ86NZ</td>\n",
       "      <td>4.2</td>\n",
       "    </tr>\n",
       "    <tr>\n",
       "      <th>4</th>\n",
       "      <td>AE3Q6KSUK5P75D5HFYHCRAOLODSA,AFUGIFH5ZAFXRDSZH...</td>\n",
       "      <td>B08CF3B7N1</td>\n",
       "      <td>4.2</td>\n",
       "    </tr>\n",
       "  </tbody>\n",
       "</table>\n",
       "</div>"
      ],
      "text/plain": [
       "                                             user_id  product_id  rating\n",
       "0  AG3D6O4STAQKAY2UVGEUV46KN35Q,AHMY5CWJMMK5BJRBB...  B07JW9H4J1     4.2\n",
       "1  AECPFYFQVRUWC3KGNLJIOREFP5LQ,AGYYVPDD7YG7FYNBX...  B098NS6PVG     4.0\n",
       "2  AGU3BBQ2V2DDAMOAKGFAWDDQ6QHA,AESFLDV2PT363T2AQ...  B096MSW6CT     3.9\n",
       "3  AEWAZDZZJLQUYVOVGBEUKSLXHQ5A,AG5HTSFRRE6NL3M5S...  B08HDJ86NZ     4.2\n",
       "4  AE3Q6KSUK5P75D5HFYHCRAOLODSA,AFUGIFH5ZAFXRDSZH...  B08CF3B7N1     4.2"
      ]
     },
     "execution_count": 175,
     "metadata": {},
     "output_type": "execute_result"
    }
   ],
   "source": [
    "products = df[['product_id', 'product_name']].drop_duplicates().set_index('product_id')\n",
    "data = df[['user_id', 'product_id', 'rating']]\n",
    "\n",
    "data.head()"
   ]
  },
  {
   "cell_type": "markdown",
   "id": "c6b3047a3a4fa4d9",
   "metadata": {},
   "source": [
    "### Data Transformation\n"
   ]
  },
  {
   "cell_type": "code",
   "execution_count": 176,
   "id": "af26690edae92c41",
   "metadata": {
    "ExecuteTime": {
     "end_time": "2025-05-21T22:09:47.187301Z",
     "start_time": "2025-05-21T22:09:47.180952Z"
    }
   },
   "outputs": [
    {
     "data": {
      "text/html": [
       "<div>\n",
       "<style scoped>\n",
       "    .dataframe tbody tr th:only-of-type {\n",
       "        vertical-align: middle;\n",
       "    }\n",
       "\n",
       "    .dataframe tbody tr th {\n",
       "        vertical-align: top;\n",
       "    }\n",
       "\n",
       "    .dataframe thead th {\n",
       "        text-align: right;\n",
       "    }\n",
       "</style>\n",
       "<table border=\"1\" class=\"dataframe\">\n",
       "  <thead>\n",
       "    <tr style=\"text-align: right;\">\n",
       "      <th></th>\n",
       "      <th>user_id</th>\n",
       "      <th>product_id</th>\n",
       "      <th>rating</th>\n",
       "    </tr>\n",
       "  </thead>\n",
       "  <tbody>\n",
       "    <tr>\n",
       "      <th>0</th>\n",
       "      <td>623</td>\n",
       "      <td>346</td>\n",
       "      <td>4.2</td>\n",
       "    </tr>\n",
       "    <tr>\n",
       "      <th>1</th>\n",
       "      <td>88</td>\n",
       "      <td>848</td>\n",
       "      <td>4.0</td>\n",
       "    </tr>\n",
       "    <tr>\n",
       "      <th>2</th>\n",
       "      <td>849</td>\n",
       "      <td>819</td>\n",
       "      <td>3.9</td>\n",
       "    </tr>\n",
       "    <tr>\n",
       "      <th>3</th>\n",
       "      <td>254</td>\n",
       "      <td>643</td>\n",
       "      <td>4.2</td>\n",
       "    </tr>\n",
       "    <tr>\n",
       "      <th>4</th>\n",
       "      <td>17</td>\n",
       "      <td>588</td>\n",
       "      <td>4.2</td>\n",
       "    </tr>\n",
       "  </tbody>\n",
       "</table>\n",
       "</div>"
      ],
      "text/plain": [
       "  user_id product_id  rating\n",
       "0     623        346     4.2\n",
       "1      88        848     4.0\n",
       "2     849        819     3.9\n",
       "3     254        643     4.2\n",
       "4      17        588     4.2"
      ]
     },
     "execution_count": 176,
     "metadata": {},
     "output_type": "execute_result"
    }
   ],
   "source": [
    "#Convert Text IDs to Numeric IDs\n",
    "user_enc = LabelEncoder()\n",
    "item_enc = LabelEncoder()\n",
    "\n",
    "data.loc[:, 'user_id'] = user_enc.fit_transform(data['user_id'])\n",
    "data.loc[:, 'product_id'] = item_enc.fit_transform(data['product_id'])\n",
    "\n",
    "data.head()"
   ]
  },
  {
   "cell_type": "code",
   "execution_count": 177,
   "id": "7061bc1e5a92bbec",
   "metadata": {
    "ExecuteTime": {
     "end_time": "2025-05-21T22:09:47.241947Z",
     "start_time": "2025-05-21T22:09:47.221050Z"
    }
   },
   "outputs": [
    {
     "data": {
      "text/html": [
       "<div>\n",
       "<style scoped>\n",
       "    .dataframe tbody tr th:only-of-type {\n",
       "        vertical-align: middle;\n",
       "    }\n",
       "\n",
       "    .dataframe tbody tr th {\n",
       "        vertical-align: top;\n",
       "    }\n",
       "\n",
       "    .dataframe thead th {\n",
       "        text-align: right;\n",
       "    }\n",
       "</style>\n",
       "<table border=\"1\" class=\"dataframe\">\n",
       "  <thead>\n",
       "    <tr style=\"text-align: right;\">\n",
       "      <th>product_id</th>\n",
       "      <th>0</th>\n",
       "      <th>1</th>\n",
       "      <th>2</th>\n",
       "      <th>3</th>\n",
       "      <th>4</th>\n",
       "      <th>5</th>\n",
       "      <th>6</th>\n",
       "      <th>7</th>\n",
       "      <th>8</th>\n",
       "      <th>9</th>\n",
       "      <th>...</th>\n",
       "      <th>1341</th>\n",
       "      <th>1342</th>\n",
       "      <th>1343</th>\n",
       "      <th>1344</th>\n",
       "      <th>1345</th>\n",
       "      <th>1346</th>\n",
       "      <th>1347</th>\n",
       "      <th>1348</th>\n",
       "      <th>1349</th>\n",
       "      <th>1350</th>\n",
       "    </tr>\n",
       "    <tr>\n",
       "      <th>user_id</th>\n",
       "      <th></th>\n",
       "      <th></th>\n",
       "      <th></th>\n",
       "      <th></th>\n",
       "      <th></th>\n",
       "      <th></th>\n",
       "      <th></th>\n",
       "      <th></th>\n",
       "      <th></th>\n",
       "      <th></th>\n",
       "      <th></th>\n",
       "      <th></th>\n",
       "      <th></th>\n",
       "      <th></th>\n",
       "      <th></th>\n",
       "      <th></th>\n",
       "      <th></th>\n",
       "      <th></th>\n",
       "      <th></th>\n",
       "      <th></th>\n",
       "      <th></th>\n",
       "    </tr>\n",
       "  </thead>\n",
       "  <tbody>\n",
       "    <tr>\n",
       "      <th>0</th>\n",
       "      <td>0.0</td>\n",
       "      <td>0.0</td>\n",
       "      <td>0.0</td>\n",
       "      <td>0.0</td>\n",
       "      <td>0.0</td>\n",
       "      <td>0.0</td>\n",
       "      <td>0.0</td>\n",
       "      <td>0.0</td>\n",
       "      <td>0.0</td>\n",
       "      <td>0.0</td>\n",
       "      <td>...</td>\n",
       "      <td>0.0</td>\n",
       "      <td>0.0</td>\n",
       "      <td>0.0</td>\n",
       "      <td>0.0</td>\n",
       "      <td>0.0</td>\n",
       "      <td>0.0</td>\n",
       "      <td>0.0</td>\n",
       "      <td>0.0</td>\n",
       "      <td>0.0</td>\n",
       "      <td>0.0</td>\n",
       "    </tr>\n",
       "    <tr>\n",
       "      <th>1</th>\n",
       "      <td>0.0</td>\n",
       "      <td>0.0</td>\n",
       "      <td>0.0</td>\n",
       "      <td>0.0</td>\n",
       "      <td>0.0</td>\n",
       "      <td>0.0</td>\n",
       "      <td>0.0</td>\n",
       "      <td>0.0</td>\n",
       "      <td>0.0</td>\n",
       "      <td>0.0</td>\n",
       "      <td>...</td>\n",
       "      <td>0.0</td>\n",
       "      <td>0.0</td>\n",
       "      <td>0.0</td>\n",
       "      <td>0.0</td>\n",
       "      <td>0.0</td>\n",
       "      <td>0.0</td>\n",
       "      <td>0.0</td>\n",
       "      <td>0.0</td>\n",
       "      <td>0.0</td>\n",
       "      <td>0.0</td>\n",
       "    </tr>\n",
       "    <tr>\n",
       "      <th>2</th>\n",
       "      <td>0.0</td>\n",
       "      <td>0.0</td>\n",
       "      <td>0.0</td>\n",
       "      <td>0.0</td>\n",
       "      <td>0.0</td>\n",
       "      <td>0.0</td>\n",
       "      <td>0.0</td>\n",
       "      <td>0.0</td>\n",
       "      <td>0.0</td>\n",
       "      <td>0.0</td>\n",
       "      <td>...</td>\n",
       "      <td>0.0</td>\n",
       "      <td>0.0</td>\n",
       "      <td>0.0</td>\n",
       "      <td>0.0</td>\n",
       "      <td>0.0</td>\n",
       "      <td>0.0</td>\n",
       "      <td>0.0</td>\n",
       "      <td>0.0</td>\n",
       "      <td>0.0</td>\n",
       "      <td>0.0</td>\n",
       "    </tr>\n",
       "    <tr>\n",
       "      <th>3</th>\n",
       "      <td>0.0</td>\n",
       "      <td>0.0</td>\n",
       "      <td>0.0</td>\n",
       "      <td>0.0</td>\n",
       "      <td>0.0</td>\n",
       "      <td>0.0</td>\n",
       "      <td>0.0</td>\n",
       "      <td>0.0</td>\n",
       "      <td>0.0</td>\n",
       "      <td>0.0</td>\n",
       "      <td>...</td>\n",
       "      <td>0.0</td>\n",
       "      <td>0.0</td>\n",
       "      <td>0.0</td>\n",
       "      <td>0.0</td>\n",
       "      <td>0.0</td>\n",
       "      <td>0.0</td>\n",
       "      <td>0.0</td>\n",
       "      <td>0.0</td>\n",
       "      <td>0.0</td>\n",
       "      <td>0.0</td>\n",
       "    </tr>\n",
       "    <tr>\n",
       "      <th>4</th>\n",
       "      <td>0.0</td>\n",
       "      <td>0.0</td>\n",
       "      <td>0.0</td>\n",
       "      <td>0.0</td>\n",
       "      <td>0.0</td>\n",
       "      <td>0.0</td>\n",
       "      <td>0.0</td>\n",
       "      <td>0.0</td>\n",
       "      <td>0.0</td>\n",
       "      <td>0.0</td>\n",
       "      <td>...</td>\n",
       "      <td>0.0</td>\n",
       "      <td>0.0</td>\n",
       "      <td>0.0</td>\n",
       "      <td>0.0</td>\n",
       "      <td>0.0</td>\n",
       "      <td>0.0</td>\n",
       "      <td>0.0</td>\n",
       "      <td>0.0</td>\n",
       "      <td>0.0</td>\n",
       "      <td>0.0</td>\n",
       "    </tr>\n",
       "  </tbody>\n",
       "</table>\n",
       "<p>5 rows × 1350 columns</p>\n",
       "</div>"
      ],
      "text/plain": [
       "product_id  0     1     2     3     4     5     6     7     8     9     ...  \\\n",
       "user_id                                                                 ...   \n",
       "0            0.0   0.0   0.0   0.0   0.0   0.0   0.0   0.0   0.0   0.0  ...   \n",
       "1            0.0   0.0   0.0   0.0   0.0   0.0   0.0   0.0   0.0   0.0  ...   \n",
       "2            0.0   0.0   0.0   0.0   0.0   0.0   0.0   0.0   0.0   0.0  ...   \n",
       "3            0.0   0.0   0.0   0.0   0.0   0.0   0.0   0.0   0.0   0.0  ...   \n",
       "4            0.0   0.0   0.0   0.0   0.0   0.0   0.0   0.0   0.0   0.0  ...   \n",
       "\n",
       "product_id  1341  1342  1343  1344  1345  1346  1347  1348  1349  1350  \n",
       "user_id                                                                 \n",
       "0            0.0   0.0   0.0   0.0   0.0   0.0   0.0   0.0   0.0   0.0  \n",
       "1            0.0   0.0   0.0   0.0   0.0   0.0   0.0   0.0   0.0   0.0  \n",
       "2            0.0   0.0   0.0   0.0   0.0   0.0   0.0   0.0   0.0   0.0  \n",
       "3            0.0   0.0   0.0   0.0   0.0   0.0   0.0   0.0   0.0   0.0  \n",
       "4            0.0   0.0   0.0   0.0   0.0   0.0   0.0   0.0   0.0   0.0  \n",
       "\n",
       "[5 rows x 1350 columns]"
      ]
     },
     "execution_count": 177,
     "metadata": {},
     "output_type": "execute_result"
    }
   ],
   "source": [
    "pivot_table = data.pivot_table(index='user_id', columns='product_id', values='rating')\n",
    "# Fill missing values in the pivot table with 0\n",
    "pivot_table = pivot_table.fillna(0)\n",
    "pivot_table.head()"
   ]
  },
  {
   "cell_type": "markdown",
   "id": "7d609b1610f7713a",
   "metadata": {},
   "source": [
    "# First Approach: Collaborative Filtering\n"
   ]
  },
  {
   "cell_type": "code",
   "execution_count": 178,
   "id": "3fbd2b3dba2e6e5e",
   "metadata": {
    "ExecuteTime": {
     "end_time": "2025-05-21T22:09:47.358909Z",
     "start_time": "2025-05-21T22:09:47.354233Z"
    }
   },
   "outputs": [
    {
     "name": "stdout",
     "output_type": "stream",
     "text": [
      "Rating scale: [2.0, 5.0]\n",
      "Number of ratings: 1,465\n",
      "Number of users: 1,194\n",
      "Number of products: 1,351\n",
      "Sparsity: 99.91%\n"
     ]
    }
   ],
   "source": [
    "import pandas as pd\n",
    "import numpy as np\n",
    "from surprise import Dataset, Reader, SVD\n",
    "from surprise.model_selection import train_test_split\n",
    "from surprise import accuracy\n",
    "from collections import defaultdict\n",
    "\n",
    "\n",
    "rating_min = data['rating'].min()\n",
    "rating_max = data['rating'].max()\n",
    "\n",
    "print(f\"Rating scale: [{rating_min}, {rating_max}]\")\n",
    "print(f\"Number of ratings: {len(data):,}\")\n",
    "print(f\"Number of users: {data['user_id'].nunique():,}\")\n",
    "print(f\"Number of products: {data['product_id'].nunique():,}\")\n",
    "# Calculate sparsity - handle potential division by zero if users or items are 0\n",
    "num_users = data['user_id'].nunique()\n",
    "num_items = data['product_id'].nunique()\n",
    "if num_users > 0 and num_items > 0:\n",
    "    sparsity = (1 - len(data) / (num_users * num_items)) * 100\n",
    "    print(f\"Sparsity: {sparsity:.2f}%\")"
   ]
  },
  {
   "cell_type": "code",
   "execution_count": 179,
   "id": "c6511fc7ca115478",
   "metadata": {
    "ExecuteTime": {
     "end_time": "2025-05-21T22:09:47.374288Z",
     "start_time": "2025-05-21T22:09:47.362535Z"
    }
   },
   "outputs": [
    {
     "name": "stdout",
     "output_type": "stream",
     "text": [
      "\n",
      "Training SVD model...\n",
      "SVD model training complete.\n",
      "\n",
      "Evaluating model performance...\n",
      "RMSE: 0.2593\n"
     ]
    }
   ],
   "source": [
    "# Split data into training and testing sets\n",
    "# right at the top, before you build your Surprise dataset:\n",
    "df = data.copy()\n",
    "\n",
    "df = data.dropna(subset=['user_id', 'product_id', 'rating'])\n",
    "reader = Reader(rating_scale=(df['rating'].min(), data['rating'].max()))\n",
    "dataset = Dataset.load_from_df(df[['user_id', 'product_id', 'rating']], reader)\n",
    "\n",
    "trainset, testset = train_test_split(dataset, test_size=0.2, random_state=42)\n",
    "\n",
    "# --- Train a single model (SVD) ---\n",
    "print(\"\\nTraining SVD model...\")\n",
    "model = SVD(n_factors=50, n_epochs=20, random_state=42)\n",
    "#model = SVD(n_factors=50, random_state=42)\n",
    "model.fit(trainset)\n",
    "print(\"SVD model training complete.\")\n",
    "\n",
    "# --- Evaluate the model ---\n",
    "print(\"\\nEvaluating model performance...\")\n",
    "predictions = model.test(testset)\n",
    "\n",
    "# Calculate RMSE\n",
    "rmse_svd = accuracy.rmse(predictions)\n"
   ]
  },
  {
   "cell_type": "markdown",
   "id": "1ae3995b-91f8-4fdb-8166-84dd4c397471",
   "metadata": {
    "jp-MarkdownHeadingCollapsed": true
   },
   "source": [
    "# Encoded recomendations"
   ]
  },
  {
   "cell_type": "code",
   "execution_count": 180,
   "id": "9b67f6f122e54859",
   "metadata": {
    "ExecuteTime": {
     "end_time": "2025-05-21T22:09:47.869583Z",
     "start_time": "2025-05-21T22:09:47.866969Z"
    }
   },
   "outputs": [],
   "source": [
    "def get_top_n_recommendations(algo, data, user_id, n=5):\n",
    "    # Get all unique items\n",
    "    all_items = data['product_id'].unique()\n",
    "\n",
    "    # Get items the user has already rated\n",
    "    rated_items = data[data['user_id'] == user_id]['product_id']\n",
    "\n",
    "    # Predict ratings for unrated items\n",
    "    predictions = []\n",
    "    for item in all_items:\n",
    "        if item not in rated_items.values:\n",
    "            pred = algo.predict(user_id, item)\n",
    "            predictions.append((item, pred.est))\n",
    "\n",
    "    # Sort by predicted rating\n",
    "    predictions.sort(key=lambda x: x[1], reverse=True)\n",
    "\n",
    "    return predictions[:n]"
   ]
  },
  {
   "cell_type": "markdown",
   "id": "6c805aa6c42bb942",
   "metadata": {},
   "source": [
    "# Named Recomendation"
   ]
  },
  {
   "cell_type": "code",
   "execution_count": 181,
   "id": "e4c720bba5456b40",
   "metadata": {
    "ExecuteTime": {
     "end_time": "2025-05-21T22:09:47.923371Z",
     "start_time": "2025-05-21T22:09:47.920213Z"
    }
   },
   "outputs": [],
   "source": [
    "def get_named_recommendations(algo, data, user_id, n=5):\n",
    "    # all numeric product_ids\n",
    "    all_items = data['product_id'].unique()\n",
    "    # items the user already rated\n",
    "    seen = set(data.loc[data['user_id']==user_id, 'product_id'])\n",
    "\n",
    "    preds = []\n",
    "    for iid in all_items:\n",
    "        if iid not in seen:\n",
    "            est = algo.predict(user_id, iid).est\n",
    "            preds.append((iid, est))\n",
    "    preds.sort(key=lambda x: x[1], reverse=True)\n",
    "    top_n = preds[:n]\n",
    "\n",
    "    # 3. Inverse‐transform numeric IDs → original product_id\n",
    "    orig_ids = item_enc.inverse_transform([iid for iid, _ in top_n])\n",
    "    scores   = [score for _, score in top_n]\n",
    "\n",
    "    # 4. Look up product names\n",
    "    results = []\n",
    "    for pid, score in zip(orig_ids, scores):\n",
    "        name = products.loc[pid, 'product_name']\n",
    "        results.append((pid, name, score))\n",
    "    return results"
   ]
  },
  {
   "cell_type": "code",
   "execution_count": 182,
   "id": "b0b46cd4f7f52634",
   "metadata": {
    "ExecuteTime": {
     "end_time": "2025-05-21T22:09:47.959855Z",
     "start_time": "2025-05-21T22:09:47.951950Z"
    }
   },
   "outputs": [
    {
     "name": "stdout",
     "output_type": "stream",
     "text": [
      "B0BBW521YC — LAPSTER 12pcs Spiral Cable Protectors for Charger, Wires, Data Charger Cable Protector for Computers, Cell Phones etc.(Grey): 4.397\n",
      "B08TGG316Z — 10k 8k 4k HDMI Cable, Certified 48Gbps 1ms Ultra High Speed HDMI 2.1 Cable 4k 120Hz 144Hz 2k 165Hz 8k 60Hz Dynamic HDR ARC eARC DTS:X Compatible for Mac Gaming PC Soundbar TV Monitor Laptop PS5 4 Xbox: 4.375\n",
      "B01D5H90L4 — AmazonBasics - High-Speed Male to Female HDMI Extension Cable - 6 Feet: 4.353\n",
      "B084N133Y7 — Belkin Apple Certified Lightning To Type C Cable, Fast Charging For Iphone, Ipad, Air Pods, 3.3 Feet (1 Meters)    White: 4.337\n",
      "B09W5XR9RT — Duracell USB C To Lightning Apple Certified (Mfi) Braided Sync & Charge Cable For Iphone, Ipad And Ipod. Fast Charging Lightning Cable, 3.9 Feet (1.2M) - Black: 4.335\n"
     ]
    }
   ],
   "source": [
    "USER = 1\n",
    "\n",
    "#top_n_recommendations = get_top_n_recommendations(model, data, user_id=USER, n=5)\n",
    "#print(f\"Top 5 recommendations for user 123: {top_n_recommendations}\")\n",
    "recommendations = get_named_recommendations(model, data, user_id=USER, n=5)\n",
    "for pid, name, score in recommendations:\n",
    "    print(f\"{pid} — {name}: {score:.3f}\")"
   ]
  },
  {
   "cell_type": "code",
   "execution_count": 183,
   "id": "89bfa90d86e8734e",
   "metadata": {
    "ExecuteTime": {
     "end_time": "2025-05-21T22:09:47.973615Z",
     "start_time": "2025-05-21T22:09:47.970165Z"
    }
   },
   "outputs": [],
   "source": [
    "def precision_recall_at_k(predictions, k=100, threshold=3.5):\n",
    "    \"\"\"Return precision and recall at k metrics for each user.\"\"\"\n",
    "\n",
    "    user_prediction = defaultdict(list)\n",
    "    for uid, _, true_rating, estimated, _ in predictions:\n",
    "        user_prediction[uid].append((estimated, true_rating))\n",
    "\n",
    "    precisions = dict()\n",
    "    recalls = dict()\n",
    "    for uid, user_ratings in user_prediction.items():\n",
    "        # Sort user ratings by estimated value\n",
    "        user_ratings.sort(key=lambda x: x[0], reverse=True)\n",
    "        # Number of relevant items\n",
    "        n_relevant = sum((true_rating >= threshold) for (_, true_rating) in user_ratings)\n",
    "        # Number of recommended items in top k\n",
    "        n_rec_k = sum((estimated >= threshold) for (estimated, _) in user_ratings[:k])\n",
    "        # Number of relevant and recommended items in top k\n",
    "        n_rel_and_rec_k = sum(((true_rating >= threshold) and (estimated >= threshold))\n",
    "                              for (estimated, true_rating) in user_ratings[:k])\n",
    "        # Precision@K: Proportion of recommended items that are relevant\n",
    "        precisions[uid] = n_rel_and_rec_k / n_rec_k if n_rec_k != 0 else 1\n",
    "        # Recall@K: Proportion of relevant items that are recommended\n",
    "        recalls[uid] = n_rel_and_rec_k / n_relevant if n_relevant != 0 else 1\n",
    "    return precisions, recalls"
   ]
  },
  {
   "cell_type": "code",
   "execution_count": 184,
   "id": "dcdf70abfca9367c",
   "metadata": {
    "ExecuteTime": {
     "end_time": "2025-05-21T22:09:47.991446Z",
     "start_time": "2025-05-21T22:09:47.988150Z"
    }
   },
   "outputs": [
    {
     "name": "stdout",
     "output_type": "stream",
     "text": [
      "\n",
      "Calculating Precision@k and Recall@k...\n",
      "Precision@2: 0.9856\n",
      "Recall@2: 0.9988\n"
     ]
    }
   ],
   "source": [
    "print(\"\\nCalculating Precision@k and Recall@k...\")\n",
    "# Set your desired k and rating threshold for 'relevant' items\n",
    "K = 2\n",
    "RATING_THRESHOLD = 3.5 # Assuming a rating of 3.5 or higher is considered 'relevant'\n",
    "\n",
    "precisions, recalls = precision_recall_at_k(predictions, k=K, threshold=RATING_THRESHOLD)\n",
    "\n",
    "# Average precision and recall\n",
    "avg_precision = sum(prec for prec in precisions.values()) / len(precisions)\n",
    "avg_recall = sum(rec for rec in recalls.values()) / len(recalls)\n",
    "\n",
    "print(f\"Precision@{K}: {avg_precision:.4f}\")\n",
    "print(f\"Recall@{K}: {avg_recall:.4f}\")"
   ]
  },
  {
   "cell_type": "markdown",
   "id": "2c2ab2c9",
   "metadata": {},
   "source": [
    "#2nd approach: \n",
    "##KNN Model"
   ]
  },
  {
   "cell_type": "code",
   "execution_count": 185,
   "id": "fff9b990",
   "metadata": {},
   "outputs": [
    {
     "name": "stdout",
     "output_type": "stream",
     "text": [
      "Computing the pearson similarity matrix...\n",
      "Done computing similarity matrix.\n",
      "RMSE: 0.2574\n",
      "kNN RMSE: 0.2574\n",
      "\n",
      "Top‑5 kNN Recommendations:\n",
      "B07JW9H4J1 — Wayona Nylon Braided USB to Lightning Fast Charging and Data Sync Cable Compatible for iPhone 13, 12,11, X, 8, 7, 6, 5, iPad Air, Pro, Mini (3 FT Pack of 1, Grey): 4.094\n",
      "B098NS6PVG — Ambrane Unbreakable 60W / 3A Fast Charging 1.5m Braided Type C Cable for Smartphones, Tablets, Laptops & other Type C devices, PD Technology, 480Mbps Data Sync, Quick Charge 3.0 (RCT15A, Black): 4.094\n",
      "B096MSW6CT — Sounce Fast Phone Charging Cable & Data Sync USB Cable Compatible for iPhone 13, 12,11, X, 8, 7, 6, 5, iPad Air, Pro, Mini & iOS Devices: 4.094\n",
      "B08HDJ86NZ — boAt Deuce USB 300 2 in 1 Type-C & Micro USB Stress Resistant, Tangle-Free, Sturdy Cable with 3A Fast Charging & 480mbps Data Transmission, 10000+ Bends Lifespan and Extended 1.5m Length(Martian Red): 4.094\n",
      "B08CF3B7N1 — Portronics Konnect L 1.2M Fast Charging 3A 8 Pin USB Cable with Charge & Sync Function for iPhone, iPad (Grey): 4.094\n",
      "\n",
      "kNN Precision@10: 0.9856\n",
      "kNN Recall@10:    1.0000\n"
     ]
    }
   ],
   "source": [
    "# %% [markdown]\n",
    "# ## kNN Collaborative Filtering\n",
    "\n",
    "# %%\n",
    "from surprise import KNNBasic, accuracy\n",
    "from collections import defaultdict\n",
    "\n",
    "# 1) Split data into training and testing sets (same reader/dataset as before)\n",
    "trainset_knn, testset_knn = train_test_split(dataset, test_size=0.2, random_state=42)\n",
    "\n",
    "# 2) Retrain your best_knn on this trainset\n",
    "best_knn.fit(trainset_knn)\n",
    "\n",
    "# 3) Evaluate on the held-out testset\n",
    "predictions_knn = best_knn.test(testset_knn)\n",
    "rmse_knn = accuracy.rmse(predictions_knn)\n",
    "print(f\"kNN RMSE: {rmse_knn:.4f}\")\n",
    "\n",
    "# %%\n",
    "# 4) Recommendation functions for kNN\n",
    "\n",
    "def get_top_n_recommendations_knn(algo, df, user_id, n=5):\n",
    "    all_items   = df['product_id'].unique()\n",
    "    rated_items = set(df.loc[df['user_id']==user_id, 'product_id'])\n",
    "    preds = []\n",
    "    for iid in all_items:\n",
    "        if iid not in rated_items:\n",
    "            est = algo.predict(user_id, iid).est\n",
    "            preds.append((iid, est))\n",
    "    preds.sort(key=lambda x: x[1], reverse=True)\n",
    "    return preds[:n]\n",
    "\n",
    "def get_named_recommendations_knn(algo, df, user_id, n=5):\n",
    "    top_n = get_top_n_recommendations_knn(algo, df, user_id, n)\n",
    "    # If you encoded product_id via LabelEncoder, inverse-transform; otherwise skip\n",
    "    raw_iids = [iid for iid, _ in top_n]\n",
    "    orig_iids = item_enc.inverse_transform(raw_iids)\n",
    "    results = []\n",
    "    for pid_enc, score in zip(orig_iids, [s for _, s in top_n]):\n",
    "        name = products.loc[pid_enc, 'product_name']\n",
    "        results.append((pid_enc, name, score))\n",
    "    return results\n",
    "\n",
    "def precision_recall_at_k_knn(predictions, k=10, threshold=3.5):\n",
    "    user_ratings = defaultdict(list)\n",
    "    for uid, _, true_r, est, _ in predictions:\n",
    "        user_ratings[uid].append((est, true_r))\n",
    "\n",
    "    precisions = {}\n",
    "    recalls    = {}\n",
    "    for uid, ratings in user_ratings.items():\n",
    "        ratings.sort(key=lambda x: x[0], reverse=True)\n",
    "        n_rel       = sum((true_r >= threshold) for _, true_r in ratings)\n",
    "        n_rec_k     = sum((est    >= threshold) for est, _ in ratings[:k])\n",
    "        n_rel_and_k = sum(((true_r >= threshold) and (est >= threshold))\n",
    "                          for est, true_r in ratings[:k])\n",
    "        precisions[uid] = n_rel_and_k / n_rec_k   if n_rec_k else 1\n",
    "        recalls[uid]    = n_rel_and_k / n_rel     if n_rel   else 1\n",
    "    return precisions, recalls\n",
    "\n",
    "# %%\n",
    "# 5) Top‑5 named recommendations for USER=1\n",
    "USER = 1\n",
    "recs_knn = get_named_recommendations_knn(best_knn, data, USER, n=5)\n",
    "print(\"\\nTop‑5 kNN Recommendations:\")\n",
    "for pid, name, score in recs_knn:\n",
    "    print(f\"{pid} — {name}: {score:.3f}\")\n",
    "\n",
    "# %%\n",
    "# 6) Precision@K and Recall@K on the held‑out testset\n",
    "K_KNN = 10\n",
    "THRESH = 3.5\n",
    "prec_knn, rec_knn = precision_recall_at_k_knn(predictions_knn, k=K_KNN, threshold=THRESH)\n",
    "\n",
    "avg_prec_knn = sum(prec_knn.values()) / len(prec_knn)\n",
    "avg_rec_knn  = sum(rec_knn.values())  / len(rec_knn)\n",
    "print(f\"\\nkNN Precision@{K_KNN}: {avg_prec_knn:.4f}\")\n",
    "print(f\"kNN Recall@{K_KNN}:    {avg_rec_knn:.4f}\")\n",
    "\n",
    "# %%\n",
    "\n"
   ]
  },
  {
   "cell_type": "code",
   "execution_count": 186,
   "id": "ad2ca611",
   "metadata": {},
   "outputs": [
    {
     "name": "stdout",
     "output_type": "stream",
     "text": [
      "RMSE: 0.2593\n",
      "SVD RMSE: 0.2593341047022598\n",
      "CV k=10, sim={'name': 'cosine', 'user_based': True}\n",
      "Computing the cosine similarity matrix...\n",
      "Done computing similarity matrix.\n",
      "Computing the cosine similarity matrix...\n",
      "Done computing similarity matrix.\n",
      "Computing the cosine similarity matrix...\n",
      "Done computing similarity matrix.\n",
      "Computing the cosine similarity matrix...\n",
      "Done computing similarity matrix.\n",
      "Computing the cosine similarity matrix...\n",
      "Done computing similarity matrix.\n",
      " → Mean RMSE: 0.2811\n",
      "CV k=10, sim={'name': 'pearson', 'user_based': True}\n",
      "Computing the pearson similarity matrix...\n",
      "Done computing similarity matrix.\n",
      "Computing the pearson similarity matrix...\n",
      "Done computing similarity matrix.\n",
      "Computing the pearson similarity matrix...\n",
      "Done computing similarity matrix.\n",
      "Computing the pearson similarity matrix...\n",
      "Done computing similarity matrix.\n",
      "Computing the pearson similarity matrix...\n",
      "Done computing similarity matrix.\n",
      " → Mean RMSE: 0.2804\n",
      "CV k=20, sim={'name': 'cosine', 'user_based': True}\n",
      "Computing the cosine similarity matrix...\n",
      "Done computing similarity matrix.\n",
      "Computing the cosine similarity matrix...\n",
      "Done computing similarity matrix.\n",
      "Computing the cosine similarity matrix...\n",
      "Done computing similarity matrix.\n",
      "Computing the cosine similarity matrix...\n",
      "Done computing similarity matrix.\n",
      "Computing the cosine similarity matrix...\n",
      "Done computing similarity matrix.\n",
      " → Mean RMSE: 0.2811\n",
      "CV k=20, sim={'name': 'pearson', 'user_based': True}\n",
      "Computing the pearson similarity matrix...\n",
      "Done computing similarity matrix.\n",
      "Computing the pearson similarity matrix...\n",
      "Done computing similarity matrix.\n",
      "Computing the pearson similarity matrix...\n",
      "Done computing similarity matrix.\n",
      "Computing the pearson similarity matrix...\n",
      "Done computing similarity matrix.\n",
      "Computing the pearson similarity matrix...\n",
      "Done computing similarity matrix.\n",
      " → Mean RMSE: 0.2808\n",
      "CV k=40, sim={'name': 'cosine', 'user_based': True}\n",
      "Computing the cosine similarity matrix...\n",
      "Done computing similarity matrix.\n",
      "Computing the cosine similarity matrix...\n",
      "Done computing similarity matrix.\n",
      "Computing the cosine similarity matrix...\n",
      "Done computing similarity matrix.\n",
      "Computing the cosine similarity matrix...\n",
      "Done computing similarity matrix.\n",
      "Computing the cosine similarity matrix...\n",
      "Done computing similarity matrix.\n",
      " → Mean RMSE: 0.2812\n",
      "CV k=40, sim={'name': 'pearson', 'user_based': True}\n",
      "Computing the pearson similarity matrix...\n",
      "Done computing similarity matrix.\n",
      "Computing the pearson similarity matrix...\n",
      "Done computing similarity matrix.\n",
      "Computing the pearson similarity matrix...\n",
      "Done computing similarity matrix.\n",
      "Computing the pearson similarity matrix...\n",
      "Done computing similarity matrix.\n",
      "Computing the pearson similarity matrix...\n",
      "Done computing similarity matrix.\n",
      " → Mean RMSE: 0.2810\n",
      "Best kNN: RMSE=0.2804 with {'k': 10, 'sim_options': {'name': 'pearson', 'user_based': True}}\n",
      "Computing the pearson similarity matrix...\n",
      "Done computing similarity matrix.\n",
      "RMSE: 0.0000\n",
      "kNN  RMSE: 0.0\n"
     ]
    }
   ],
   "source": [
    "import pandas as pd\n",
    "import numpy as np\n",
    "\n",
    "from surprise import Dataset, Reader, SVD, KNNBasic\n",
    "from surprise.model_selection import train_test_split, cross_validate\n",
    "from surprise import accuracy\n",
    "\n",
    "# 1) Keep a copy of your raw ratings table\n",
    "df = data.dropna(subset=['user_id', 'product_id', 'rating']).copy()\n",
    "\n",
    "# 2) Build Surprise dataset from df\n",
    "reader  = Reader(rating_scale=(df.rating.min(), df.rating.max()))\n",
    "dataset = Dataset.load_from_df(df[['user_id','product_id','rating']], reader)\n",
    "\n",
    "# 3) Train + evaluate your SVD as before\n",
    "trainset, testset = train_test_split(dataset, test_size=0.2, random_state=42)\n",
    "svd = SVD(n_factors=50, n_epochs=20, random_state=42)\n",
    "svd.fit(trainset)\n",
    "pred_svd = svd.test(testset)\n",
    "print(\"SVD RMSE:\", accuracy.rmse(pred_svd))\n",
    "\n",
    "# 4) kNN cross‑validation over the same 'dataset'\n",
    "best_rmse    = float('inf')\n",
    "best_params  = None\n",
    "best_knn     = None\n",
    "\n",
    "for k in [10,20,40]:\n",
    "    for sim_opts in [{'name':'cosine','user_based':True},\n",
    "                     {'name':'pearson','user_based':True}]:\n",
    "        print(f\"CV k={k}, sim={sim_opts}\")\n",
    "        knn = KNNBasic(k=k, sim_options=sim_opts)\n",
    "        cv = cross_validate(knn, dataset, measures=['rmse','mae'], cv=5, verbose=False)\n",
    "        mean_rmse = np.mean(cv['test_rmse'])\n",
    "        print(f\" → Mean RMSE: {mean_rmse:.4f}\")\n",
    "        if mean_rmse < best_rmse:\n",
    "            best_rmse   = mean_rmse\n",
    "            best_params = {'k':k, 'sim_options':sim_opts}\n",
    "            best_knn    = knn\n",
    "\n",
    "print(f\"Best kNN: RMSE={best_rmse:.4f} with {best_params}\")\n",
    "\n",
    "# 5) Retrain your best kNN on the *full* training set from the Surprise dataset\n",
    "full_trainset = dataset.build_full_trainset()\n",
    "best_knn.fit(full_trainset)\n",
    "\n",
    "# 6) (Optional) Evaluate kNN on that same full_trainset\n",
    "testset_knn = full_trainset.build_testset()\n",
    "pred_knn    = best_knn.test(testset_knn)\n",
    "print(\"kNN  RMSE:\", accuracy.rmse(pred_knn))\n"
   ]
  },
  {
   "cell_type": "code",
   "execution_count": 187,
   "id": "6454652f",
   "metadata": {},
   "outputs": [],
   "source": [
    "def get_top_n_recommendations_knn(algo, data, user_id, n=5):\n",
    "    all_items = data['product_id'].unique()\n",
    "    rated_items = data[data['user_id'] == user_id]['product_id']\n",
    "    \n",
    "    predictions = []\n",
    "    for item in all_items:\n",
    "        if item not in rated_items.values:\n",
    "            pred = algo.predict(user_id, item)\n",
    "            predictions.append((item, pred.est))\n",
    "    \n",
    "    predictions.sort(key=lambda x: x[1], reverse=True)\n",
    "    return predictions[:n]\n"
   ]
  },
  {
   "cell_type": "code",
   "execution_count": 188,
   "id": "d54ac7de",
   "metadata": {},
   "outputs": [],
   "source": [
    "def get_named_recommendations_knn(algo, data, user_id, n=5):\n",
    "    all_items = data['product_id'].unique()\n",
    "    seen = set(data.loc[data['user_id'] == user_id, 'product_id'])\n",
    "    \n",
    "    preds = []\n",
    "    for iid in all_items:\n",
    "        if iid not in seen:\n",
    "            est = algo.predict(user_id, iid).est\n",
    "            preds.append((iid, est))\n",
    "    \n",
    "    preds.sort(key=lambda x: x[1], reverse=True)\n",
    "    top_n = preds[:n]\n",
    "    \n",
    "    orig_ids = item_enc.inverse_transform([iid for iid, _ in top_n])\n",
    "    scores = [score for _, score in top_n]\n",
    "\n",
    "    results = []\n",
    "    for pid, score in zip(orig_ids, scores):\n",
    "        name = products.loc[pid, 'product_name']\n",
    "        results.append((pid, name, score))\n",
    "    \n",
    "    return results\n"
   ]
  },
  {
   "cell_type": "code",
   "execution_count": 189,
   "id": "505fae6f",
   "metadata": {},
   "outputs": [],
   "source": [
    "def precision_recall_at_k_knn(predictions, k=100, threshold=3.5):\n",
    "    user_prediction = defaultdict(list)\n",
    "    for uid, _, true_rating, estimated, _ in predictions:\n",
    "        user_prediction[uid].append((estimated, true_rating))\n",
    "\n",
    "    precisions = dict()\n",
    "    recalls = dict()\n",
    "    for uid, user_ratings in user_prediction.items():\n",
    "        user_ratings.sort(key=lambda x: x[0], reverse=True)\n",
    "        n_relevant = sum((true_rating >= threshold) for (_, true_rating) in user_ratings)\n",
    "        n_rec_k = sum((estimated >= threshold) for (estimated, _) in user_ratings[:k])\n",
    "        n_rel_and_rec_k = sum(((true_rating >= threshold) and (estimated >= threshold))\n",
    "                              for (estimated, true_rating) in user_ratings[:k])\n",
    "        precisions[uid] = n_rel_and_rec_k / n_rec_k if n_rec_k != 0 else 1\n",
    "        recalls[uid] = n_rel_and_rec_k / n_relevant if n_relevant != 0 else 1\n",
    "    return precisions, recalls\n"
   ]
  },
  {
   "cell_type": "code",
   "execution_count": 190,
   "id": "0fc17558",
   "metadata": {},
   "outputs": [
    {
     "name": "stdout",
     "output_type": "stream",
     "text": [
      "B07JW9H4J1 — Wayona Nylon Braided USB to Lightning Fast Charging and Data Sync Cable Compatible for iPhone 13, 12,11, X, 8, 7, 6, 5, iPad Air, Pro, Mini (3 FT Pack of 1, Grey): 4.097\n",
      "B098NS6PVG — Ambrane Unbreakable 60W / 3A Fast Charging 1.5m Braided Type C Cable for Smartphones, Tablets, Laptops & other Type C devices, PD Technology, 480Mbps Data Sync, Quick Charge 3.0 (RCT15A, Black): 4.097\n",
      "B096MSW6CT — Sounce Fast Phone Charging Cable & Data Sync USB Cable Compatible for iPhone 13, 12,11, X, 8, 7, 6, 5, iPad Air, Pro, Mini & iOS Devices: 4.097\n",
      "B08HDJ86NZ — boAt Deuce USB 300 2 in 1 Type-C & Micro USB Stress Resistant, Tangle-Free, Sturdy Cable with 3A Fast Charging & 480mbps Data Transmission, 10000+ Bends Lifespan and Extended 1.5m Length(Martian Red): 4.097\n",
      "B08CF3B7N1 — Portronics Konnect L 1.2M Fast Charging 3A 8 Pin USB Cable with Charge & Sync Function for iPhone, iPad (Grey): 4.097\n",
      "\n",
      "KNN Precision@2: 1.0000\n",
      "KNN Recall@2: 0.9802\n"
     ]
    }
   ],
   "source": [
    "# Get recommendations\n",
    "USER = 1\n",
    "recommendations_knn = get_named_recommendations_knn(best_knn, data, user_id=USER, n=5)\n",
    "for pid, name, score in recommendations_knn:\n",
    "    print(f\"{pid} — {name}: {score:.3f}\")\n",
    "\n",
    "# Evaluate kNN precision & recall\n",
    "testset_knn = trainset.build_testset()\n",
    "predictions_knn = best_knn.test(testset_knn)\n",
    "precisions_knn, recalls_knn = precision_recall_at_k_knn(predictions_knn, k=2, threshold=3.5)\n",
    "\n",
    "avg_precision_knn = sum(precisions_knn.values()) / len(precisions_knn)\n",
    "avg_recall_knn = sum(recalls_knn.values()) / len(recalls_knn)\n",
    "\n",
    "print(f\"\\nKNN Precision@2: {avg_precision_knn:.4f}\")\n",
    "print(f\"KNN Recall@2: {avg_recall_knn:.4f}\")\n"
   ]
  },
  {
   "cell_type": "markdown",
   "id": "1825df85565a4e23",
   "metadata": {},
   "source": [
    "# Second Approach: Autoencoders"
   ]
  },
  {
   "cell_type": "markdown",
   "id": "1fe8d5c0-a4b0-4794-bcc0-dd4f056555e0",
   "metadata": {
    "jp-MarkdownHeadingCollapsed": true
   },
   "source": [
    "### *old version of auto encoder*"
   ]
  },
  {
   "cell_type": "markdown",
   "id": "90331479-73cc-4190-9dea-f660b1c1eba6",
   "metadata": {},
   "source": [
    "### Second Approach: Autoencoders"
   ]
  },
  {
   "cell_type": "code",
   "execution_count": 191,
   "id": "98da6497-f906-407c-b168-c2c8a239e80a",
   "metadata": {},
   "outputs": [
    {
     "name": "stderr",
     "output_type": "stream",
     "text": [
      "2025-07-16 19:05:19.266902: I external/local_xla/xla/tsl/cuda/cudart_stub.cc:32] Could not find cuda drivers on your machine, GPU will not be used.\n",
      "2025-07-16 19:05:19.271345: I external/local_xla/xla/tsl/cuda/cudart_stub.cc:32] Could not find cuda drivers on your machine, GPU will not be used.\n",
      "2025-07-16 19:05:19.282256: E external/local_xla/xla/stream_executor/cuda/cuda_fft.cc:467] Unable to register cuFFT factory: Attempting to register factory for plugin cuFFT when one has already been registered\n",
      "WARNING: All log messages before absl::InitializeLog() is called are written to STDERR\n",
      "E0000 00:00:1752692719.297730   32819 cuda_dnn.cc:8579] Unable to register cuDNN factory: Attempting to register factory for plugin cuDNN when one has already been registered\n",
      "E0000 00:00:1752692719.302856   32819 cuda_blas.cc:1407] Unable to register cuBLAS factory: Attempting to register factory for plugin cuBLAS when one has already been registered\n",
      "W0000 00:00:1752692719.315973   32819 computation_placer.cc:177] computation placer already registered. Please check linkage and avoid linking the same target more than once.\n",
      "W0000 00:00:1752692719.315983   32819 computation_placer.cc:177] computation placer already registered. Please check linkage and avoid linking the same target more than once.\n",
      "W0000 00:00:1752692719.315985   32819 computation_placer.cc:177] computation placer already registered. Please check linkage and avoid linking the same target more than once.\n",
      "W0000 00:00:1752692719.315987   32819 computation_placer.cc:177] computation placer already registered. Please check linkage and avoid linking the same target more than once.\n",
      "2025-07-16 19:05:19.320853: I tensorflow/core/platform/cpu_feature_guard.cc:210] This TensorFlow binary is optimized to use available CPU instructions in performance-critical operations.\n",
      "To enable the following instructions: AVX2 FMA, in other operations, rebuild TensorFlow with the appropriate compiler flags.\n"
     ]
    },
    {
     "name": "stdout",
     "output_type": "stream",
     "text": [
      "Number of users: 1193\n",
      "Number of items: 1350\n",
      "\n",
      "Autoencoder Model Summary:\n"
     ]
    },
    {
     "name": "stderr",
     "output_type": "stream",
     "text": [
      "2025-07-16 19:05:21.261353: E external/local_xla/xla/stream_executor/cuda/cuda_platform.cc:51] failed call to cuInit: INTERNAL: CUDA error: Failed call to cuInit: UNKNOWN ERROR (303)\n"
     ]
    },
    {
     "data": {
      "text/html": [
       "<pre style=\"white-space:pre;overflow-x:auto;line-height:normal;font-family:Menlo,'DejaVu Sans Mono',consolas,'Courier New',monospace\"><span style=\"font-weight: bold\">Model: \"autoencoder\"</span>\n",
       "</pre>\n"
      ],
      "text/plain": [
       "\u001b[1mModel: \"autoencoder\"\u001b[0m\n"
      ]
     },
     "metadata": {},
     "output_type": "display_data"
    },
    {
     "data": {
      "text/html": [
       "<pre style=\"white-space:pre;overflow-x:auto;line-height:normal;font-family:Menlo,'DejaVu Sans Mono',consolas,'Courier New',monospace\">┏━━━━━━━━━━━━━━━━━━━━━━━━━━━━━━━━━┳━━━━━━━━━━━━━━━━━━━━━━━━┳━━━━━━━━━━━━━━━┓\n",
       "┃<span style=\"font-weight: bold\"> Layer (type)                    </span>┃<span style=\"font-weight: bold\"> Output Shape           </span>┃<span style=\"font-weight: bold\">       Param # </span>┃\n",
       "┡━━━━━━━━━━━━━━━━━━━━━━━━━━━━━━━━━╇━━━━━━━━━━━━━━━━━━━━━━━━╇━━━━━━━━━━━━━━━┩\n",
       "│ user_rating (<span style=\"color: #0087ff; text-decoration-color: #0087ff\">InputLayer</span>)        │ (<span style=\"color: #00d7ff; text-decoration-color: #00d7ff\">None</span>, <span style=\"color: #00af00; text-decoration-color: #00af00\">1350</span>)           │             <span style=\"color: #00af00; text-decoration-color: #00af00\">0</span> │\n",
       "├─────────────────────────────────┼────────────────────────┼───────────────┤\n",
       "│ encoder_1 (<span style=\"color: #0087ff; text-decoration-color: #0087ff\">Dense</span>)               │ (<span style=\"color: #00d7ff; text-decoration-color: #00d7ff\">None</span>, <span style=\"color: #00af00; text-decoration-color: #00af00\">256</span>)            │       <span style=\"color: #00af00; text-decoration-color: #00af00\">345,856</span> │\n",
       "├─────────────────────────────────┼────────────────────────┼───────────────┤\n",
       "│ encoder_2 (<span style=\"color: #0087ff; text-decoration-color: #0087ff\">Dense</span>)               │ (<span style=\"color: #00d7ff; text-decoration-color: #00d7ff\">None</span>, <span style=\"color: #00af00; text-decoration-color: #00af00\">128</span>)            │        <span style=\"color: #00af00; text-decoration-color: #00af00\">32,896</span> │\n",
       "├─────────────────────────────────┼────────────────────────┼───────────────┤\n",
       "│ encoder_3 (<span style=\"color: #0087ff; text-decoration-color: #0087ff\">Dense</span>)               │ (<span style=\"color: #00d7ff; text-decoration-color: #00d7ff\">None</span>, <span style=\"color: #00af00; text-decoration-color: #00af00\">64</span>)             │         <span style=\"color: #00af00; text-decoration-color: #00af00\">8,256</span> │\n",
       "├─────────────────────────────────┼────────────────────────┼───────────────┤\n",
       "│ decoder_1 (<span style=\"color: #0087ff; text-decoration-color: #0087ff\">Dense</span>)               │ (<span style=\"color: #00d7ff; text-decoration-color: #00d7ff\">None</span>, <span style=\"color: #00af00; text-decoration-color: #00af00\">128</span>)            │         <span style=\"color: #00af00; text-decoration-color: #00af00\">8,320</span> │\n",
       "├─────────────────────────────────┼────────────────────────┼───────────────┤\n",
       "│ decoder_2 (<span style=\"color: #0087ff; text-decoration-color: #0087ff\">Dense</span>)               │ (<span style=\"color: #00d7ff; text-decoration-color: #00d7ff\">None</span>, <span style=\"color: #00af00; text-decoration-color: #00af00\">256</span>)            │        <span style=\"color: #00af00; text-decoration-color: #00af00\">33,024</span> │\n",
       "├─────────────────────────────────┼────────────────────────┼───────────────┤\n",
       "│ decoder_output (<span style=\"color: #0087ff; text-decoration-color: #0087ff\">Dense</span>)          │ (<span style=\"color: #00d7ff; text-decoration-color: #00d7ff\">None</span>, <span style=\"color: #00af00; text-decoration-color: #00af00\">1350</span>)           │       <span style=\"color: #00af00; text-decoration-color: #00af00\">346,950</span> │\n",
       "└─────────────────────────────────┴────────────────────────┴───────────────┘\n",
       "</pre>\n"
      ],
      "text/plain": [
       "┏━━━━━━━━━━━━━━━━━━━━━━━━━━━━━━━━━┳━━━━━━━━━━━━━━━━━━━━━━━━┳━━━━━━━━━━━━━━━┓\n",
       "┃\u001b[1m \u001b[0m\u001b[1mLayer (type)                   \u001b[0m\u001b[1m \u001b[0m┃\u001b[1m \u001b[0m\u001b[1mOutput Shape          \u001b[0m\u001b[1m \u001b[0m┃\u001b[1m \u001b[0m\u001b[1m      Param #\u001b[0m\u001b[1m \u001b[0m┃\n",
       "┡━━━━━━━━━━━━━━━━━━━━━━━━━━━━━━━━━╇━━━━━━━━━━━━━━━━━━━━━━━━╇━━━━━━━━━━━━━━━┩\n",
       "│ user_rating (\u001b[38;5;33mInputLayer\u001b[0m)        │ (\u001b[38;5;45mNone\u001b[0m, \u001b[38;5;34m1350\u001b[0m)           │             \u001b[38;5;34m0\u001b[0m │\n",
       "├─────────────────────────────────┼────────────────────────┼───────────────┤\n",
       "│ encoder_1 (\u001b[38;5;33mDense\u001b[0m)               │ (\u001b[38;5;45mNone\u001b[0m, \u001b[38;5;34m256\u001b[0m)            │       \u001b[38;5;34m345,856\u001b[0m │\n",
       "├─────────────────────────────────┼────────────────────────┼───────────────┤\n",
       "│ encoder_2 (\u001b[38;5;33mDense\u001b[0m)               │ (\u001b[38;5;45mNone\u001b[0m, \u001b[38;5;34m128\u001b[0m)            │        \u001b[38;5;34m32,896\u001b[0m │\n",
       "├─────────────────────────────────┼────────────────────────┼───────────────┤\n",
       "│ encoder_3 (\u001b[38;5;33mDense\u001b[0m)               │ (\u001b[38;5;45mNone\u001b[0m, \u001b[38;5;34m64\u001b[0m)             │         \u001b[38;5;34m8,256\u001b[0m │\n",
       "├─────────────────────────────────┼────────────────────────┼───────────────┤\n",
       "│ decoder_1 (\u001b[38;5;33mDense\u001b[0m)               │ (\u001b[38;5;45mNone\u001b[0m, \u001b[38;5;34m128\u001b[0m)            │         \u001b[38;5;34m8,320\u001b[0m │\n",
       "├─────────────────────────────────┼────────────────────────┼───────────────┤\n",
       "│ decoder_2 (\u001b[38;5;33mDense\u001b[0m)               │ (\u001b[38;5;45mNone\u001b[0m, \u001b[38;5;34m256\u001b[0m)            │        \u001b[38;5;34m33,024\u001b[0m │\n",
       "├─────────────────────────────────┼────────────────────────┼───────────────┤\n",
       "│ decoder_output (\u001b[38;5;33mDense\u001b[0m)          │ (\u001b[38;5;45mNone\u001b[0m, \u001b[38;5;34m1350\u001b[0m)           │       \u001b[38;5;34m346,950\u001b[0m │\n",
       "└─────────────────────────────────┴────────────────────────┴───────────────┘\n"
      ]
     },
     "metadata": {},
     "output_type": "display_data"
    },
    {
     "data": {
      "text/html": [
       "<pre style=\"white-space:pre;overflow-x:auto;line-height:normal;font-family:Menlo,'DejaVu Sans Mono',consolas,'Courier New',monospace\"><span style=\"font-weight: bold\"> Total params: </span><span style=\"color: #00af00; text-decoration-color: #00af00\">775,302</span> (2.96 MB)\n",
       "</pre>\n"
      ],
      "text/plain": [
       "\u001b[1m Total params: \u001b[0m\u001b[38;5;34m775,302\u001b[0m (2.96 MB)\n"
      ]
     },
     "metadata": {},
     "output_type": "display_data"
    },
    {
     "data": {
      "text/html": [
       "<pre style=\"white-space:pre;overflow-x:auto;line-height:normal;font-family:Menlo,'DejaVu Sans Mono',consolas,'Courier New',monospace\"><span style=\"font-weight: bold\"> Trainable params: </span><span style=\"color: #00af00; text-decoration-color: #00af00\">775,302</span> (2.96 MB)\n",
       "</pre>\n"
      ],
      "text/plain": [
       "\u001b[1m Trainable params: \u001b[0m\u001b[38;5;34m775,302\u001b[0m (2.96 MB)\n"
      ]
     },
     "metadata": {},
     "output_type": "display_data"
    },
    {
     "data": {
      "text/html": [
       "<pre style=\"white-space:pre;overflow-x:auto;line-height:normal;font-family:Menlo,'DejaVu Sans Mono',consolas,'Courier New',monospace\"><span style=\"font-weight: bold\"> Non-trainable params: </span><span style=\"color: #00af00; text-decoration-color: #00af00\">0</span> (0.00 B)\n",
       "</pre>\n"
      ],
      "text/plain": [
       "\u001b[1m Non-trainable params: \u001b[0m\u001b[38;5;34m0\u001b[0m (0.00 B)\n"
      ]
     },
     "metadata": {},
     "output_type": "display_data"
    },
    {
     "name": "stdout",
     "output_type": "stream",
     "text": [
      "\n",
      "Training the Autoencoder Model...\n",
      "Epoch 1/50\n",
      "\u001b[1m30/30\u001b[0m \u001b[32m━━━━━━━━━━━━━━━━━━━━\u001b[0m\u001b[37m\u001b[0m \u001b[1m3s\u001b[0m 66ms/step - loss: 16.9029 - val_loss: 16.6555\n",
      "Epoch 2/50\n",
      "\u001b[1m30/30\u001b[0m \u001b[32m━━━━━━━━━━━━━━━━━━━━\u001b[0m\u001b[37m\u001b[0m \u001b[1m2s\u001b[0m 51ms/step - loss: 14.5531 - val_loss: 20.3871\n",
      "Epoch 3/50\n",
      "\u001b[1m30/30\u001b[0m \u001b[32m━━━━━━━━━━━━━━━━━━━━\u001b[0m\u001b[37m\u001b[0m \u001b[1m2s\u001b[0m 52ms/step - loss: 5.3133 - val_loss: 17.7080\n",
      "Epoch 4/50\n",
      "\u001b[1m30/30\u001b[0m \u001b[32m━━━━━━━━━━━━━━━━━━━━\u001b[0m\u001b[37m\u001b[0m \u001b[1m2s\u001b[0m 61ms/step - loss: 2.8506 - val_loss: 17.2681\n",
      "Epoch 5/50\n",
      "\u001b[1m30/30\u001b[0m \u001b[32m━━━━━━━━━━━━━━━━━━━━\u001b[0m\u001b[37m\u001b[0m \u001b[1m2s\u001b[0m 55ms/step - loss: 1.2523 - val_loss: 17.1867\n",
      "Epoch 6/50\n",
      "\u001b[1m30/30\u001b[0m \u001b[32m━━━━━━━━━━━━━━━━━━━━\u001b[0m\u001b[37m\u001b[0m \u001b[1m2s\u001b[0m 52ms/step - loss: 0.7334 - val_loss: 17.3052\n",
      "Epoch 7/50\n",
      "\u001b[1m30/30\u001b[0m \u001b[32m━━━━━━━━━━━━━━━━━━━━\u001b[0m\u001b[37m\u001b[0m \u001b[1m1s\u001b[0m 48ms/step - loss: 0.4062 - val_loss: 17.2796\n",
      "Epoch 8/50\n",
      "\u001b[1m30/30\u001b[0m \u001b[32m━━━━━━━━━━━━━━━━━━━━\u001b[0m\u001b[37m\u001b[0m \u001b[1m1s\u001b[0m 50ms/step - loss: 0.2649 - val_loss: 17.2317\n",
      "Epoch 9/50\n",
      "\u001b[1m30/30\u001b[0m \u001b[32m━━━━━━━━━━━━━━━━━━━━\u001b[0m\u001b[37m\u001b[0m \u001b[1m2s\u001b[0m 53ms/step - loss: 0.2469 - val_loss: 17.2370\n",
      "Epoch 10/50\n",
      "\u001b[1m30/30\u001b[0m \u001b[32m━━━━━━━━━━━━━━━━━━━━\u001b[0m\u001b[37m\u001b[0m \u001b[1m2s\u001b[0m 51ms/step - loss: 0.2338 - val_loss: 17.2223\n",
      "Epoch 11/50\n",
      "\u001b[1m30/30\u001b[0m \u001b[32m━━━━━━━━━━━━━━━━━━━━\u001b[0m\u001b[37m\u001b[0m \u001b[1m1s\u001b[0m 49ms/step - loss: 0.1769 - val_loss: 17.1879\n",
      "Epoch 12/50\n",
      "\u001b[1m30/30\u001b[0m \u001b[32m━━━━━━━━━━━━━━━━━━━━\u001b[0m\u001b[37m\u001b[0m \u001b[1m1s\u001b[0m 49ms/step - loss: 0.1722 - val_loss: 17.1597\n",
      "Epoch 13/50\n",
      "\u001b[1m30/30\u001b[0m \u001b[32m━━━━━━━━━━━━━━━━━━━━\u001b[0m\u001b[37m\u001b[0m \u001b[1m2s\u001b[0m 53ms/step - loss: 0.1308 - val_loss: 17.1774\n",
      "Epoch 14/50\n",
      "\u001b[1m30/30\u001b[0m \u001b[32m━━━━━━━━━━━━━━━━━━━━\u001b[0m\u001b[37m\u001b[0m \u001b[1m1s\u001b[0m 49ms/step - loss: 0.1718 - val_loss: 17.1352\n",
      "Epoch 15/50\n",
      "\u001b[1m30/30\u001b[0m \u001b[32m━━━━━━━━━━━━━━━━━━━━\u001b[0m\u001b[37m\u001b[0m \u001b[1m1s\u001b[0m 47ms/step - loss: 0.1445 - val_loss: 17.1444\n",
      "Epoch 16/50\n",
      "\u001b[1m30/30\u001b[0m \u001b[32m━━━━━━━━━━━━━━━━━━━━\u001b[0m\u001b[37m\u001b[0m \u001b[1m1s\u001b[0m 47ms/step - loss: 0.1695 - val_loss: 17.0972\n",
      "Epoch 17/50\n",
      "\u001b[1m30/30\u001b[0m \u001b[32m━━━━━━━━━━━━━━━━━━━━\u001b[0m\u001b[37m\u001b[0m \u001b[1m2s\u001b[0m 54ms/step - loss: 0.1880 - val_loss: 17.1474\n",
      "Epoch 18/50\n",
      "\u001b[1m30/30\u001b[0m \u001b[32m━━━━━━━━━━━━━━━━━━━━\u001b[0m\u001b[37m\u001b[0m \u001b[1m1s\u001b[0m 49ms/step - loss: 0.1687 - val_loss: 17.0619\n",
      "Epoch 19/50\n",
      "\u001b[1m30/30\u001b[0m \u001b[32m━━━━━━━━━━━━━━━━━━━━\u001b[0m\u001b[37m\u001b[0m \u001b[1m1s\u001b[0m 46ms/step - loss: 0.1974 - val_loss: 17.1142\n",
      "Epoch 20/50\n",
      "\u001b[1m30/30\u001b[0m \u001b[32m━━━━━━━━━━━━━━━━━━━━\u001b[0m\u001b[37m\u001b[0m \u001b[1m1s\u001b[0m 46ms/step - loss: 0.2133 - val_loss: 17.0498\n",
      "Epoch 21/50\n",
      "\u001b[1m30/30\u001b[0m \u001b[32m━━━━━━━━━━━━━━━━━━━━\u001b[0m\u001b[37m\u001b[0m \u001b[1m1s\u001b[0m 48ms/step - loss: 0.1883 - val_loss: 17.0557\n",
      "Epoch 22/50\n",
      "\u001b[1m30/30\u001b[0m \u001b[32m━━━━━━━━━━━━━━━━━━━━\u001b[0m\u001b[37m\u001b[0m \u001b[1m1s\u001b[0m 47ms/step - loss: 0.1458 - val_loss: 17.0463\n",
      "Epoch 23/50\n",
      "\u001b[1m30/30\u001b[0m \u001b[32m━━━━━━━━━━━━━━━━━━━━\u001b[0m\u001b[37m\u001b[0m \u001b[1m2s\u001b[0m 51ms/step - loss: 0.1676 - val_loss: 17.0767\n",
      "Epoch 24/50\n",
      "\u001b[1m30/30\u001b[0m \u001b[32m━━━━━━━━━━━━━━━━━━━━\u001b[0m\u001b[37m\u001b[0m \u001b[1m1s\u001b[0m 49ms/step - loss: 0.1848 - val_loss: 16.9933\n",
      "Epoch 25/50\n",
      "\u001b[1m30/30\u001b[0m \u001b[32m━━━━━━━━━━━━━━━━━━━━\u001b[0m\u001b[37m\u001b[0m \u001b[1m2s\u001b[0m 55ms/step - loss: 0.1759 - val_loss: 17.0190\n",
      "Epoch 26/50\n",
      "\u001b[1m30/30\u001b[0m \u001b[32m━━━━━━━━━━━━━━━━━━━━\u001b[0m\u001b[37m\u001b[0m \u001b[1m1s\u001b[0m 48ms/step - loss: 0.1976 - val_loss: 16.9913\n",
      "Epoch 27/50\n",
      "\u001b[1m30/30\u001b[0m \u001b[32m━━━━━━━━━━━━━━━━━━━━\u001b[0m\u001b[37m\u001b[0m \u001b[1m1s\u001b[0m 47ms/step - loss: 0.2134 - val_loss: 17.0218\n",
      "Epoch 28/50\n",
      "\u001b[1m30/30\u001b[0m \u001b[32m━━━━━━━━━━━━━━━━━━━━\u001b[0m\u001b[37m\u001b[0m \u001b[1m2s\u001b[0m 51ms/step - loss: 0.1696 - val_loss: 16.9737\n",
      "Epoch 29/50\n",
      "\u001b[1m30/30\u001b[0m \u001b[32m━━━━━━━━━━━━━━━━━━━━\u001b[0m\u001b[37m\u001b[0m \u001b[1m1s\u001b[0m 48ms/step - loss: 0.1331 - val_loss: 16.9603\n",
      "Epoch 30/50\n",
      "\u001b[1m30/30\u001b[0m \u001b[32m━━━━━━━━━━━━━━━━━━━━\u001b[0m\u001b[37m\u001b[0m \u001b[1m1s\u001b[0m 46ms/step - loss: 0.1442 - val_loss: 16.9573\n",
      "Epoch 31/50\n",
      "\u001b[1m30/30\u001b[0m \u001b[32m━━━━━━━━━━━━━━━━━━━━\u001b[0m\u001b[37m\u001b[0m \u001b[1m1s\u001b[0m 48ms/step - loss: 0.1430 - val_loss: 16.9823\n",
      "Epoch 32/50\n",
      "\u001b[1m30/30\u001b[0m \u001b[32m━━━━━━━━━━━━━━━━━━━━\u001b[0m\u001b[37m\u001b[0m \u001b[1m1s\u001b[0m 47ms/step - loss: 0.1516 - val_loss: 16.9556\n",
      "Epoch 33/50\n",
      "\u001b[1m30/30\u001b[0m \u001b[32m━━━━━━━━━━━━━━━━━━━━\u001b[0m\u001b[37m\u001b[0m \u001b[1m1s\u001b[0m 48ms/step - loss: 0.1098 - val_loss: 16.9606\n",
      "Epoch 34/50\n",
      "\u001b[1m30/30\u001b[0m \u001b[32m━━━━━━━━━━━━━━━━━━━━\u001b[0m\u001b[37m\u001b[0m \u001b[1m1s\u001b[0m 46ms/step - loss: 0.0932 - val_loss: 16.9339\n",
      "Epoch 35/50\n",
      "\u001b[1m30/30\u001b[0m \u001b[32m━━━━━━━━━━━━━━━━━━━━\u001b[0m\u001b[37m\u001b[0m \u001b[1m2s\u001b[0m 51ms/step - loss: 0.0909 - val_loss: 16.9305\n",
      "Epoch 36/50\n",
      "\u001b[1m30/30\u001b[0m \u001b[32m━━━━━━━━━━━━━━━━━━━━\u001b[0m\u001b[37m\u001b[0m \u001b[1m2s\u001b[0m 51ms/step - loss: 0.1105 - val_loss: 16.9418\n",
      "Epoch 37/50\n",
      "\u001b[1m30/30\u001b[0m \u001b[32m━━━━━━━━━━━━━━━━━━━━\u001b[0m\u001b[37m\u001b[0m \u001b[1m1s\u001b[0m 47ms/step - loss: 0.0963 - val_loss: 16.9305\n",
      "Epoch 38/50\n",
      "\u001b[1m30/30\u001b[0m \u001b[32m━━━━━━━━━━━━━━━━━━━━\u001b[0m\u001b[37m\u001b[0m \u001b[1m1s\u001b[0m 49ms/step - loss: 0.1078 - val_loss: 16.9189\n",
      "Epoch 39/50\n",
      "\u001b[1m30/30\u001b[0m \u001b[32m━━━━━━━━━━━━━━━━━━━━\u001b[0m\u001b[37m\u001b[0m \u001b[1m2s\u001b[0m 53ms/step - loss: 0.0881 - val_loss: 16.9348\n",
      "Epoch 40/50\n",
      "\u001b[1m30/30\u001b[0m \u001b[32m━━━━━━━━━━━━━━━━━━━━\u001b[0m\u001b[37m\u001b[0m \u001b[1m2s\u001b[0m 53ms/step - loss: 0.1030 - val_loss: 16.8948\n",
      "Epoch 41/50\n",
      "\u001b[1m30/30\u001b[0m \u001b[32m━━━━━━━━━━━━━━━━━━━━\u001b[0m\u001b[37m\u001b[0m \u001b[1m2s\u001b[0m 53ms/step - loss: 0.0819 - val_loss: 16.8995\n",
      "Epoch 42/50\n",
      "\u001b[1m30/30\u001b[0m \u001b[32m━━━━━━━━━━━━━━━━━━━━\u001b[0m\u001b[37m\u001b[0m \u001b[1m1s\u001b[0m 50ms/step - loss: 0.1269 - val_loss: 16.8885\n",
      "Epoch 43/50\n",
      "\u001b[1m30/30\u001b[0m \u001b[32m━━━━━━━━━━━━━━━━━━━━\u001b[0m\u001b[37m\u001b[0m \u001b[1m2s\u001b[0m 49ms/step - loss: 0.1191 - val_loss: 16.9026\n",
      "Epoch 44/50\n",
      "\u001b[1m30/30\u001b[0m \u001b[32m━━━━━━━━━━━━━━━━━━━━\u001b[0m\u001b[37m\u001b[0m \u001b[1m1s\u001b[0m 49ms/step - loss: 0.0639 - val_loss: 16.9005\n",
      "Epoch 45/50\n",
      "\u001b[1m30/30\u001b[0m \u001b[32m━━━━━━━━━━━━━━━━━━━━\u001b[0m\u001b[37m\u001b[0m \u001b[1m1s\u001b[0m 50ms/step - loss: 0.0841 - val_loss: 16.9006\n",
      "Epoch 46/50\n",
      "\u001b[1m30/30\u001b[0m \u001b[32m━━━━━━━━━━━━━━━━━━━━\u001b[0m\u001b[37m\u001b[0m \u001b[1m1s\u001b[0m 47ms/step - loss: 0.0650 - val_loss: 16.8965\n",
      "Epoch 47/50\n",
      "\u001b[1m30/30\u001b[0m \u001b[32m━━━━━━━━━━━━━━━━━━━━\u001b[0m\u001b[37m\u001b[0m \u001b[1m1s\u001b[0m 46ms/step - loss: 0.0699 - val_loss: 16.8971\n",
      "Epoch 48/50\n",
      "\u001b[1m30/30\u001b[0m \u001b[32m━━━━━━━━━━━━━━━━━━━━\u001b[0m\u001b[37m\u001b[0m \u001b[1m1s\u001b[0m 47ms/step - loss: 0.0615 - val_loss: 16.9041\n",
      "Epoch 49/50\n",
      "\u001b[1m30/30\u001b[0m \u001b[32m━━━━━━━━━━━━━━━━━━━━\u001b[0m\u001b[37m\u001b[0m \u001b[1m1s\u001b[0m 48ms/step - loss: 0.0643 - val_loss: 16.8937\n",
      "Epoch 50/50\n",
      "\u001b[1m30/30\u001b[0m \u001b[32m━━━━━━━━━━━━━━━━━━━━\u001b[0m\u001b[37m\u001b[0m \u001b[1m1s\u001b[0m 47ms/step - loss: 0.0736 - val_loss: 16.8781\n",
      "Autoencoder Model Training Finished.\n"
     ]
    }
   ],
   "source": [
    "import tensorflow as tf\n",
    "from tensorflow import keras\n",
    "from tensorflow.keras import layers\n",
    "import pandas as pd\n",
    "import numpy as np\n",
    "from sklearn.metrics import mean_squared_error\n",
    "\n",
    "# Get the number of products (items) and users from the pivot table\n",
    "num_items = pivot_table.shape[1]\n",
    "num_users = pivot_table.shape[0]\n",
    "\n",
    "print(f\"Number of users: {num_users}\")\n",
    "print(f\"Number of items: {num_items}\")\n",
    "\n",
    "# Define the autoencoder model\n",
    "input_layer = keras.Input(shape=(num_items,), name='user_rating')\n",
    "\n",
    "encoder = layers.Dense(256, activation='relu', name='encoder_1')(input_layer)\n",
    "encoder = layers.Dense(128, activation='relu', name='encoder_2')(encoder)\n",
    "encoder = layers.Dense(64, activation='relu', name='encoder_3')(encoder)\n",
    "\n",
    "decoder = layers.Dense(128, activation='relu', name='decoder_1')(encoder)\n",
    "decoder = layers.Dense(256, activation='relu', name='decoder_2')(decoder)\n",
    "\n",
    "output_layer = layers.Dense(num_items, activation='linear', name='decoder_output')(decoder)\n",
    "\n",
    "autoencoder = keras.Model(inputs=input_layer, outputs=output_layer, name='autoencoder')\n",
    "\n",
    "# --- INSERT: masked MSE loss that ignores zeros ---\n",
    "def masked_mse(y_true, y_pred):\n",
    "    # mask = 1 where the true rating is non-zero, else 0\n",
    "    mask = tf.cast(tf.not_equal(y_true, 0.0), dtype=tf.float32)\n",
    "    # compute squared errors only on observed entries\n",
    "    se = tf.square((y_true - y_pred) * mask)\n",
    "    # sum and normalize by number of observed entries\n",
    "    return tf.reduce_sum(se) / (tf.reduce_sum(mask) + 1e-8)\n",
    "\n",
    "# Compile with masked loss instead of plain 'mse'\n",
    "autoencoder.compile(\n",
    "    optimizer=keras.optimizers.Adam(learning_rate=0.001),\n",
    "    loss=masked_mse,\n",
    ")\n",
    "\n",
    "print(\"\\nAutoencoder Model Summary:\")\n",
    "autoencoder.summary()\n",
    "\n",
    "print(\"\\nTraining the Autoencoder Model...\")\n",
    "history = autoencoder.fit(\n",
    "    pivot_table.values,\n",
    "    pivot_table.values,\n",
    "    epochs=50,\n",
    "    batch_size=32,\n",
    "    shuffle=True,\n",
    "    verbose=1,\n",
    "    validation_split=0.2\n",
    ")\n",
    "\n",
    "print(\"Autoencoder Model Training Finished.\")\n"
   ]
  },
  {
   "cell_type": "markdown",
   "id": "f76a4f51-8585-4249-acfa-3f026ba6e5bb",
   "metadata": {
    "jp-MarkdownHeadingCollapsed": true
   },
   "source": [
    "# Encoded recomdenations"
   ]
  },
  {
   "cell_type": "code",
   "execution_count": 192,
   "id": "ee53ebfd16e396ba",
   "metadata": {
    "ExecuteTime": {
     "end_time": "2025-05-21T22:09:53.290926Z",
     "start_time": "2025-05-21T22:09:53.288456Z"
    }
   },
   "outputs": [],
   "source": [
    "# Function to get Autoencoder-based recommendations for a given user\n",
    "def get_autoencoder_recommendations(user_id, autoencoder_model, pivot_table, n=10):\n",
    "    if user_id not in pivot_table.index:\n",
    "        print(f\"User ID '{user_id}' not found in the pivot table.\")\n",
    "        return pd.Series()\n",
    "\n",
    "    # Get the user's rating vector from the pivot table\n",
    "    user_ratings = pivot_table.loc[[user_id]].values\n",
    "    # Predict the ratings for all items using the trained autoencoder model\n",
    "    predicted_ratings = autoencoder_model.predict(user_ratings, verbose=0).flatten()\n",
    "    # Create a pandas Series of predicted ratings with product_id as index\n",
    "    predicted_ratings_series = pd.Series(predicted_ratings, index=pivot_table.columns)\n",
    "    # Get the list of items already rated by the target user\n",
    "    user_rated_items = pivot_table.loc[user_id][pivot_table.loc[user_id] > 0].index\n",
    "    # Drop items already rated by the user from the recommendations\n",
    "    recommendations = predicted_ratings_series.drop(user_rated_items, errors='ignore')\n",
    "    # Sort recommendations by predicted rating in descending order\n",
    "    recommendations = recommendations.sort_values(ascending=False)\n",
    "    # Return the top N product IDs\n",
    "    return recommendations.head(n)"
   ]
  },
  {
   "cell_type": "markdown",
   "id": "67d86483-ae0e-4efb-a937-38bb5d3819f9",
   "metadata": {},
   "source": [
    "# Named recomendation"
   ]
  },
  {
   "cell_type": "code",
   "execution_count": 193,
   "id": "395c9f64-a78d-41fa-ad87-95c649f6ebe2",
   "metadata": {},
   "outputs": [],
   "source": [
    "def get_named_recommendations_autoencoder(user_id, \n",
    "                                          autoencoder_model, \n",
    "                                          pivot_table, \n",
    "                                          item_enc, \n",
    "                                          products, \n",
    "                                          n=5):\n",
    "\n",
    "    if user_id not in pivot_table.index:\n",
    "        raise ValueError(f\"User ID {user_id} not in pivot_table\")\n",
    "\n",
    "    # 1. Get user's rating vector and predict reconstructed ratings\n",
    "    user_vec = pivot_table.loc[[user_id]].values  # shape (1, num_items)\n",
    "    pred_vec = autoencoder_model.predict(user_vec, verbose=0).flatten()\n",
    "\n",
    "    # 2. Build a Series of predictions indexed by encoded product_id\n",
    "    pred_series = pd.Series(pred_vec, index=pivot_table.columns)\n",
    "\n",
    "    # 3. Exclude items the user has already rated\n",
    "    seen = pivot_table.loc[user_id][pivot_table.loc[user_id] > 0].index\n",
    "    pred_series = pred_series.drop(seen, errors='ignore')\n",
    "\n",
    "    # 4. Select top-n encoded product_ids\n",
    "    top_n = pred_series.sort_values(ascending=False).head(n)\n",
    "\n",
    "    # 5. Decode product_ids → original product_id, look up names\n",
    "    recommendations = []\n",
    "    for encoded_iid, score in top_n.items():\n",
    "        orig_pid = item_enc.inverse_transform([encoded_iid])[0]\n",
    "        name = products.loc[orig_pid, 'product_name']\n",
    "        recommendations.append((orig_pid, name, float(score)))\n",
    "\n",
    "    return recommendations\n"
   ]
  },
  {
   "cell_type": "code",
   "execution_count": 194,
   "id": "427466a4-faa7-4e12-9a48-793ba7753b2f",
   "metadata": {},
   "outputs": [
    {
     "name": "stdout",
     "output_type": "stream",
     "text": [
      "B0188KPKB2 — Preethi Blue Leaf Diamond MG-214 mixer grinder 750 watt (Blue/White), 3 jars & Flexi Lid, FBT motor with 2yr Guarantee & Lifelong Free Service: 5.42\n",
      "B078HRR1XV — Wacom One by CTL-472/K0-CX Digital Drawing Graphics Pen Tablet (Red & Black) Small (6-inch x 3.5-inch)(15x8cm) | Battery Free Cordless Pen with 2048 Pressure Level: 5.33\n",
      "B00OFM6PEO — Storite USB Extension Cable USB 3.0 Male to Female Extension Cable High Speed 5GBps Extension Cable Data Transfer for Keyboard, Mouse, Flash Drive, Hard Drive, Printer and More- 1.5M - Blue: 5.31\n",
      "B08Y5QJTVK — Duracell CR2025 3V Lithium Coin Battery, 5 pcs, 2025 Coin Button Cell Battery, DL2025: 5.31\n",
      "B09J4YQYX3 — Borosil Electric Egg Boiler, 8 Egg Capacity, For Hard, Soft, Medium Boiled Eggs, Steamed Vegetables, Transparent Lid, Stainless Steel Exterior (500 Watts): 5.21\n"
     ]
    }
   ],
   "source": [
    "\n",
    "USER = 90\n",
    "recs = get_named_recommendations_autoencoder(\n",
    "    user_id=USER,\n",
    "    autoencoder_model=autoencoder,\n",
    "    pivot_table=pivot_table,\n",
    "    item_enc=item_enc,\n",
    "    products=products,\n",
    "    n=5\n",
    ")\n",
    "\n",
    "for pid, name, score in recs:\n",
    "    print(f\"{pid} — {name}: {score:.2f}\")\n"
   ]
  },
  {
   "cell_type": "code",
   "execution_count": 195,
   "id": "b99aba46-3860-4f8e-9973-b9f5b4a5bcbe",
   "metadata": {},
   "outputs": [
    {
     "data": {
      "text/plain": [
       "'Gizga Essentials USB WiFi Adapter for PC, 150 Mbps Wireless Network Adapter for Desktop - Nano Size WiFi Dongle Compatible with Windows, Mac OS & Linux Kernel | WPA/WPA2 Encryption Standards| Black'"
      ]
     },
     "execution_count": 195,
     "metadata": {},
     "output_type": "execute_result"
    }
   ],
   "source": [
    "original_product_id = item_enc.inverse_transform([data.loc[USER, \"product_id\"]])[0]\n",
    "product_name = products.loc[original_product_id, 'product_name']\n",
    "product_name"
   ]
  },
  {
   "cell_type": "markdown",
   "id": "9bf54251559bc898",
   "metadata": {},
   "source": [
    "### Calculate RMSE"
   ]
  },
  {
   "cell_type": "code",
   "execution_count": 196,
   "id": "c12c6965a10ae078",
   "metadata": {
    "ExecuteTime": {
     "end_time": "2025-05-21T22:09:53.383357Z",
     "start_time": "2025-05-21T22:09:53.304539Z"
    }
   },
   "outputs": [
    {
     "name": "stdout",
     "output_type": "stream",
     "text": [
      "\n",
      "Evaluating Model Performance...\n",
      "Autoencoder RMSE (non-zero ratings only): 1.8938\n"
     ]
    }
   ],
   "source": [
    "# Calculate RMSE for model evaluation\n",
    "print(\"\\nEvaluating Model Performance...\")\n",
    "\n",
    "# Reconstruct all ratings using the trained autoencoder\n",
    "reconstructed_ratings = autoencoder.predict(pivot_table.values, verbose=0)\n",
    "\n",
    "# Calculate RMSE between original and reconstructed ratings\n",
    "# Only consider non-zero ratings (actual ratings, not missing values)\n",
    "original_flat = pivot_table.values.flatten()\n",
    "reconstructed_flat = reconstructed_ratings.flatten()\n",
    "\n",
    "# Create mask for non-zero values (actual ratings)\n",
    "mask = original_flat > 0\n",
    "\n",
    "# Calculate RMSE only for actual ratings\n",
    "if np.sum(mask) > 0:\n",
    "    rmse = np.sqrt(mean_squared_error(original_flat[mask], reconstructed_flat[mask]))\n",
    "    print(f\"Autoencoder RMSE (non-zero ratings only): {rmse:.4f}\")\n",
    "else:\n",
    "    print(\"No non-zero ratings found for RMSE calculation\")\n",
    "\n",
    "# Calculate overall RMSE (including zero values)\n",
    "#overall_rmse = np.sqrt(mean_squared_error(original_flat, reconstructed_flat))\n",
    "#print(f\"Autoencoder RMSE (all values): {overall_rmse:.4f}\")"
   ]
  },
  {
   "cell_type": "markdown",
   "id": "e7c0f08969ec9515",
   "metadata": {},
   "source": [
    "### Calculate Precision@k and Recall@k"
   ]
  },
  {
   "cell_type": "code",
   "execution_count": 197,
   "id": "99a94cfb812876a8",
   "metadata": {
    "ExecuteTime": {
     "end_time": "2025-05-21T22:10:04.455307Z",
     "start_time": "2025-05-21T22:09:53.430685Z"
    }
   },
   "outputs": [],
   "source": [
    "# Prepare predictions in the format expected by precision_recall_at_k function\n",
    "# Iterate through each user and their items in the pivot_table\n",
    "autoencoder_predictions_for_metrics = []\n",
    "for user_idx, user_id in enumerate(pivot_table.index):\n",
    "    for product_idx, product_id in enumerate(pivot_table.columns):\n",
    "        true_rating = pivot_table.iloc[user_idx, product_idx]\n",
    "        predicted_rating = reconstructed_ratings[user_idx, product_idx]\n",
    "\n",
    "        # Only include user-item pairs where a true rating exists (i.e., not an unrated item, typically 0 in pivot_table)\n",
    "        # We assume 0 in pivot_table means unrated, and actual ratings are > 0.\n",
    "        # If your unrated values are NaN, change `true_rating > 0` to `not pd.isna(true_rating)`\n",
    "        if true_rating > 0:\n",
    "            autoencoder_predictions_for_metrics.append((user_id, product_id, true_rating, predicted_rating, None))\n",
    "# Set your desired k and rating threshold for 'relevant' items for the Autoencoder\n",
    "K_AE = 10\n",
    "RATING_THRESHOLD_AE = 3.5 # Assuming a rating of 3.5 or higher is considered 'relevant'\n",
    "\n",
    "# Calculate Precision@k and Recall@k using the prepared predictions\n",
    "precisions_ae, recalls_ae = precision_recall_at_k(\n",
    "    autoencoder_predictions_for_metrics,\n",
    "    k=K_AE,\n",
    "    threshold=RATING_THRESHOLD_AE\n",
    ")"
   ]
  },
  {
   "cell_type": "code",
   "execution_count": 198,
   "id": "929bf06b-4051-477f-8458-bb72b5b23311",
   "metadata": {},
   "outputs": [
    {
     "name": "stdout",
     "output_type": "stream",
     "text": [
      "\n",
      "Calculating Precision@k and Recall@k for Autoencoder model...\n",
      "Autoencoder Precision@10: 0.9966\n",
      "Autoencoder Recall@10: 0.7715\n"
     ]
    }
   ],
   "source": [
    "# --- New code for Precision@k and Recall@k for Autoencoder ---\n",
    "print(\"\\nCalculating Precision@k and Recall@k for Autoencoder model...\")\n",
    "# Average precision and recall for Autoencoder\n",
    "avg_precision_ae = sum(prec for prec in precisions_ae.values()) / len(precisions_ae)\n",
    "avg_recall_ae = sum(rec for rec in recalls_ae.values()) / len(recalls_ae)\n",
    "\n",
    "print(f\"Autoencoder Precision@{K_AE}: {avg_precision_ae:.4f}\")\n",
    "print(f\"Autoencoder Recall@{K_AE}: {avg_recall_ae:.4f}\")"
   ]
  },
  {
   "cell_type": "code",
   "execution_count": 199,
   "id": "a6e0e1a734d8ca5b",
   "metadata": {
    "ExecuteTime": {
     "end_time": "2025-05-21T22:10:20.671119Z",
     "start_time": "2025-05-21T22:10:20.603191Z"
    }
   },
   "outputs": [
    {
     "data": {
      "image/png": "[encoded data removed]",
      "text/plain": [
       "<Figure size 640x480 with 1 Axes>"
      ]
     },
     "metadata": {},
     "output_type": "display_data"
    }
   ],
   "source": [
    "# ## 8. Visualizations\n",
    "import matplotlib.pyplot as plt\n",
    "# Plot training loss of autoencoder\n",
    "plt.figure()\n",
    "plt.plot(history.history['loss'], label='Train Loss')\n",
    "plt.plot(history.history['val_loss'], label='Val Loss')\n",
    "plt.title('Autoencoder Loss')\n",
    "plt.xlabel('Epoch')\n",
    "plt.ylabel('MSE Loss')\n",
    "plt.legend()\n",
    "plt.show()"
   ]
  },
  {
   "cell_type": "markdown",
   "id": "1f35208d3ac86625",
   "metadata": {},
   "source": [
    "# Comparison"
   ]
  },
  {
   "cell_type": "code",
   "execution_count": 200,
   "id": "5257e54893afc16f",
   "metadata": {
    "ExecuteTime": {
     "end_time": "2025-05-21T22:10:23.874533Z",
     "start_time": "2025-05-21T22:10:23.871832Z"
    }
   },
   "outputs": [],
   "source": [
    "# --- 7. Comparison ---\n",
    "# Use the calculated RMSE and Precision@10 values\n",
    "svd_rmse = rmse_svd # RMSE from SVD model evaluation\n",
    "auto_rmse = rmse # RMSE from Autoencoder (non-zero ratings)\n",
    "svd_prec = avg_precision # Precision@10 for SVD\n",
    "auto_prec = avg_precision_ae # Precision@10 for Autoencoder\n",
    "svd_recall = avg_recall # Recall@10 for SVD\n",
    "auto_recall = avg_recall_ae # Recall@10 for Autoencoder"
   ]
  },
  {
   "cell_type": "code",
   "execution_count": 205,
   "id": "faad068e05dee6d7",
   "metadata": {
    "ExecuteTime": {
     "end_time": "2025-05-21T22:10:24.372367Z",
     "start_time": "2025-05-21T22:10:24.368791Z"
    }
   },
   "outputs": [
    {
     "name": "stdout",
     "output_type": "stream",
     "text": [
      "\n",
      "============================================================\n",
      "MODEL COMPARISON RESULTS\n",
      "============================================================\n",
      "| Model        | Test RMSE | Precision@10 | Recall@10 |\n",
      "|--------------|-----------|--------------|-----------|\n",
      "| SVD          | 0.2593    | 0.9856       | 0.9988      |\n",
      "| Autoencoder  | 1.8938    | 0.9966       | 0.7715      |\n",
      "| kNN          |   0.2574  |         0.9856 |        1.0000 |\n"
     ]
    }
   ],
   "source": [
    "print(\"\\n\" + \"=\" * 60)\n",
    "print(\"MODEL COMPARISON RESULTS\")\n",
    "print(\"=\" * 60)\n",
    "\n",
    "print(\"| Model        | Test RMSE | Precision@10 | Recall@10 |\")\n",
    "print(\"|--------------|-----------|--------------|-----------|\")\n",
    "print(f\"| SVD          | {svd_rmse:.4f}    | {svd_prec:.4f}       | {svd_recall:.4f}      |\")\n",
    "print(f\"| Autoencoder  | {auto_rmse:.4f}    | {auto_prec:.4f}       | {auto_recall:.4f}      |\")\n",
    "print(f\"| kNN          | {rmse_knn:>8.4f}  | {avg_prec_knn:>14.4f} | {avg_rec_knn:>13.4f} |\")"
   ]
  },
  {
   "cell_type": "code",
   "execution_count": 212,
   "id": "fe6704c2-b069-4f0a-a35a-63a883a0d681",
   "metadata": {},
   "outputs": [
    {
     "data": {
      "image/png": "[encoded data removed]",
      "text/plain": [
       "<Figure size 1000x600 with 1 Axes>"
      ]
     },
     "metadata": {},
     "output_type": "display_data"
    }
   ],
   "source": [
    "import matplotlib.pyplot as plt\n",
    "import numpy as np\n",
    "import pandas as pd\n",
    "\n",
    "# Example data (replace with your actual values)\n",
    "data = {\n",
    "    \"Model\": [\"SVD\", \"KNN\", \"Autoencoder\"],\n",
    "    \"Test RMSE\": [svd_rmse, rmse_knn , auto_rmse],      # Replace with your RMSE values\n",
    "    \"Precision@10\": [svd_prec, avg_prec_knn , auto_prec],   # Replace with your Precision@10 values\n",
    "    \"Recall@10\": [svd_recall, avg_rec_knn,auto_recall]       # Replace with your Recall@10 values\n",
    "}\n",
    "\n",
    "df = pd.DataFrame(data)\n",
    "\n",
    "# Set up the plot\n",
    "fig, ax = plt.subplots(figsize=(10, 6))\n",
    "bar_width = 0.25\n",
    "index = np.arange(len(df))\n",
    "\n",
    "# Plot each metric\n",
    "b1 = ax.bar(index, df[\"Test RMSE\"], bar_width, label=\"Test RMSE\", color=\"#FF6B6B\")\n",
    "b2 = ax.bar(index + bar_width, df[\"Precision@10\"], bar_width, label=\"Precision@10\", color=\"#4ECDC4\")\n",
    "b3 = ax.bar(index + 2*bar_width, df[\"Recall@10\"], bar_width, label=\"Recall@10\", color=\"#45B7D1\")\n",
    "\n",
    "# Add labels and title\n",
    "ax.set_xlabel(\"Models\", fontsize=12)\n",
    "ax.set_ylabel(\"Scores\", fontsize=12)\n",
    "ax.set_title(\"Model Comparison: RMSE, Precision@10, Recall@10\", fontsize=14)\n",
    "ax.set_xticks(index + bar_width)\n",
    "ax.set_xticklabels(df[\"Model\"])\n",
    "ax.legend()\n",
    "\n",
    "# Add value labels on top of bars\n",
    "def add_labels(bars):\n",
    "    for bar in bars:\n",
    "        height = bar.get_height()\n",
    "        ax.annotate(f\"{height:.4f}\",\n",
    "                    xy=(bar.get_x() + bar.get_width()/2, height),\n",
    "                    xytext=(0, 3),  # 3 points vertical offset\n",
    "                    textcoords=\"offset points\",\n",
    "                    ha=\"center\", va=\"bottom\", fontsize=10)\n",
    "\n",
    "for b in [b1, b2, b3]:\n",
    "    add_labels(b)\n",
    "\n",
    "plt.tight_layout()\n",
    "plt.grid(axis=\"y\", linestyle=\"--\", alpha=0.7)\n",
    "plt.show()"
   ]
  },
  {
   "cell_type": "code",
   "execution_count": 203,
   "id": "edff268bfaf99aa",
   "metadata": {
    "ExecuteTime": {
     "end_time": "2025-05-21T22:10:24.927654Z",
     "start_time": "2025-05-21T22:10:24.920755Z"
    }
   },
   "outputs": [
    {
     "name": "stdout",
     "output_type": "stream",
     "text": [
      "\n",
      "Detailed Analysis:\n",
      "- RMSE Difference: 1.6344\n",
      "- Precision@10 Difference: 0.0110\n",
      "- Autoencoder has 1.1% higher Precision@10\n",
      "- Recall@10 Difference: 0.2273\n",
      "- SVD has 29.5% higher Recall@10\n"
     ]
    }
   ],
   "source": [
    "# Additional analysis\n",
    "print(f\"\\nDetailed Analysis:\")\n",
    "print(f\"- RMSE Difference: {abs(svd_rmse - auto_rmse):.4f}\")\n",
    "\n",
    "if svd_prec > 0 and auto_prec > 0:  # Only compare if both values are valid\n",
    "    print(f\"- Precision@10 Difference: {abs(svd_prec - auto_prec):.4f}\")\n",
    "    if svd_prec > auto_prec:\n",
    "        print(f\"- SVD has {((svd_prec - auto_prec) / auto_prec * 100):.1f}% higher Precision@10\")\n",
    "    else:\n",
    "        print(f\"- Autoencoder has {((auto_prec - svd_prec) / svd_prec * 100):.1f}% higher Precision@10\")\n",
    "\n",
    "if svd_recall > 0 and auto_recall > 0:  # Only compare if both values are valid\n",
    "    print(f\"- Recall@10 Difference: {abs(svd_recall - auto_recall):.4f}\")\n",
    "    if svd_recall > auto_recall:\n",
    "        print(f\"- SVD has {((svd_recall - auto_recall) / auto_recall * 100):.1f}% higher Recall@10\")\n",
    "    else:\n",
    "        print(f\"- Autoencoder has {((auto_recall - svd_recall) / svd_recall * 100):.1f}% higher Recall@10\")\n"
   ]
  },
  {
   "cell_type": "markdown",
   "id": "91be9b181b8483c3",
   "metadata": {},
   "source": [
    "## 8. Key Differences Between Approaches\n",
    "\n",
    "| Aspect               | SVD Matrix Factorization               | Autoencoder Neural Model                  |\n",
    "|----------------------|----------------------------------------|-------------------------------------------|\n",
    "| Modeling style       | Linear latent-factor model             | Nonlinear deep model                      |\n",
    "| Data representation  | Sparse user–item matrix                | Same matrix, but encoded through layers   |\n",
    "| Interpretability     | Higher (latent factors interpretable)  | Lower (deep layers are a black box)       |\n",
    "| Training speed       | Fast (few parameters)                  | Slower (many weights, backpropagation)    |\n",
    "| Scalability          | Scales well with large sparse data     | May need more compute and memory          |\n",
    "| Cold-start           | struggle with it                       | Can integrate side features more naturally|\n",
    "| Typical use case     | Quick baseline with solid RMSE         | Advanced scenarios needing richer signals |\n",
    "| Sparsity     | Handles sparse data         | Struggles with sparsity |\n",
    "\t\t\n"
   ]
  },
  {
   "cell_type": "markdown",
   "id": "335fbaf3-e54c-4424-a74f-c16937b8a0b5",
   "metadata": {},
   "source": [
    "# Thank you"
   ]
  }
 ],
 "metadata": {
  "kernelspec": {
   "display_name": ".dsw_env",
   "language": "python",
   "name": "python3"
  },
  "language_info": {
   "codemirror_mode": {
    "name": "ipython",
    "version": 3
   },
   "file_extension": ".py",
   "mimetype": "text/x-python",
   "name": "python",
   "nbconvert_exporter": "python",
   "pygments_lexer": "ipython3",
   "version": "3.11.9"
  }
 },
 "nbformat": 4,
 "nbformat_minor": 5
}
